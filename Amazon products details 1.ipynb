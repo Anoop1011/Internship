{
 "cells": [
  {
   "cell_type": "code",
   "execution_count": 49,
   "id": "3e0792e1",
   "metadata": {},
   "outputs": [],
   "source": [
    "import selenium\n",
    "from selenium import webdriver\n",
    "from selenium.webdriver.common.by import By\n",
    "import pandas as pd\n",
    "from time import sleep\n",
    "from selenium.common.exceptions import ElementNotInteractableException\n",
    "from selenium.webdriver.support.ui import WebDriverWait as wait\n",
    "from selenium.webdriver.support import expected_conditions as EC\n",
    "from selenium.common.exceptions import NoSuchElementException\n",
    "\n",
    "import warnings\n",
    "warnings.filterwarnings('ignore')"
   ]
  },
  {
   "cell_type": "code",
   "execution_count": 2,
   "id": "54dc4a13",
   "metadata": {},
   "outputs": [],
   "source": [
    "driver = webdriver.Chrome(r'C:\\Users\\dell\\Downloads\\chromedriver_win32\\chromedriver.exe')\n",
    "import warnings"
   ]
  },
  {
   "cell_type": "code",
   "execution_count": 3,
   "id": "3aab32d1",
   "metadata": {},
   "outputs": [],
   "source": [
    "driver = webdriver.Chrome('chromedriver.exe')"
   ]
  },
  {
   "cell_type": "code",
   "execution_count": 4,
   "id": "a53fb224",
   "metadata": {},
   "outputs": [],
   "source": [
    "url = 'https://www.amazon.in/'\n",
    "driver.get(url)"
   ]
  },
  {
   "cell_type": "code",
   "execution_count": 5,
   "id": "b661be38",
   "metadata": {
    "scrolled": true
   },
   "outputs": [
    {
     "name": "stdout",
     "output_type": "stream",
     "text": [
      " Find Product Smart Watches\n"
     ]
    }
   ],
   "source": [
    "keyword = input(\" Find Product \")\n",
    "# create WebElement for a search box\n",
    "search_box = driver.find_element(By.ID, 'twotabsearchtextbox')\n",
    "# type the keyword in searchbox\n",
    "search_box.send_keys(keyword)\n",
    "# create WebElement for a search button\n",
    "search_button = driver.find_element(By.ID, 'nav-search-submit-button')\n",
    "# click search_button\n",
    "search_button.click()\n",
    "# wait for the page to download\n",
    "driver.implicitly_wait(5)"
   ]
  },
  {
   "cell_type": "code",
   "execution_count": 6,
   "id": "eabc4b6c",
   "metadata": {
    "scrolled": true
   },
   "outputs": [
    {
     "data": {
      "text/plain": [
       "27"
      ]
     },
     "execution_count": 6,
     "metadata": {},
     "output_type": "execute_result"
    }
   ],
   "source": [
    "Product_Name = driver.find_elements(By.XPATH,'//h2[@class=\"a-size-mini a-spacing-none a-color-base s-line-clamp-2\"]')\n",
    "len(Product_Name)"
   ]
  },
  {
   "cell_type": "code",
   "execution_count": 7,
   "id": "d7142f02",
   "metadata": {
    "scrolled": true
   },
   "outputs": [
    {
     "data": {
      "text/plain": [
       "['Noise ColorFit Pulse Grand Smart Watch with 1.69\"(42.9cm) HD Display, 60 Sports Modes, 150 Watch Faces, Fast Charge, Spo2, Stress, Sleep, Heart Rate Monitoring & IP68 Waterproof (Champagne Grey)',\n",
       " 'Fire-Boltt Phoenix Bluetooth Calling Smartwatch 1.3\" 240*240 PX High Res with 120+ Sports Modes, SpO2, Heart Rate Monitoring & IP68 Rating',\n",
       " 'boAt Xtend Smartwatch with Alexa Built-in, 1.69” HD Display, Multiple Watch Faces, Stress Monitor, Heart & SpO2 Monitoring, 14 Sports Modes, Sleep Monitor, 5 ATM & 7 Days Battery(Pitch Black)',\n",
       " 'Noise ColorFit Pulse Spo2 Smart Watch with 10 days battery life, 60+ Watch Faces, 1.4\" Full Touch HD Display Smartwatch, 24*7 Heart Rate Monitor Smart Band, Sleep Monitoring Smart Watches for Men and Women & IP68 Waterproof (Jet Black)',\n",
       " 'boAt Xtend Smartwatch with Alexa Built-in, 1.69” HD Display, Multiple Watch Faces, Stress Monitor, Heart & SpO2 Monitoring, 14 Sports Modes, Sleep Monitor, 5 ATM & 7 Days Battery(Sandy Cream)',\n",
       " 'boAt Xtend Smartwatch with Alexa Built-in, 1.69” HD Display, Multiple Watch Faces, Stress Monitor, Heart & SpO2 Monitoring, 14 Sports Modes, Sleep Monitor, 5 ATM & 7 Days Battery(Charcoal Black)',\n",
       " \"Amazfit GTS2 Mini (New Version) Smart Watch with Always-on AMOLED Display, Alexa Built-in, SpO2, 14 Days' Battery Life, 68 Sports Modes, GPS, HR, Sleep & Stress Monitoring (Breeze Blue)\",\n",
       " '',\n",
       " '',\n",
       " '',\n",
       " 'boAt Wave Lite Smartwatch with 1.69\" HD Display, Sleek Metal Body, HR & SpO2 Level Monitor, 140+ Watch Faces, Activity Tracker, Multiple Sports Modes, IP68 & 7 Days Battery Life(Active Black)',\n",
       " 'boAt Flash Edition Smart Watch with Activity Tracker, Multiple Sports Modes, 1.3\" Screen, 170+ Watch Faces, Sleep Monitor, Gesture, Camera & Music Control, IP68 & 7 Days Battery Life(Lightning Black)',\n",
       " 'Noise ColorFit Pulse Grand Smart Watch with 1.69\"(4.29cm) HD Display, 60 Sports Modes, 150 Watch Faces, Fast Charge, Spo2, Stress, Sleep, Heart Rate Monitoring & IP68 Waterproof (Jet Black)',\n",
       " 'Noise ColorFit Pulse Smartwatch with 1.4\" Full Touch HD Display, SpO2, Heart Rate, Sleep Monitors & 10-Day Battery - Deep Wine',\n",
       " 'Noise ColorFit Pro 2 Full Touch Control Smart Watch with 35g Weight & Upgraded LCD Display,IP68 Waterproof,Heart Rate Monitor,Sleep & Step Tracker,Call & Message Alerts & Long Battery Life (Jet Black)',\n",
       " 'Noise ColorFit Ultra 2 LE with 1.78\" Always On AMOLED Display, 368x448px (326 PPI) Best in Class Resolution, 100+ Watch Faces, Quick Replies, SpO2 & 24*7 Heart Rate Tracking Smart Watch (Mist Grey)',\n",
       " 'Noise ColorFit Pro 4 Bluetooth Calling Smart Watch with 1.72\" TruView Display, Fully-Functional Digital Crown, 311 PPI, 60Hz Refresh Rate, 500 NITS Brightness (Mint Green)',\n",
       " 'boAt Xtend Smartwatch with Alexa Built-in, 1.69” HD Display, Multiple Watch Faces, Stress Monitor, Heart & SpO2 Monitoring, 14 Sports Modes, Sleep Monitor, 5 ATM & 7 Days Battery(Charcoal Black)',\n",
       " 'boAt Newly Launched Wave Call Smart Watch with Bluetooth Calling, Dial Pad, 1.69” HD Display, Sharper Resolution, Slim Design, 150+ Watch Faces, HR & SpO2, Multiple Sports Modes & IP68',\n",
       " 'Noise ColorFit Ultra Buzz Bluetooth Calling Smart Watch with 1.75\" HD Display, 320x385 px Resolution, 100 Sports Modes, Stock Market Info Smartwatch for Men & Women (Charcoal Black)',\n",
       " 'Noise ColorFit Pulse Spo2 Smart Watch 1.4\" Full Touch HD Display, 10 Days Battery Life with Heart Rate, Sleep Monitoring & IP68 Waterproof (Mist Grey)',\n",
       " 'TAGG Verve NEO Smartwatch 1.69’’ HD Display | 60+ Sports Modes | 10 Days Battery | 150+ Maximum Watch Face Library | Waterproof | 24*7 HeartRate & Blood Oxygen Tracking | Games & Calculator | Black',\n",
       " 'boAt Xtend Smart Watch with Alexa Built-in, 1.69” HD Display, Multiple Watch Faces, Stress Monitor, HR & SpO2 Monitoring, 14 Sports Modes, Sleep Monitor, 5 ATM & 7 Days Battery Life(Olive Green)',\n",
       " 'Fire-Boltt Ninja 3 Smartwatch Full Touch 1.69” & 60 Sports Modes with IP68, Sp02 Tracking, Over 100 Cloud based watch faces',\n",
       " 'Noise ColorFit Pulse Smartwatch with 1.4\" Full Touch HD Display, SpO2, Heart Rate, Sleep Monitors & 10-Day Battery - Teal Green',\n",
       " 'Noise ColorFit Pulse Spo2 Smart Watch 1.4\" Full Touch HD Display, 10 Days Battery Life with Heart Rate, Sleep Monitoring & IP68 Waterproof (Mist Grey)',\n",
       " 'Zebronics ZEB-FIT280CH Smart Watch with Screen Size 3.55cm (1.39inch) 12 Sports Modes, IP68 Waterproof, Heart Rate, BP, SpO2, Caller ID, 7 Days Storage (Black)']"
      ]
     },
     "execution_count": 7,
     "metadata": {},
     "output_type": "execute_result"
    }
   ],
   "source": [
    "Name = []\n",
    "\n",
    "for i in Product_Name:\n",
    "    Name.append(i.text)\n",
    "Name"
   ]
  },
  {
   "cell_type": "code",
   "execution_count": 8,
   "id": "7619d09e",
   "metadata": {},
   "outputs": [
    {
     "data": {
      "text/plain": [
       "32"
      ]
     },
     "execution_count": 8,
     "metadata": {},
     "output_type": "execute_result"
    }
   ],
   "source": [
    "Price = driver.find_elements(By.XPATH,'//span[@class=\"a-price-whole\"]')\n",
    "len(Price)"
   ]
  },
  {
   "cell_type": "code",
   "execution_count": 9,
   "id": "880e3ccc",
   "metadata": {
    "scrolled": true
   },
   "outputs": [
    {
     "data": {
      "text/plain": [
       "['1,499',\n",
       " '1,499',\n",
       " '1,499',\n",
       " '1,799',\n",
       " '2,999',\n",
       " '2,999',\n",
       " '1,499',\n",
       " '2,999',\n",
       " '1,799',\n",
       " '2,999',\n",
       " '5,999',\n",
       " '',\n",
       " '',\n",
       " '',\n",
       " '1,799',\n",
       " '2,299',\n",
       " '1,799',\n",
       " '1,499',\n",
       " '2,499',\n",
       " '3,499',\n",
       " '3,721',\n",
       " '2,999',\n",
       " '2,999',\n",
       " '3,299',\n",
       " '1,499',\n",
       " '1,399',\n",
       " '2,999',\n",
       " '1,999',\n",
       " '1,499',\n",
       " '1,499',\n",
       " '1,499',\n",
       " '2,199']"
      ]
     },
     "execution_count": 9,
     "metadata": {},
     "output_type": "execute_result"
    }
   ],
   "source": [
    "Procuct_Price = []\n",
    "\n",
    "for i in Price:\n",
    "    Procuct_Price.append(i.text)\n",
    "Procuct_Price"
   ]
  },
  {
   "cell_type": "code",
   "execution_count": 10,
   "id": "c5d4bfcc",
   "metadata": {
    "scrolled": true
   },
   "outputs": [
    {
     "name": "stdout",
     "output_type": "stream",
     "text": [
      "https://www.amazon.in/gp/slredirect/picassoRedirect.html/ref=pa_sp_atf_aps_sr_pg1_1?ie=UTF8&adId=A01217683E3EKJYJYOOGT&url=%2FNoise-ColorFit-Display-Monitoring-Smartwatches%2Fdp%2FB09NVPDLNV%2Fref%3Dsr_1_1_sspa%3Fkeywords%3DSmart%2BWatches%26qid%3D1659169586%26sr%3D8-1-spons%26psc%3D1&qualifier=1659169586&id=6644995090529003&widgetName=sp_atf\n",
      "https://www.amazon.in/gp/slredirect/picassoRedirect.html/ref=pa_sp_atf_aps_sr_pg1_1?ie=UTF8&adId=A04619473UJQSVY1NCVKS&url=%2FFire-Boltt-Phoenix-Bluetooth-Smartwatch-Monitoring%2Fdp%2FB0B3RRWSF6%2Fref%3Dsr_1_2_sspa%3Fkeywords%3DSmart%2BWatches%26qid%3D1659169586%26sr%3D8-2-spons%26psc%3D1&qualifier=1659169586&id=6644995090529003&widgetName=sp_atf\n",
      "https://www.amazon.in/boAt-Smartwatch-Multiple-Monitoring-Resistance/dp/B096VF5YYF/ref=sr_1_3?keywords=Smart+Watches&qid=1659169586&sr=8-3\n",
      "https://www.amazon.in/Noise-ColorFit-Smartwatch-Monitoring-Waterproof/dp/B097R25DP7/ref=sr_1_4?keywords=Smart+Watches&qid=1659169586&sr=8-4\n",
      "https://www.amazon.in/boAt-Smartwatch-Multiple-Monitoring-Resistance/dp/B096VFND31/ref=sr_1_5?keywords=Smart+Watches&qid=1659169586&sr=8-5\n",
      "https://www.amazon.in/boAt-Display-Multiple-Monitoring-Charcoal/dp/B09MQSCJQ1/ref=sxin_14?asc_contentid=amzn1.osa.552826ec-8f60-4afa-b120-a840eedc9557.A21TJRUUN4KGV.en_IN&asc_contenttype=article&ascsubtag=amzn1.osa.552826ec-8f60-4afa-b120-a840eedc9557.A21TJRUUN4KGV.en_IN&content-id=amzn1.sym.5f0ba99d-2991-4ecb-ae3e-35a7ecd2eb9d%3Aamzn1.sym.5f0ba99d-2991-4ecb-ae3e-35a7ecd2eb9d&creativeASIN=B09MQSCJQ1&cv_ct_cx=Smart+Watches&cv_ct_id=amzn1.osa.552826ec-8f60-4afa-b120-a840eedc9557.A21TJRUUN4KGV.en_IN&cv_ct_pg=search&cv_ct_we=asin&cv_ct_wn=osp-single-source-earns-comm&keywords=Smart+Watches&linkCode=oas&pd_rd_i=B09MQSCJQ1&pd_rd_r=ed12c623-ca55-4d82-bec7-b849b915fe05&pd_rd_w=ydcwk&pd_rd_wg=kjldo&pf_rd_p=5f0ba99d-2991-4ecb-ae3e-35a7ecd2eb9d&pf_rd_r=M267GRSQNFHBNXVVA3JV&qid=1659169586&sr=1-1-7188e7bb-a7a6-440c-95b3-a03604035cdc&tag=hznew-21\n",
      "https://www.amazon.in/Amazfit-Version-Always-Display-Monitoring/dp/B09TBDNY27/ref=sxin_14?asc_contentid=amzn1.osa.552826ec-8f60-4afa-b120-a840eedc9557.A21TJRUUN4KGV.en_IN&asc_contenttype=article&ascsubtag=amzn1.osa.552826ec-8f60-4afa-b120-a840eedc9557.A21TJRUUN4KGV.en_IN&content-id=amzn1.sym.5f0ba99d-2991-4ecb-ae3e-35a7ecd2eb9d%3Aamzn1.sym.5f0ba99d-2991-4ecb-ae3e-35a7ecd2eb9d&creativeASIN=B09TBDNY27&cv_ct_cx=Smart+Watches&cv_ct_id=amzn1.osa.552826ec-8f60-4afa-b120-a840eedc9557.A21TJRUUN4KGV.en_IN&cv_ct_pg=search&cv_ct_we=asin&cv_ct_wn=osp-single-source-earns-comm&keywords=Smart+Watches&linkCode=oas&pd_rd_i=B09TBDNY27&pd_rd_r=ed12c623-ca55-4d82-bec7-b849b915fe05&pd_rd_w=ydcwk&pd_rd_wg=kjldo&pf_rd_p=5f0ba99d-2991-4ecb-ae3e-35a7ecd2eb9d&pf_rd_r=M267GRSQNFHBNXVVA3JV&qid=1659169586&sr=1-2-7188e7bb-a7a6-440c-95b3-a03604035cdc&tag=hznew-21\n",
      "https://www.amazon.in/Noise-ColorFit-Resolution-Stainless-Waterproof/dp/B09HZK7ZLH/ref=sxin_14?asc_contentid=amzn1.osa.552826ec-8f60-4afa-b120-a840eedc9557.A21TJRUUN4KGV.en_IN&asc_contenttype=article&ascsubtag=amzn1.osa.552826ec-8f60-4afa-b120-a840eedc9557.A21TJRUUN4KGV.en_IN&content-id=amzn1.sym.5f0ba99d-2991-4ecb-ae3e-35a7ecd2eb9d%3Aamzn1.sym.5f0ba99d-2991-4ecb-ae3e-35a7ecd2eb9d&creativeASIN=B09HZK7ZLH&cv_ct_cx=Smart+Watches&cv_ct_id=amzn1.osa.552826ec-8f60-4afa-b120-a840eedc9557.A21TJRUUN4KGV.en_IN&cv_ct_pg=search&cv_ct_we=asin&cv_ct_wn=osp-single-source-earns-comm&keywords=Smart+Watches&linkCode=oas&pd_rd_i=B09HZK7ZLH&pd_rd_r=ed12c623-ca55-4d82-bec7-b849b915fe05&pd_rd_w=ydcwk&pd_rd_wg=kjldo&pf_rd_p=5f0ba99d-2991-4ecb-ae3e-35a7ecd2eb9d&pf_rd_r=M267GRSQNFHBNXVVA3JV&qid=1659169586&sr=1-3-7188e7bb-a7a6-440c-95b3-a03604035cdc&tag=hznew-21\n",
      "https://www.amazon.in/TAGG-Smartwatch-Waterproof-Heart-Rate-Calculator/dp/B09SFZ36X7/ref=sxin_14?asc_contentid=amzn1.osa.552826ec-8f60-4afa-b120-a840eedc9557.A21TJRUUN4KGV.en_IN&asc_contenttype=article&ascsubtag=amzn1.osa.552826ec-8f60-4afa-b120-a840eedc9557.A21TJRUUN4KGV.en_IN&content-id=amzn1.sym.5f0ba99d-2991-4ecb-ae3e-35a7ecd2eb9d%3Aamzn1.sym.5f0ba99d-2991-4ecb-ae3e-35a7ecd2eb9d&creativeASIN=B09SFZ36X7&cv_ct_cx=Smart+Watches&cv_ct_id=amzn1.osa.552826ec-8f60-4afa-b120-a840eedc9557.A21TJRUUN4KGV.en_IN&cv_ct_pg=search&cv_ct_we=asin&cv_ct_wn=osp-single-source-earns-comm&keywords=Smart+Watches&linkCode=oas&pd_rd_i=B09SFZ36X7&pd_rd_r=ed12c623-ca55-4d82-bec7-b849b915fe05&pd_rd_w=ydcwk&pd_rd_wg=kjldo&pf_rd_p=5f0ba99d-2991-4ecb-ae3e-35a7ecd2eb9d&pf_rd_r=M267GRSQNFHBNXVVA3JV&qid=1659169586&sr=1-4-7188e7bb-a7a6-440c-95b3-a03604035cdc&tag=hznew-21\n",
      "https://www.amazon.in/Fire-Boltt-Bluetooth-1-32inch-Smartwatch-Monitoring/dp/B09RKCWHV3/ref=sxin_14?asc_contentid=amzn1.osa.552826ec-8f60-4afa-b120-a840eedc9557.A21TJRUUN4KGV.en_IN&asc_contenttype=article&ascsubtag=amzn1.osa.552826ec-8f60-4afa-b120-a840eedc9557.A21TJRUUN4KGV.en_IN&content-id=amzn1.sym.5f0ba99d-2991-4ecb-ae3e-35a7ecd2eb9d%3Aamzn1.sym.5f0ba99d-2991-4ecb-ae3e-35a7ecd2eb9d&creativeASIN=B09RKCWHV3&cv_ct_cx=Smart+Watches&cv_ct_id=amzn1.osa.552826ec-8f60-4afa-b120-a840eedc9557.A21TJRUUN4KGV.en_IN&cv_ct_pg=search&cv_ct_we=asin&cv_ct_wn=osp-single-source-earns-comm&keywords=Smart+Watches&linkCode=oas&pd_rd_i=B09RKCWHV3&pd_rd_r=ed12c623-ca55-4d82-bec7-b849b915fe05&pd_rd_w=ydcwk&pd_rd_wg=kjldo&pf_rd_p=5f0ba99d-2991-4ecb-ae3e-35a7ecd2eb9d&pf_rd_r=M267GRSQNFHBNXVVA3JV&qid=1659169586&sr=1-5-7188e7bb-a7a6-440c-95b3-a03604035cdc&tag=hznew-21\n",
      "https://www.amazon.in/boAt-Wave-Lite-Smartwatch-Activity/dp/B09V12K8NT/ref=sr_1_6?keywords=Smart+Watches&qid=1659169586&sr=8-6\n",
      "https://www.amazon.in/boAt-Flash-Smartwatch-Resistance-Lightning/dp/B0949SBKMP/ref=sr_1_7?keywords=Smart+Watches&qid=1659169586&sr=8-7\n",
      "https://www.amazon.in/Noise-ColorFit-Display-Monitoring-Smartwatches/dp/B09NVPSCQT/ref=sr_1_8?keywords=Smart+Watches&qid=1659169586&sr=8-8\n",
      "https://www.amazon.in/Noise-ColorFit-Smartwatch-Display-Monitors/dp/B097R3HPGY/ref=sr_1_9?keywords=Smart+Watches&qid=1659169586&sr=8-9\n",
      "https://www.amazon.in/Noise-Colorfit-Pro-Touch-Control/dp/B07YY1BY5B/ref=sr_1_10?keywords=Smart+Watches&qid=1659169586&sr=8-10\n",
      "https://www.amazon.in/gp/slredirect/picassoRedirect.html/ref=pa_sp_mtf_aps_sr_pg1_1?ie=UTF8&adId=A02319981ZZL2ZD2LZ8Q8&url=%2FNoise-ColorFit-368x448px-Resolution-Tracking%2Fdp%2FB09TTKHGM7%2Fref%3Dsr_1_11_sspa%3Fkeywords%3DSmart%2BWatches%26qid%3D1659169586%26sr%3D8-11-spons%26psc%3D1&qualifier=1659169586&id=6644995090529003&widgetName=sp_mtf\n",
      "https://www.amazon.in/gp/slredirect/picassoRedirect.html/ref=pa_sp_mtf_aps_sr_pg1_1?ie=UTF8&adId=A032723719ZGWI820EE7K&url=%2FNoise-ColorFit-Bluetooth-Fully-Functional-Brightness%2Fdp%2FB09ZQLGRW3%2Fref%3Dsr_1_12_sspa%3Fkeywords%3DSmart%2BWatches%26qid%3D1659169586%26sr%3D8-12-spons%26psc%3D1&qualifier=1659169586&id=6644995090529003&widgetName=sp_mtf\n",
      "https://www.amazon.in/boAt-Display-Multiple-Monitoring-Charcoal/dp/B09MQSCJQ1/ref=sr_1_13?keywords=Smart+Watches&qid=1659169586&sr=8-13\n",
      "https://www.amazon.in/boAt-Wave-Call-Bluetooth-Resolution/dp/B0B5B6PQCT/ref=sr_1_14?keywords=Smart+Watches&qid=1659169586&sr=8-14\n",
      "https://www.amazon.in/Noise-ColorFit-Bluetooth-Resolution-Smartwatch/dp/B09NC1FX43/ref=sr_1_15?keywords=Smart+Watches&qid=1659169586&sr=8-15\n",
      "https://www.amazon.in/Noise-ColorFit-Display-Monitoring-Waterproof/dp/B097R2JBDF/ref=sr_1_16?keywords=Smart+Watches&qid=1659169586&sr=8-16\n",
      "https://www.amazon.in/TAGG-Verve-Smartwatch-Real-Time-Waterproof/dp/B09HHCJ2CK/ref=sr_1_17?keywords=Smart+Watches&qid=1659169586&sr=8-17\n",
      "https://www.amazon.in/boAt-Smartwatch-Multiple-Monitoring-Resistance/dp/B096VF1PJ8/ref=sr_1_18?keywords=Smart+Watches&qid=1659169586&sr=8-18\n",
      "https://www.amazon.in/Fire-Boltt-Ninja-Smartwatch-Sports-Tracking/dp/B09YV4RG4D/ref=sr_1_19?keywords=Smart+Watches&qid=1659169586&sr=8-19\n",
      "https://www.amazon.in/Noise-ColorFit-Smartwatch-Display-Monitors/dp/B097R34WKJ/ref=sr_1_20?keywords=Smart+Watches&qid=1659169586&sr=8-20\n",
      "https://www.amazon.in/gp/slredirect/picassoRedirect.html/ref=pa_sp_btf_aps_sr_pg1_1?ie=UTF8&adId=A02530302E91KVHVPHHAI&url=%2FNoise-ColorFit-Display-Monitoring-Waterproof%2Fdp%2FB097R2JBDF%2Fref%3Dsr_1_21_sspa%3Fkeywords%3DSmart%2BWatches%26qid%3D1659169586%26sr%3D8-21-spons%26psc%3D1&qualifier=1659169586&id=6644995090529003&widgetName=sp_btf\n",
      "https://www.amazon.in/gp/slredirect/picassoRedirect.html/ref=pa_sp_btf_aps_sr_pg1_1?ie=UTF8&adId=A09442111N63M9H4LA6UY&url=%2FZebronics-ZEB-FIT280CH-1-39inch-Waterproof-Storage%2Fdp%2FB09T6X1YXG%2Fref%3Dsr_1_22_sspa%3Fkeywords%3DSmart%2BWatches%26qid%3D1659169586%26sr%3D8-22-spons%26psc%3D1&qualifier=1659169586&id=6644995090529003&widgetName=sp_btf\n"
     ]
    }
   ],
   "source": [
    "Product_URL = []\n",
    "Product_URL = driver.find_elements(By.XPATH,'//a[@class=\"a-link-normal s-underline-text s-underline-link-text s-link-style a-text-normal\"]')\n",
    "for i in Product_URL:\n",
    "    print(i.get_attribute(\"href\"))"
   ]
  },
  {
   "cell_type": "code",
   "execution_count": 11,
   "id": "ce567acd",
   "metadata": {},
   "outputs": [
    {
     "data": {
      "text/plain": [
       "23"
      ]
     },
     "execution_count": 11,
     "metadata": {},
     "output_type": "execute_result"
    }
   ],
   "source": [
    "Expected_Delivery = driver.find_elements(By.XPATH,'//span[@class=\"a-color-base a-text-bold\"]')\n",
    "len(Expected_Delivery)"
   ]
  },
  {
   "cell_type": "code",
   "execution_count": 12,
   "id": "6f1db9c9",
   "metadata": {
    "scrolled": true
   },
   "outputs": [
    {
     "data": {
      "text/plain": [
       "['tomorrow, July 31',\n",
       " 'tomorrow, July 31',\n",
       " 'tomorrow, July 31',\n",
       " 'tomorrow, July 31',\n",
       " 'tomorrow, July 31',\n",
       " 'tomorrow, July 31',\n",
       " 'tomorrow, July 31',\n",
       " 'tomorrow, July 31',\n",
       " 'tomorrow, July 31',\n",
       " 'tomorrow, July 31',\n",
       " 'tomorrow, July 31',\n",
       " 'tomorrow, July 31',\n",
       " 'tomorrow, July 31',\n",
       " 'tomorrow, July 31',\n",
       " 'tomorrow, July 31',\n",
       " 'tomorrow, July 31',\n",
       " 'tomorrow, July 31',\n",
       " 'tomorrow, July 31',\n",
       " 'tomorrow, July 31',\n",
       " 'tomorrow, July 31',\n",
       " 'tomorrow, July 31',\n",
       " 'tomorrow, July 31',\n",
       " 'tomorrow, July 31']"
      ]
     },
     "execution_count": 12,
     "metadata": {},
     "output_type": "execute_result"
    }
   ],
   "source": [
    "Exp_Delivery = []\n",
    "\n",
    "for i in Expected_Delivery:\n",
    "    Exp_Delivery.append(i.text)\n",
    "Exp_Delivery"
   ]
  },
  {
   "cell_type": "code",
   "execution_count": 13,
   "id": "e3d666e8",
   "metadata": {
    "scrolled": true
   },
   "outputs": [
    {
     "data": {
      "text/plain": [
       "27"
      ]
     },
     "execution_count": 13,
     "metadata": {},
     "output_type": "execute_result"
    }
   ],
   "source": [
    "len(Product_URL)"
   ]
  },
  {
   "cell_type": "code",
   "execution_count": 14,
   "id": "10131e36",
   "metadata": {},
   "outputs": [],
   "source": [
    "# For Next Page\n",
    "Next_btn = driver.find_element(By.XPATH,'/html/body/div[1]/div[2]/div[1]/div[1]/div/span[3]/div[2]/div[29]/div/div/span/a[3]')\n",
    "Next_btn.click()"
   ]
  },
  {
   "cell_type": "code",
   "execution_count": 32,
   "id": "acbaf862",
   "metadata": {},
   "outputs": [
    {
     "data": {
      "text/plain": [
       "22"
      ]
     },
     "execution_count": 32,
     "metadata": {},
     "output_type": "execute_result"
    }
   ],
   "source": [
    "Product_Name_p2 = driver.find_elements(By.XPATH,'//h2[@class=\"a-size-mini a-spacing-none a-color-base s-line-clamp-2\"]')\n",
    "len(Product_Name_p2)"
   ]
  },
  {
   "cell_type": "code",
   "execution_count": 33,
   "id": "f448d58f",
   "metadata": {
    "scrolled": true
   },
   "outputs": [
    {
     "data": {
      "text/plain": [
       "['Noise ColorFit Pulse Grand Smart Watch with 1.69\" HD Display, 60 Sports Modes, 150 Watch Faces, Spo2 Monitoring, Call Notification, Quick Replies to Text & Calls (Rose Pink)',\n",
       " 'Noise ColorFit Pulse 2: 1.8\" Biggest Display Smart Watch, 550 NITS Brightness, Sleek Metallic Body, HR, Sleep & Spo2 Monitoring, Upto 10 Days Battery Life, Calls & SMS Reply - Oilve Green',\n",
       " \"Fire-Boltt India's No 1 Smartwatch Brand Ring Bluetooth Calling with SpO2 & 1.7” Metal Body with Blood Oxygen Monitoring, Continuous Heart Rate, Full Touch & Multiple Watch Faces\",\n",
       " 'M i Smart Watch Bluetooth Y68,1.3 Inch Screen IP68 Waterproof Pedometer Smartwatch Remote Control Camera Step Counter,Heart Rate for Women Men - Black',\n",
       " 'Fire-Boltt Ninja 2 SpO2 Full Touch Smartwatch with 30 Workout Modes, Heart Rate Tracking, and 100+ Cloud Watch Faces, 7 Days of extensive Battery',\n",
       " 'Noise ColorFit Pulse Grand Smart Watch with 1.69\" HD Display, 60 Sports Modes, 150 Watch Faces, Spo2 Monitoring, Call Notification, Quick Replies to Text & Calls (Rose Pink)',\n",
       " 'Noise ColorFit Pulse Grand Smart Watch with 1.69\"(42.9cm) HD Display, 60 Sports Modes, 150 Watch Faces, Fast Charge, Spo2, Stress, Sleep, Heart Rate Monitoring & IP68 Waterproof (Champagne Grey)',\n",
       " 'Fire-Boltt Ninja Calling 1.69\" Full Touch Bluetooth Calling Smartwatch with 30 Sports Mode, SpO2, Heart Rate Monitoring & AI Voice Assistant',\n",
       " 'Fastrack Reflex Unisex Smartwatch,1.69\" Large Display, SpO2, Women Health Monitor, 10+ Sports Mode, 5 ATM Water Resistance',\n",
       " 'Noise ColorFit Pulse Grand Smart Watch with 1.69\"(4.2cm) HD Display, 60 Sports Modes, 150 Watch Faces, Fast Charge, Spo2, Stress, Sleep, Heart Rate Monitoring & IP68 Waterproof (Oilve Green)',\n",
       " 'Fire-Boltt Phoenix Bluetooth Calling Smartwatch 1.3\" 240*240 PX High Res with 120+ Sports Modes, SpO2, Heart Rate Monitoring & IP68 Rating',\n",
       " 'Noise ColorFit Ultra 2 LE with 1.78\" Always On AMOLED Display, 368x448px (326 PPI) Best in Class Resolution, 100+ Watch Faces, Quick Replies, SpO2 & 24*7 Heart Rate Tracking Smart Watch (Royal Blue)',\n",
       " 'Noise ColorFit Pulse Smartwatch with 1.4\" Full Touch HD Display, SpO2, Heart Rate, Sleep Monitors & 10-Day Battery - Royal Blue',\n",
       " 'Noise ColorFit Pro 4 Bluetooth Calling Smart Watch with 1.72\" TruView Display, Fully-Functional Digital Crown, 311 PPI, 60Hz Refresh Rate, 500 NITS Brightness (Charcoal Black), OneSize',\n",
       " 'Original New Series 7 D20 Bluetooth Wireless Smart Watch, Fitness Band for Boys, Girls, Men, Women & Kids | Sports Watch for All Smart Phones I Heart Rate and BP Monitor (D20 Pink)',\n",
       " 'Noise Pulse Buzz 1.69\" Bluetooth Calling Smart Watch with Call Function, 150 Watch Faces, 60 Sports Modes, Spo2 & Heart Rate Monitoring, Calling Smart Watch for Men & Women - Champagne Grey',\n",
       " 'M1 Smart Watch Id-116 Bluetooth Smartwatch Wireless Fitness Band for Boys, Girls, Men, Women & Kids | Sports Gym Watch for All Smart Phones I Heart Rate and spo2 Monitor',\n",
       " 'Original New T55 Series 7 Smart watch with Bluetooth Calling, Extra Straps, Heart Rate Monitor,Fitness Tracker, Multiple Faces 50+, Full Touch Display (Pitch Black) for Men and Women & IP67 Waterproof (T55 SERIES 7)',\n",
       " 'Latest iTech T55 Fitpro Bluetooth Calling Smart Watch Fitness Tracker, Heart & Oxygen Monitor Men Women Smart Watch with Double Strap',\n",
       " 'Fire-Boltt Rage Full Touch 1.28” Display & 60 Sports Modes with IP68 Rating Smartwatch, Sp02 Tracking, Over 100 Cloud Based Watch Faces, Black, Free Size',\n",
       " 'TAGG Verve NEO Smartwatch 1.69’’ HD Display | 60+ Sports Modes | 10 Days Battery | 150+ Maximum Watch Face Library | Waterproof | 24*7 HeartRate & Blood Oxygen Tracking | Games & Calculator | Black',\n",
       " 'Noise ColorFit Pro 4 Bluetooth Calling Smart Watch with 1.72\" TruView Display, Fully-Functional Digital Crown, 311 PPI, 60Hz Refresh Rate, 500 NITS Brightness (Charcoal Black), OneSize']"
      ]
     },
     "execution_count": 33,
     "metadata": {},
     "output_type": "execute_result"
    }
   ],
   "source": [
    "Name_p2 = []\n",
    "\n",
    "for i in Product_Name_p2:\n",
    "    Name_p2.append(i.text)\n",
    "Name_p2"
   ]
  },
  {
   "cell_type": "code",
   "execution_count": 34,
   "id": "b201f74f",
   "metadata": {},
   "outputs": [
    {
     "data": {
      "text/plain": [
       "26"
      ]
     },
     "execution_count": 34,
     "metadata": {},
     "output_type": "execute_result"
    }
   ],
   "source": [
    "Price_p2 = driver.find_elements(By.XPATH,'//span[@class=\"a-price-whole\"]')\n",
    "len(Price_p2)"
   ]
  },
  {
   "cell_type": "code",
   "execution_count": 35,
   "id": "b49dccbe",
   "metadata": {},
   "outputs": [
    {
     "data": {
      "text/plain": [
       "['1,499',\n",
       " '1,799',\n",
       " '2,199',\n",
       " '1,799',\n",
       " '2,199',\n",
       " '3,999',\n",
       " '599',\n",
       " '1,899',\n",
       " '1,799',\n",
       " '1,799',\n",
       " '2,999',\n",
       " '4,995',\n",
       " '1,799',\n",
       " '2,999',\n",
       " '3,499',\n",
       " '1,499',\n",
       " '3,499',\n",
       " '650',\n",
       " '2,499',\n",
       " '549',\n",
       " '890',\n",
       " '780',\n",
       " '2,299',\n",
       " '1,399',\n",
       " '3,499',\n",
       " '1,799']"
      ]
     },
     "execution_count": 35,
     "metadata": {},
     "output_type": "execute_result"
    }
   ],
   "source": [
    "Procuct_Price_p2 = []\n",
    "\n",
    "for i in Price_p2:\n",
    "    Procuct_Price_p2.append(i.text)\n",
    "Procuct_Price_p2"
   ]
  },
  {
   "cell_type": "code",
   "execution_count": 36,
   "id": "9d1a832c",
   "metadata": {
    "scrolled": true
   },
   "outputs": [
    {
     "name": "stdout",
     "output_type": "stream",
     "text": [
      "https://www.amazon.in/gp/slredirect/picassoRedirect.html/ref=pa_sp_atf_next_aps_sr_pg2_1?ie=UTF8&adId=A00255302NFU7K4NLF6YQ&url=%2FNoise-ColorFit-Display-Monitoring-Smartwatches%2Fdp%2FB09PNKXSKF%2Fref%3Dsr_1_17_sspa%3Fkeywords%3DSmart%2BWatches%26qid%3D1659169753%26sr%3D8-17-spons%26psc%3D1&qualifier=1659169753&id=4197570185339164&widgetName=sp_atf_next\n",
      "https://www.amazon.in/gp/slredirect/picassoRedirect.html/ref=pa_sp_atf_next_aps_sr_pg2_1?ie=UTF8&adId=A04411001W8KGEVUC01YG&url=%2FNoise-ColorFit-Pulse-Brightness-Monitoring%2Fdp%2FB09ZKY62H1%2Fref%3Dsr_1_18_sspa%3Fkeywords%3DSmart%2BWatches%26qid%3D1659169753%26sr%3D8-18-spons%26psc%3D1&qualifier=1659169753&id=4197570185339164&widgetName=sp_atf_next\n",
      "https://www.amazon.in/Fire-Boltt-Smartwatch-Monitoring-Continuous-BSW005/dp/B0972BQ2RS/ref=sr_1_19?keywords=Smart+Watches&qid=1659169753&sr=8-19\n",
      "https://www.amazon.in/Bluetooth-Waterproof-Pedometer-Smartwatch-Control/dp/B09RMFPKMX/ref=sr_1_20?keywords=Smart+Watches&qid=1659169753&sr=8-20\n",
      "https://www.amazon.in/Fire-Boltt-Smartwatch-Workout-Tracking-extensive/dp/B09NM8S1V4/ref=sr_1_21?keywords=Smart+Watches&qid=1659169753&sr=8-21\n",
      "https://www.amazon.in/Noise-ColorFit-Display-Monitoring-Smartwatches/dp/B09PNKXSKF/ref=sr_1_22?keywords=Smart+Watches&qid=1659169753&sr=8-22\n",
      "https://www.amazon.in/Noise-ColorFit-Display-Monitoring-Smartwatches/dp/B09NVPDLNV/ref=sr_1_23?keywords=Smart+Watches&qid=1659169753&sr=8-23\n",
      "https://www.amazon.in/Fire-Boltt-Bluetooth-Smartwatch-Monitoring-Assistant/dp/B09RKFBCV7/ref=sr_1_24?keywords=Smart+Watches&qid=1659169753&sr=8-24\n",
      "https://www.amazon.in/Fastrack-reflex-Rectangle-activity-tracker/dp/B09QKLM2VK/ref=sr_1_25?keywords=Smart+Watches&qid=1659169753&sr=8-25\n",
      "https://www.amazon.in/Noise-ColorFit-Display-Monitoring-Smartwatches/dp/B09NVP6HXY/ref=sr_1_26?keywords=Smart+Watches&qid=1659169753&sr=8-26\n",
      "https://www.amazon.in/gp/slredirect/picassoRedirect.html/ref=pa_sp_mtf_aps_sr_pg2_1?ie=UTF8&adId=A0461791ISKOAISLEERF&url=%2FFire-Boltt-Phoenix-Bluetooth-Smartwatch-Monitoring%2Fdp%2FB0B3RSDSZ3%2Fref%3Dsr_1_27_sspa%3Fkeywords%3DSmart%2BWatches%26qid%3D1659169753%26sr%3D8-27-spons%26psc%3D1&qualifier=1659169753&id=4197570185339164&widgetName=sp_mtf\n",
      "https://www.amazon.in/gp/slredirect/picassoRedirect.html/ref=pa_sp_mtf_aps_sr_pg2_1?ie=UTF8&adId=A02319101X1U9PZ356V1N&url=%2FNoise-ColorFit-368x448px-Resolution-Tracking%2Fdp%2FB09TTLB8TP%2Fref%3Dsr_1_28_sspa%3Fkeywords%3DSmart%2BWatches%26qid%3D1659169753%26sr%3D8-28-spons%26psc%3D1&qualifier=1659169753&id=4197570185339164&widgetName=sp_mtf\n",
      "https://www.amazon.in/Noise-ColorFit-Smartwatch-Display-Monitors/dp/B097R3CN3Y/ref=sr_1_29?keywords=Smart+Watches&qid=1659169753&sr=8-29\n",
      "https://www.amazon.in/Noise-ColorFit-Bluetooth-Fully-Functional-Brightness/dp/B09ZQK9X8G/ref=sr_1_30?keywords=Smart+Watches&qid=1659169753&sr=8-30\n",
      "https://www.amazon.in/Original-Bluetooth-Wireless-Fitness-Monitor/dp/B0B54PT3X2/ref=sr_1_31?keywords=Smart+Watches&qid=1659169753&sr=8-31\n",
      "https://www.amazon.in/Noise-ColorFit-Bluetooth-Monitoring-SmartWatch/dp/B09P18SN84/ref=sr_1_32?keywords=Smart+Watches&qid=1659169753&sr=8-32\n",
      "https://www.amazon.in/Bluetooth-Smartwatch-Wireless-Fitness-Monitor/dp/B09YNKHYQH/ref=sr_1_33?keywords=Smart+Watches&qid=1659169753&sr=8-33\n",
      "https://www.amazon.in/Original-watch-Bluetooth-Multiple-Waterproof/dp/B0B54Q65V2/ref=sr_1_34?keywords=Smart+Watches&qid=1659169753&sr=8-34\n",
      "https://www.amazon.in/Bluetooth-Calling-Fitness-Tracker-Monitor/dp/B09Y28XD8K/ref=sr_1_35?keywords=Smart+Watches&qid=1659169753&sr=8-35\n",
      "https://www.amazon.in/Fire-Boltt-Display-Sports-Smartwatch-Tracking/dp/B0B2Q1W9WP/ref=sr_1_36?keywords=Smart+Watches&qid=1659169753&sr=8-36\n",
      "https://www.amazon.in/gp/slredirect/picassoRedirect.html/ref=pa_sp_btf_aps_sr_pg2_1?ie=UTF8&adId=A01600881PYPM4W9VI4HF&url=%2FTAGG-Verve-Smartwatch-Real-Time-Waterproof%2Fdp%2FB09HHCJ2CK%2Fref%3Dsr_1_37_sspa%3Fkeywords%3DSmart%2BWatches%26qid%3D1659169753%26sr%3D8-37-spons%26psc%3D1&qualifier=1659169753&id=4197570185339164&widgetName=sp_btf\n",
      "https://www.amazon.in/gp/slredirect/picassoRedirect.html/ref=pa_sp_btf_aps_sr_pg2_1?ie=UTF8&adId=A03269016DD2YIWFJZJ4&url=%2FNoise-ColorFit-Bluetooth-Fully-Functional-Brightness%2Fdp%2FB09ZQK9X8G%2Fref%3Dsr_1_38_sspa%3Fkeywords%3DSmart%2BWatches%26qid%3D1659169753%26sr%3D8-38-spons%26psc%3D1&qualifier=1659169753&id=4197570185339164&widgetName=sp_btf\n"
     ]
    }
   ],
   "source": [
    "Product_URL_p2 = []\n",
    "Product_URL_p2 = driver.find_elements(By.XPATH,'//a[@class=\"a-link-normal s-underline-text s-underline-link-text s-link-style a-text-normal\"]')\n",
    "for i in Product_URL_p2:\n",
    "    print(i.get_attribute(\"href\"))"
   ]
  },
  {
   "cell_type": "code",
   "execution_count": 37,
   "id": "cddc6271",
   "metadata": {},
   "outputs": [
    {
     "data": {
      "text/plain": [
       "23"
      ]
     },
     "execution_count": 37,
     "metadata": {},
     "output_type": "execute_result"
    }
   ],
   "source": [
    "Expected_Delivery_p2 = driver.find_elements(By.XPATH,'//span[@class=\"a-color-base a-text-bold\"]')\n",
    "len(Expected_Delivery_p2)"
   ]
  },
  {
   "cell_type": "code",
   "execution_count": 38,
   "id": "779f95de",
   "metadata": {},
   "outputs": [
    {
     "data": {
      "text/plain": [
       "['tomorrow, July 31',\n",
       " 'tomorrow, July 31',\n",
       " 'tomorrow, July 31',\n",
       " 'Wednesday, August 3',\n",
       " 'tomorrow, July 31',\n",
       " 'tomorrow, July 31',\n",
       " 'tomorrow, July 31',\n",
       " 'tomorrow, July 31',\n",
       " 'tomorrow, July 31',\n",
       " 'tomorrow, July 31',\n",
       " 'tomorrow, July 31',\n",
       " 'tomorrow, July 31',\n",
       " 'tomorrow, July 31',\n",
       " 'tomorrow, July 31',\n",
       " 'Wednesday, August 3',\n",
       " 'tomorrow, July 31',\n",
       " 'Wednesday, August 3',\n",
       " 'Wednesday, August 3',\n",
       " 'Thursday, August 4',\n",
       " 'tomorrow, July 31',\n",
       " 'tomorrow, July 31',\n",
       " 'tomorrow, July 31',\n",
       " 'tomorrow, July 31']"
      ]
     },
     "execution_count": 38,
     "metadata": {},
     "output_type": "execute_result"
    }
   ],
   "source": [
    "Exp_Delivery_p2 = []\n",
    "\n",
    "for i in Expected_Delivery_p2:\n",
    "    Exp_Delivery_p2.append(i.text)\n",
    "Exp_Delivery_p2"
   ]
  },
  {
   "cell_type": "code",
   "execution_count": 39,
   "id": "92bf7e87",
   "metadata": {},
   "outputs": [],
   "source": [
    "# For Next Page\n",
    "Next_btn = driver.find_element(By.XPATH,'/html/body/div[1]/div[2]/div[1]/div[1]/div/span[3]/div[2]/div[27]/div/div/span/a[4]')\n",
    "Next_btn.click()"
   ]
  },
  {
   "cell_type": "code",
   "execution_count": 40,
   "id": "ffbcf2a5",
   "metadata": {},
   "outputs": [
    {
     "data": {
      "text/plain": [
       "22"
      ]
     },
     "execution_count": 40,
     "metadata": {},
     "output_type": "execute_result"
    }
   ],
   "source": [
    "Product_Name_p3 = driver.find_elements(By.XPATH,'//h2[@class=\"a-size-mini a-spacing-none a-color-base s-line-clamp-2\"]')\n",
    "len(Product_Name_p3)"
   ]
  },
  {
   "cell_type": "code",
   "execution_count": 41,
   "id": "981ac924",
   "metadata": {
    "scrolled": true
   },
   "outputs": [
    {
     "data": {
      "text/plain": [
       "['Noise ColorFit Pulse Grand Smart Watch with 1.69\"(4.2cm) HD Display, 60 Sports Modes, 150 Watch Faces, Fast Charge, Spo2, Stress, Sleep, Heart Rate Monitoring & IP68 Waterproof (Oilve Green)',\n",
       " 'Noise ColorFit Pulse 2: 1.8\" Biggest Display Smart Watch, 550 NITS Brightness, Sleek Metallic Body, HR, Sleep & Spo2 Monitoring, Upto 10 Days Battery Life, Calls & SMS Reply - Jet Black',\n",
       " 'boAt Wave Lite Smartwatch with 1.69\" HD Display, Heart Rate & SpO2 Level Monitor, Multiple Watch Faces, Activity Tracker, Multiple Sports Modes & IP68 (Deep Blue)',\n",
       " 'M1 Smart Watch for Men & Women Latest Bluetooth Latest 1.3\" LED with Daily Activity Tracker, Heart Rate Sensor, BP Monitor, Sports Watch for All Boys & Girls - Black 16',\n",
       " 'Fire-Boltt Ninja 3 Smartwatch Full Touch 1.69” & 60 Sports Modes with IP68, Sp02 Tracking, Over 100 Cloud based watch faces',\n",
       " 'Noise ColorFit Ultra Smart Watch with 1.75\" HD Display, Aluminium Alloy Body, 60 Sports Modes, Spo2, Lightweight, Stock Market Info, Calls & SMS Reply (Gunmetal Grey)',\n",
       " 'Fire-Boltt Ninja Calling 1.69\"(4.29cm) Full Touch Bluetooth Calling Smartwatch with 30 Sports Mode, SpO2, Heart Rate Monitoring & AI Voice Assistant (Rose Gold), Free Size',\n",
       " 'Fire-Boltt Ninja 3 Smartwatch Full Touch 1.69” & 60 Sports Modes with IP68, Sp02 Tracking, Over 100 Cloud based watch faces',\n",
       " 'Noise ColorFit Pro 3 Assist Smart Watch with Alexa Built-in, 24*7 Spo2 Monitoring, 1.55\" HD TruView Display, Stress, Sleep, Heart Rate Tracking (Jet Black)',\n",
       " 'M i Smart Watch - Bluetooth Smart Watch for Men Women, Smartwatch Touch Screen Bluetooth Smart Watches for Android iOS Phones Wrist Phone Watch, Daily Activity Tracker, Heart Rate Sensor, BP Monitor, Sports Watch - Black',\n",
       " 'Noise ColorFit Ultra 2 LE with 1.78\" Always On AMOLED Display, 368x448px (326 PPI) Best in Class Resolution, 100+ Watch Faces, Quick Replies, SpO2 & 24*7 Heart Rate Tracking Smart Watch (Jet Black)',\n",
       " 'Fire-Boltt Phoenix Bluetooth Calling Smartwatch 1.3\" 240*240 PX High Res with 120+ Sports Modes, SpO2, Heart Rate Monitoring & IP68 Rating',\n",
       " 'QSOS T55 Smart Watch with Calling Function and BP Monitor',\n",
       " 'M i Smart Watch Id-116 Bluetooth Smartwatch Wireless Fitness Band Watch for Boys, Girls, Men, Women & Kids | Sports Smart Watch for All Smart Phones I Heart Rate and spo2 Monitor - Black',\n",
       " 'Noise ColorFit Pulse Grand Smart Watch with 1.69\"(4.29cm) HD Display, 60 Sports Modes, 150 Watch Faces, Fast Charge, Spo2, Stress, Sleep, Heart Rate Monitoring & IP68 Waterproof (Electric Blue)',\n",
       " 'Amazfit Bip 3 Smart Watch with 1.69\" Large Color Display,2 Weeks\\' Battery Life,5 ATM Water-Resistance, Cricket Sports Data Monitoring, 60 Sports Modes and Blood-Oxygen Saturation Measurement (Black)',\n",
       " 'M1 Smart Watch Id-116 Bluetooth Smartwatch Wireless Fitness Band for Boys, Girls, Men, Women & Kids | Sports Gym Watch for All Smart Phones I Heart Rate and spo2 Monitor',\n",
       " 'Noise ColorFit Pulse Buzz 1.69\" Smart Watch with Call Function, Bluetooth Calling, 150 Watch Faces, 60 Sports Modes, Spo2 & Heart Rate Monitoring, Calling Smart Watch for Men & Women - Electric Blue',\n",
       " 'ZEBRONICS FIT920CH Smart Watch with 3.5cm (1.4\") Display 30Days Standby, Music Control, Customizable Faces,IP67 Rating, Pedometer, Multi Sports Mode, SpO2, BP & HR Monitor (Black Starp)',\n",
       " 'Noise ColorFit Pro 3 Assist Smart Watch with Alexa Built-in, 24*7 Spo2 Monitoring, 1.55\" HD TruView Display, Stress, Sleep, Heart Rate Tracking (Rose Pink)',\n",
       " 'Noise ColorFit Pro 4 Bluetooth Calling Smart Watch with 1.72\" TruView Display, Fully-Functional Digital Crown, 311 PPI, 60Hz Refresh Rate, 500 NITS Brightness (Deep Wine)',\n",
       " 'Zebronics ZEB-FIT280CH Smart Watch with Screen Size 3.55cm (1.39inch) 12 Sports Modes, IP68 Waterproof, Heart Rate, BP, SpO2, Caller ID, 7 Days Storage (Blue)']"
      ]
     },
     "execution_count": 41,
     "metadata": {},
     "output_type": "execute_result"
    }
   ],
   "source": [
    "Name_p3 = []\n",
    "\n",
    "for i in Product_Name_p3:\n",
    "    Name_p3.append(i.text)\n",
    "Name_p3"
   ]
  },
  {
   "cell_type": "code",
   "execution_count": 42,
   "id": "b4f3468c",
   "metadata": {},
   "outputs": [
    {
     "data": {
      "text/plain": [
       "26"
      ]
     },
     "execution_count": 42,
     "metadata": {},
     "output_type": "execute_result"
    }
   ],
   "source": [
    "Price_p3 = driver.find_elements(By.XPATH,'//span[@class=\"a-price-whole\"]')\n",
    "len(Price_p3)"
   ]
  },
  {
   "cell_type": "code",
   "execution_count": 43,
   "id": "84ef170a",
   "metadata": {
    "scrolled": true
   },
   "outputs": [
    {
     "data": {
      "text/plain": [
       "['1,499',\n",
       " '1,499',\n",
       " '1,499',\n",
       " '1,799',\n",
       " '2,199',\n",
       " '1,799',\n",
       " '499',\n",
       " '1,999',\n",
       " '2,999',\n",
       " '2,999',\n",
       " '1,999',\n",
       " '2,999',\n",
       " '499',\n",
       " '3,499',\n",
       " '2,999',\n",
       " '789',\n",
       " '498',\n",
       " '1,799',\n",
       " '3,499',\n",
       " '499',\n",
       " '2,499',\n",
       " '2,299',\n",
       " '2,999',\n",
       " '3,999',\n",
       " '1,499',\n",
       " '1,499']"
      ]
     },
     "execution_count": 43,
     "metadata": {},
     "output_type": "execute_result"
    }
   ],
   "source": [
    "Procuct_Price_p3 = []\n",
    "\n",
    "for i in Price_p3:\n",
    "    Procuct_Price_p3.append(i.text)\n",
    "Procuct_Price_p3"
   ]
  },
  {
   "cell_type": "code",
   "execution_count": 44,
   "id": "72868d7f",
   "metadata": {
    "scrolled": true
   },
   "outputs": [
    {
     "name": "stdout",
     "output_type": "stream",
     "text": [
      "https://www.amazon.in/gp/slredirect/picassoRedirect.html/ref=pa_sp_atf_next_aps_sr_pg3_1?ie=UTF8&adId=A060091729CK2YROTWK50&url=%2FNoise-ColorFit-Display-Monitoring-Smartwatches%2Fdp%2FB09NVP6HXY%2Fref%3Dsr_1_33_sspa%3Fkeywords%3DSmart%2BWatches%26qid%3D1659169845%26sr%3D8-33-spons%26psc%3D1&qualifier=1659169845&id=4069254162532311&widgetName=sp_atf_next\n",
      "https://www.amazon.in/gp/slredirect/picassoRedirect.html/ref=pa_sp_atf_next_aps_sr_pg3_1?ie=UTF8&adId=A04415001C8JX6G1VTIHO&url=%2FNoise-ColorFit-Pulse-Brightness-Monitoring%2Fdp%2FB09ZL5NR68%2Fref%3Dsr_1_34_sspa%3Fkeywords%3DSmart%2BWatches%26qid%3D1659169845%26sr%3D8-34-spons%26psc%3D1&qualifier=1659169845&id=4069254162532311&widgetName=sp_atf_next\n",
      "https://www.amazon.in/boAt-Wave-Lite-Smartwatch-Multiple/dp/B09V17S2BG/ref=sr_1_35?keywords=Smart+Watches&qid=1659169845&sr=8-35\n",
      "https://www.amazon.in/Latest-Bluetooth-Activity-Tracker-Monitor/dp/B09XBKPKNY/ref=sr_1_36?keywords=Smart+Watches&qid=1659169845&sr=8-36\n",
      "https://www.amazon.in/Fire-Boltt-Ninja-Smartwatch-Sports-Tracking/dp/B09YV414XP/ref=sr_1_37?keywords=Smart+Watches&qid=1659169845&sr=8-37\n",
      "https://www.amazon.in/Noise-ColorFit-Bezel-Less-TruView-Gunmetal/dp/B093HCLPJ5/ref=sr_1_38?keywords=Smart+Watches&qid=1659169845&sr=8-38\n",
      "https://www.amazon.in/Fire-Boltt-Bluetooth-Smartwatch-Monitoring-Assistant/dp/B09RKD1JD1/ref=sr_1_39?keywords=Smart+Watches&qid=1659169845&sr=8-39\n",
      "https://www.amazon.in/Fire-Boltt-Ninja-Smartwatch-Sports-Tracking/dp/B09YV3F8RS/ref=sr_1_40?keywords=Smart+Watches&qid=1659169845&sr=8-40\n",
      "https://www.amazon.in/Noise-ColorFit-Monitoring-TruView-Tracking/dp/B097F6QT8Z/ref=sr_1_41?keywords=Smart+Watches&qid=1659169845&sr=8-41\n",
      "https://www.amazon.in/Smart-Watch-Bluetooth-Smartwatch-Activity/dp/B0B2WS64HS/ref=sr_1_42?keywords=Smart+Watches&qid=1659169845&sr=8-42\n",
      "https://www.amazon.in/gp/slredirect/picassoRedirect.html/ref=pa_sp_mtf_aps_sr_pg3_1?ie=UTF8&adId=A0232154353VN3DP94GZN&url=%2FNoise-ColorFit-368x448px-Resolution-Tracking%2Fdp%2FB09TTK33W8%2Fref%3Dsr_1_43_sspa%3Fkeywords%3DSmart%2BWatches%26qid%3D1659169845%26sr%3D8-43-spons%26psc%3D1&qualifier=1659169845&id=4069254162532311&widgetName=sp_mtf\n",
      "https://www.amazon.in/gp/slredirect/picassoRedirect.html/ref=pa_sp_mtf_aps_sr_pg3_1?ie=UTF8&adId=A04616031ALFIP399ZWMZ&url=%2FFire-Boltt-Phoenix-Bluetooth-Smartwatch-Monitoring%2Fdp%2FB0B3RS9DNF%2Fref%3Dsr_1_44_sspa%3Fkeywords%3DSmart%2BWatches%26qid%3D1659169845%26sr%3D8-44-spons%26psc%3D1&qualifier=1659169845&id=4069254162532311&widgetName=sp_mtf\n",
      "https://www.amazon.in/Smart-Watch-Calling-Function-Monitor/dp/B0B15PKNYP/ref=sr_1_45?keywords=Smart+Watches&qid=1659169845&sr=8-45\n",
      "https://www.amazon.in/Bluetooth-Smartwatch-Wireless-Fitness-Monitor/dp/B0B5CLT8M8/ref=sr_1_46?keywords=Smart+Watches&qid=1659169845&sr=8-46\n",
      "https://www.amazon.in/Noise-ColorFit-Monitoring-Smartwatches-Electric/dp/B09NVPJ3P4/ref=sr_1_47?keywords=Smart+Watches&qid=1659169845&sr=8-47\n",
      "https://www.amazon.in/Amazfit-Water-Resistance-Monitoring-Blood-Oxygen-Measurement/dp/B0B37SLFKV/ref=sr_1_48?keywords=Smart+Watches&qid=1659169845&sr=8-48\n",
      "https://www.amazon.in/Bluetooth-Smartwatch-Wireless-Fitness-Monitor/dp/B09MQL982V/ref=sr_1_49?keywords=Smart+Watches&qid=1659169845&sr=8-49\n",
      "https://www.amazon.in/Noise-ColorFit-Bluetooth-Monitoring-SmartWatch/dp/B09P19CVS8/ref=sr_1_50?keywords=Smart+Watches&qid=1659169845&sr=8-50\n",
      "https://www.amazon.in/ZEBRONICS-ZEB-FIT920CH-Customizable-Black-Rectangular/dp/B09NBR6T2B/ref=sr_1_51?keywords=Smart+Watches&qid=1659169845&sr=8-51\n",
      "https://www.amazon.in/Noise-ColorFit-Monitoring-TruView-Tracking/dp/B097F6Q9HM/ref=sr_1_52?keywords=Smart+Watches&qid=1659169845&sr=8-52\n",
      "https://www.amazon.in/gp/slredirect/picassoRedirect.html/ref=pa_sp_btf_aps_sr_pg3_1?ie=UTF8&adId=A0326401JL2GIKB233P4&url=%2FNoise-ColorFit-Bluetooth-Fully-Functional-Brightness%2Fdp%2FB09ZQKWNNH%2Fref%3Dsr_1_53_sspa%3Fkeywords%3DSmart%2BWatches%26qid%3D1659169845%26sr%3D8-53-spons%26psc%3D1&qualifier=1659169845&id=4069254162532311&widgetName=sp_btf\n",
      "https://www.amazon.in/gp/slredirect/picassoRedirect.html/ref=pa_sp_btf_aps_sr_pg3_1?ie=UTF8&adId=A044157521NRIFUE3YHP&url=%2FZebronics-ZEB-FIT280CH-1-39inch-Waterproof-Blue%2Fdp%2FB09T714ML2%2Fref%3Dsr_1_54_sspa%3Fkeywords%3DSmart%2BWatches%26qid%3D1659169845%26sr%3D8-54-spons%26psc%3D1&qualifier=1659169845&id=4069254162532311&widgetName=sp_btf\n"
     ]
    }
   ],
   "source": [
    "Product_URL_p3 = []\n",
    "Product_URL_p3 = driver.find_elements(By.XPATH,'//a[@class=\"a-link-normal s-underline-text s-underline-link-text s-link-style a-text-normal\"]')\n",
    "for i in Product_URL_p3:\n",
    "    print(i.get_attribute(\"href\"))"
   ]
  },
  {
   "cell_type": "code",
   "execution_count": 45,
   "id": "c7f3cd48",
   "metadata": {},
   "outputs": [
    {
     "data": {
      "text/plain": [
       "21"
      ]
     },
     "execution_count": 45,
     "metadata": {},
     "output_type": "execute_result"
    }
   ],
   "source": [
    "Expected_Delivery_p3 = driver.find_elements(By.XPATH,'//span[@class=\"a-color-base a-text-bold\"]')\n",
    "len(Expected_Delivery_p3)"
   ]
  },
  {
   "cell_type": "code",
   "execution_count": 46,
   "id": "1e9e886a",
   "metadata": {
    "scrolled": true
   },
   "outputs": [
    {
     "data": {
      "text/plain": [
       "['tomorrow, July 31',\n",
       " 'tomorrow, July 31',\n",
       " 'Wednesday, August 3',\n",
       " 'tomorrow, July 31',\n",
       " 'tomorrow, July 31',\n",
       " 'tomorrow, July 31',\n",
       " 'tomorrow, July 31',\n",
       " 'tomorrow, July 31',\n",
       " 'Wednesday, August 3',\n",
       " 'tomorrow, July 31',\n",
       " 'tomorrow, July 31',\n",
       " 'Thursday, August 4',\n",
       " 'Thursday, August 4',\n",
       " 'tomorrow, July 31',\n",
       " 'tomorrow, July 31',\n",
       " 'Tuesday, August 2',\n",
       " 'tomorrow, July 31',\n",
       " 'tomorrow, July 31',\n",
       " 'Monday, August 1',\n",
       " 'tomorrow, July 31',\n",
       " 'tomorrow, July 31']"
      ]
     },
     "execution_count": 46,
     "metadata": {},
     "output_type": "execute_result"
    }
   ],
   "source": [
    "Exp_Delivery_p3 = []\n",
    "\n",
    "for i in Expected_Delivery_p3:\n",
    "    Exp_Delivery_p3.append(i.text)\n",
    "Exp_Delivery_p3"
   ]
  },
  {
   "cell_type": "code",
   "execution_count": 47,
   "id": "a0905473",
   "metadata": {},
   "outputs": [
    {
     "data": {
      "text/plain": [
       "(27, 32, 23, 27)"
      ]
     },
     "execution_count": 47,
     "metadata": {},
     "output_type": "execute_result"
    }
   ],
   "source": [
    "len(Name),len(Procuct_Price),len(Exp_Delivery),len(Product_URL)"
   ]
  },
  {
   "cell_type": "code",
   "execution_count": 31,
   "id": "8c3fbf5d",
   "metadata": {},
   "outputs": [
    {
     "ename": "ValueError",
     "evalue": "Length of values (32) does not match length of index (27)",
     "output_type": "error",
     "traceback": [
      "\u001b[1;31m---------------------------------------------------------------------------\u001b[0m",
      "\u001b[1;31mValueError\u001b[0m                                Traceback (most recent call last)",
      "\u001b[1;32m~\\AppData\\Local\\Temp/ipykernel_7624/3616771183.py\u001b[0m in \u001b[0;36m<module>\u001b[1;34m\u001b[0m\n\u001b[0;32m      1\u001b[0m \u001b[0mSamrt_Watchs\u001b[0m \u001b[1;33m=\u001b[0m \u001b[0mpd\u001b[0m\u001b[1;33m.\u001b[0m\u001b[0mDataFrame\u001b[0m\u001b[1;33m(\u001b[0m\u001b[1;33m)\u001b[0m\u001b[1;33m\u001b[0m\u001b[1;33m\u001b[0m\u001b[0m\n\u001b[0;32m      2\u001b[0m \u001b[0mSamrt_Watchs\u001b[0m \u001b[1;33m[\u001b[0m\u001b[1;34m'Product Name'\u001b[0m\u001b[1;33m]\u001b[0m \u001b[1;33m=\u001b[0m \u001b[0mName\u001b[0m\u001b[1;33m\u001b[0m\u001b[1;33m\u001b[0m\u001b[0m\n\u001b[1;32m----> 3\u001b[1;33m \u001b[0mSamrt_Watchs\u001b[0m \u001b[1;33m[\u001b[0m\u001b[1;34m'Price'\u001b[0m\u001b[1;33m]\u001b[0m \u001b[1;33m=\u001b[0m \u001b[0mProcuct_Price\u001b[0m\u001b[1;33m\u001b[0m\u001b[1;33m\u001b[0m\u001b[0m\n\u001b[0m\u001b[0;32m      4\u001b[0m \u001b[0mSamrt_Watchs\u001b[0m \u001b[1;33m[\u001b[0m\u001b[1;34m'Expected_Delivery'\u001b[0m\u001b[1;33m]\u001b[0m \u001b[1;33m=\u001b[0m \u001b[0mExp_Delivery\u001b[0m\u001b[1;33m\u001b[0m\u001b[1;33m\u001b[0m\u001b[0m\n\u001b[0;32m      5\u001b[0m \u001b[0mSamrt_Watchs\u001b[0m \u001b[1;33m[\u001b[0m\u001b[1;34m'Product_URL'\u001b[0m\u001b[1;33m]\u001b[0m \u001b[1;33m=\u001b[0m \u001b[0mProduct_URL\u001b[0m\u001b[1;33m\u001b[0m\u001b[1;33m\u001b[0m\u001b[0m\n",
      "\u001b[1;32m~\\Anaconda3\\lib\\site-packages\\pandas\\core\\frame.py\u001b[0m in \u001b[0;36m__setitem__\u001b[1;34m(self, key, value)\u001b[0m\n\u001b[0;32m   3610\u001b[0m         \u001b[1;32melse\u001b[0m\u001b[1;33m:\u001b[0m\u001b[1;33m\u001b[0m\u001b[1;33m\u001b[0m\u001b[0m\n\u001b[0;32m   3611\u001b[0m             \u001b[1;31m# set column\u001b[0m\u001b[1;33m\u001b[0m\u001b[1;33m\u001b[0m\u001b[0m\n\u001b[1;32m-> 3612\u001b[1;33m             \u001b[0mself\u001b[0m\u001b[1;33m.\u001b[0m\u001b[0m_set_item\u001b[0m\u001b[1;33m(\u001b[0m\u001b[0mkey\u001b[0m\u001b[1;33m,\u001b[0m \u001b[0mvalue\u001b[0m\u001b[1;33m)\u001b[0m\u001b[1;33m\u001b[0m\u001b[1;33m\u001b[0m\u001b[0m\n\u001b[0m\u001b[0;32m   3613\u001b[0m \u001b[1;33m\u001b[0m\u001b[0m\n\u001b[0;32m   3614\u001b[0m     \u001b[1;32mdef\u001b[0m \u001b[0m_setitem_slice\u001b[0m\u001b[1;33m(\u001b[0m\u001b[0mself\u001b[0m\u001b[1;33m,\u001b[0m \u001b[0mkey\u001b[0m\u001b[1;33m:\u001b[0m \u001b[0mslice\u001b[0m\u001b[1;33m,\u001b[0m \u001b[0mvalue\u001b[0m\u001b[1;33m)\u001b[0m\u001b[1;33m:\u001b[0m\u001b[1;33m\u001b[0m\u001b[1;33m\u001b[0m\u001b[0m\n",
      "\u001b[1;32m~\\Anaconda3\\lib\\site-packages\\pandas\\core\\frame.py\u001b[0m in \u001b[0;36m_set_item\u001b[1;34m(self, key, value)\u001b[0m\n\u001b[0;32m   3782\u001b[0m         \u001b[0mensure\u001b[0m \u001b[0mhomogeneity\u001b[0m\u001b[1;33m.\u001b[0m\u001b[1;33m\u001b[0m\u001b[1;33m\u001b[0m\u001b[0m\n\u001b[0;32m   3783\u001b[0m         \"\"\"\n\u001b[1;32m-> 3784\u001b[1;33m         \u001b[0mvalue\u001b[0m \u001b[1;33m=\u001b[0m \u001b[0mself\u001b[0m\u001b[1;33m.\u001b[0m\u001b[0m_sanitize_column\u001b[0m\u001b[1;33m(\u001b[0m\u001b[0mvalue\u001b[0m\u001b[1;33m)\u001b[0m\u001b[1;33m\u001b[0m\u001b[1;33m\u001b[0m\u001b[0m\n\u001b[0m\u001b[0;32m   3785\u001b[0m \u001b[1;33m\u001b[0m\u001b[0m\n\u001b[0;32m   3786\u001b[0m         if (\n",
      "\u001b[1;32m~\\Anaconda3\\lib\\site-packages\\pandas\\core\\frame.py\u001b[0m in \u001b[0;36m_sanitize_column\u001b[1;34m(self, value)\u001b[0m\n\u001b[0;32m   4507\u001b[0m \u001b[1;33m\u001b[0m\u001b[0m\n\u001b[0;32m   4508\u001b[0m         \u001b[1;32mif\u001b[0m \u001b[0mis_list_like\u001b[0m\u001b[1;33m(\u001b[0m\u001b[0mvalue\u001b[0m\u001b[1;33m)\u001b[0m\u001b[1;33m:\u001b[0m\u001b[1;33m\u001b[0m\u001b[1;33m\u001b[0m\u001b[0m\n\u001b[1;32m-> 4509\u001b[1;33m             \u001b[0mcom\u001b[0m\u001b[1;33m.\u001b[0m\u001b[0mrequire_length_match\u001b[0m\u001b[1;33m(\u001b[0m\u001b[0mvalue\u001b[0m\u001b[1;33m,\u001b[0m \u001b[0mself\u001b[0m\u001b[1;33m.\u001b[0m\u001b[0mindex\u001b[0m\u001b[1;33m)\u001b[0m\u001b[1;33m\u001b[0m\u001b[1;33m\u001b[0m\u001b[0m\n\u001b[0m\u001b[0;32m   4510\u001b[0m         \u001b[1;32mreturn\u001b[0m \u001b[0msanitize_array\u001b[0m\u001b[1;33m(\u001b[0m\u001b[0mvalue\u001b[0m\u001b[1;33m,\u001b[0m \u001b[0mself\u001b[0m\u001b[1;33m.\u001b[0m\u001b[0mindex\u001b[0m\u001b[1;33m,\u001b[0m \u001b[0mcopy\u001b[0m\u001b[1;33m=\u001b[0m\u001b[1;32mTrue\u001b[0m\u001b[1;33m,\u001b[0m \u001b[0mallow_2d\u001b[0m\u001b[1;33m=\u001b[0m\u001b[1;32mTrue\u001b[0m\u001b[1;33m)\u001b[0m\u001b[1;33m\u001b[0m\u001b[1;33m\u001b[0m\u001b[0m\n\u001b[0;32m   4511\u001b[0m \u001b[1;33m\u001b[0m\u001b[0m\n",
      "\u001b[1;32m~\\Anaconda3\\lib\\site-packages\\pandas\\core\\common.py\u001b[0m in \u001b[0;36mrequire_length_match\u001b[1;34m(data, index)\u001b[0m\n\u001b[0;32m    529\u001b[0m     \"\"\"\n\u001b[0;32m    530\u001b[0m     \u001b[1;32mif\u001b[0m \u001b[0mlen\u001b[0m\u001b[1;33m(\u001b[0m\u001b[0mdata\u001b[0m\u001b[1;33m)\u001b[0m \u001b[1;33m!=\u001b[0m \u001b[0mlen\u001b[0m\u001b[1;33m(\u001b[0m\u001b[0mindex\u001b[0m\u001b[1;33m)\u001b[0m\u001b[1;33m:\u001b[0m\u001b[1;33m\u001b[0m\u001b[1;33m\u001b[0m\u001b[0m\n\u001b[1;32m--> 531\u001b[1;33m         raise ValueError(\n\u001b[0m\u001b[0;32m    532\u001b[0m             \u001b[1;34m\"Length of values \"\u001b[0m\u001b[1;33m\u001b[0m\u001b[1;33m\u001b[0m\u001b[0m\n\u001b[0;32m    533\u001b[0m             \u001b[1;34mf\"({len(data)}) \"\u001b[0m\u001b[1;33m\u001b[0m\u001b[1;33m\u001b[0m\u001b[0m\n",
      "\u001b[1;31mValueError\u001b[0m: Length of values (32) does not match length of index (27)"
     ]
    }
   ],
   "source": [
    "Samrt_Watchs = pd.DataFrame()\n",
    "Samrt_Watchs ['Product Name'] = Name\n",
    "Samrt_Watchs ['Price'] = Procuct_Price\n",
    "Samrt_Watchs ['Expected_Delivery'] = Exp_Delivery\n",
    "Samrt_Watchs ['Product_URL'] = Product_URL\n",
    "Samrt_Watchs ['Return/Exchange'] = [\"-\"]"
   ]
  },
  {
   "cell_type": "code",
   "execution_count": 51,
   "id": "6d9c6e7a",
   "metadata": {},
   "outputs": [],
   "source": [
    "# scrape all product urls\n",
    "\n",
    "product_urls = []\n",
    "\n",
    "start=0\n",
    "\n",
    "end=3\n",
    "\n",
    "for page in range(start,end):#for loop for scrapping 3 page\n",
    "\n",
    "    url=driver.find_elements(By.XPATH,'//a[@class = \"a-link-normal s-underline-text s-underline-link-text s-link-style a-text-normal\"]')       #scraping urls\n",
    "\n",
    "    for i in url:\n",
    "\n",
    "        product_urls.append(i.get_attribute(\"href\"))                        #appending the urls in product_urls list\n",
    "\n",
    "    nxt_button=driver.find_element(By.XPATH,'//a[@class=\"s-pagination-item s-pagination-next s-pagination-button s-pagination-separator\"]')     #scraping the list of buttons from the page\n",
    "\n",
    "    nxt_button.click()\n",
    "\n",
    "    sleep(2)"
   ]
  },
  {
   "cell_type": "code",
   "execution_count": 53,
   "id": "12763baf",
   "metadata": {},
   "outputs": [
    {
     "data": {
      "text/plain": [
       "66"
      ]
     },
     "execution_count": 53,
     "metadata": {},
     "output_type": "execute_result"
    }
   ],
   "source": [
    "len(product_urls)"
   ]
  },
  {
   "cell_type": "code",
   "execution_count": 54,
   "id": "e6fa0080",
   "metadata": {
    "scrolled": true
   },
   "outputs": [
    {
     "data": {
      "text/plain": [
       "['https://www.amazon.in/gp/slredirect/picassoRedirect.html/ref=pa_sp_atf_next_aps_sr_pg3_1?ie=UTF8&adId=A00255302NFU7K4NLF6YQ&url=%2FNoise-ColorFit-Display-Monitoring-Smartwatches%2Fdp%2FB09PNKXSKF%2Fref%3Dsr_1_33_sspa%3Fkeywords%3DSmart%2BWatches%26qid%3D1659176591%26sr%3D8-33-spons%26psc%3D1&qualifier=1659176591&id=5550387714482532&widgetName=sp_atf_next',\n",
       " 'https://www.amazon.in/gp/slredirect/picassoRedirect.html/ref=pa_sp_atf_next_aps_sr_pg3_1?ie=UTF8&adId=A04415001C8JX6G1VTIHO&url=%2FNoise-ColorFit-Pulse-Brightness-Monitoring%2Fdp%2FB09ZL5NR68%2Fref%3Dsr_1_34_sspa%3Fkeywords%3DSmart%2BWatches%26qid%3D1659176591%26sr%3D8-34-spons%26psc%3D1&qualifier=1659176591&id=5550387714482532&widgetName=sp_atf_next',\n",
       " 'https://www.amazon.in/boAt-Wave-Lite-Smartwatch-Multiple/dp/B09V17S2BG/ref=sr_1_35?keywords=Smart+Watches&qid=1659176591&sr=8-35',\n",
       " 'https://www.amazon.in/Latest-Bluetooth-Activity-Tracker-Monitor/dp/B09XBKPKNY/ref=sr_1_36?keywords=Smart+Watches&qid=1659176591&sr=8-36',\n",
       " 'https://www.amazon.in/Noise-ColorFit-Bezel-Less-TruView-Gunmetal/dp/B093HCLPJ5/ref=sr_1_37?keywords=Smart+Watches&qid=1659176591&sr=8-37',\n",
       " 'https://www.amazon.in/Fire-Boltt-Bluetooth-Smartwatch-Monitoring-Assistant/dp/B09RKD1JD1/ref=sr_1_38?keywords=Smart+Watches&qid=1659176591&sr=8-38',\n",
       " 'https://www.amazon.in/Fire-Boltt-Ninja-Smartwatch-Sports-Tracking/dp/B09YV414XP/ref=sr_1_39?keywords=Smart+Watches&qid=1659176591&sr=8-39',\n",
       " 'https://www.amazon.in/Fire-Boltt-Ninja-Smartwatch-Sports-Tracking/dp/B09YV3F8RS/ref=sr_1_40?keywords=Smart+Watches&qid=1659176591&sr=8-40',\n",
       " 'https://www.amazon.in/Noise-ColorFit-Monitoring-TruView-Tracking/dp/B097F6QT8Z/ref=sr_1_41?keywords=Smart+Watches&qid=1659176591&sr=8-41',\n",
       " 'https://www.amazon.in/Smart-Watch-Bluetooth-Smartwatch-Activity/dp/B0B2WS64HS/ref=sr_1_42?keywords=Smart+Watches&qid=1659176591&sr=8-42',\n",
       " 'https://www.amazon.in/gp/slredirect/picassoRedirect.html/ref=pa_sp_mtf_aps_sr_pg3_1?ie=UTF8&adId=A0461791ISKOAISLEERF&url=%2FFire-Boltt-Phoenix-Bluetooth-Smartwatch-Monitoring%2Fdp%2FB0B3RSDSZ3%2Fref%3Dsr_1_43_sspa%3Fkeywords%3DSmart%2BWatches%26qid%3D1659176591%26sr%3D8-43-spons%26psc%3D1&qualifier=1659176591&id=5550387714482532&widgetName=sp_mtf',\n",
       " 'https://www.amazon.in/gp/slredirect/picassoRedirect.html/ref=pa_sp_mtf_aps_sr_pg3_1?ie=UTF8&adId=A02319101X1U9PZ356V1N&url=%2FNoise-ColorFit-368x448px-Resolution-Tracking%2Fdp%2FB09TTLB8TP%2Fref%3Dsr_1_44_sspa%3Fkeywords%3DSmart%2BWatches%26qid%3D1659176591%26sr%3D8-44-spons%26psc%3D1&qualifier=1659176591&id=5550387714482532&widgetName=sp_mtf',\n",
       " 'https://www.amazon.in/Smart-Watch-Calling-Function-Monitor/dp/B0B15PKNYP/ref=sr_1_45?keywords=Smart+Watches&qid=1659176591&sr=8-45',\n",
       " 'https://www.amazon.in/Bluetooth-Smartwatch-Wireless-Fitness-Monitor/dp/B0B5CLT8M8/ref=sr_1_46?keywords=Smart+Watches&qid=1659176591&sr=8-46',\n",
       " 'https://www.amazon.in/Amazfit-Water-Resistance-Monitoring-Blood-Oxygen-Measurement/dp/B0B37SLFKV/ref=sr_1_47?keywords=Smart+Watches&qid=1659176591&sr=8-47',\n",
       " 'https://www.amazon.in/Bluetooth-Smartwatch-Wireless-Fitness-Monitor/dp/B09MQL982V/ref=sr_1_48?keywords=Smart+Watches&qid=1659176591&sr=8-48',\n",
       " 'https://www.amazon.in/Noise-ColorFit-Monitoring-Smartwatches-Electric/dp/B09NVPJ3P4/ref=sr_1_49?keywords=Smart+Watches&qid=1659176591&sr=8-49',\n",
       " 'https://www.amazon.in/Noise-ColorFit-Bluetooth-Monitoring-SmartWatch/dp/B09P19CVS8/ref=sr_1_50?keywords=Smart+Watches&qid=1659176591&sr=8-50',\n",
       " 'https://www.amazon.in/ZEBRONICS-ZEB-FIT920CH-Customizable-Black-Rectangular/dp/B09NBR6T2B/ref=sr_1_51?keywords=Smart+Watches&qid=1659176591&sr=8-51',\n",
       " 'https://www.amazon.in/Noise-ColorFit-Monitoring-TruView-Tracking/dp/B097F6Q9HM/ref=sr_1_52?keywords=Smart+Watches&qid=1659176591&sr=8-52',\n",
       " 'https://www.amazon.in/gp/slredirect/picassoRedirect.html/ref=pa_sp_btf_aps_sr_pg3_1?ie=UTF8&adId=A018752730KELVGW4I5TP&url=%2FFire-Boltt-Smartwatch-Assistance-Monitoring-Calculator%2Fdp%2FB0B3MZHZS2%2Fref%3Dsr_1_53_sspa%3Fkeywords%3DSmart%2BWatches%26qid%3D1659176591%26sr%3D8-53-spons%26psc%3D1&qualifier=1659176591&id=5550387714482532&widgetName=sp_btf',\n",
       " 'https://www.amazon.in/gp/slredirect/picassoRedirect.html/ref=pa_sp_btf_aps_sr_pg3_1?ie=UTF8&adId=A03269016DD2YIWFJZJ4&url=%2FNoise-ColorFit-Bluetooth-Fully-Functional-Brightness%2Fdp%2FB09ZQK9X8G%2Fref%3Dsr_1_54_sspa%3Fkeywords%3DSmart%2BWatches%26qid%3D1659176591%26sr%3D8-54-spons%26psc%3D1&qualifier=1659176591&id=5550387714482532&widgetName=sp_btf',\n",
       " 'https://www.amazon.in/gp/slredirect/picassoRedirect.html/ref=pa_sp_atf_next_aps_sr_pg4_1?ie=UTF8&adId=A060091729CK2YROTWK50&url=%2FNoise-ColorFit-Display-Monitoring-Smartwatches%2Fdp%2FB09NVP6HXY%2Fref%3Dsr_1_49_sspa%3Fkeywords%3DSmart%2BWatches%26qid%3D1659176665%26sr%3D8-49-spons%26psc%3D1&qualifier=1659176665&id=4423370478677539&widgetName=sp_atf_next',\n",
       " 'https://www.amazon.in/gp/slredirect/picassoRedirect.html/ref=pa_sp_atf_next_aps_sr_pg4_1?ie=UTF8&adId=A0232154353VN3DP94GZN&url=%2FNoise-ColorFit-368x448px-Resolution-Tracking%2Fdp%2FB09TTK33W8%2Fref%3Dsr_1_50_sspa%3Fkeywords%3DSmart%2BWatches%26qid%3D1659176665%26sr%3D8-50-spons%26psc%3D1&qualifier=1659176665&id=4423370478677539&widgetName=sp_atf_next',\n",
       " 'https://www.amazon.in/Force-X11-Bluetooth-Smartwatch-Waterproof/dp/B09N3NZHV7/ref=sr_1_51?keywords=Smart+Watches&qid=1659176665&sr=8-51',\n",
       " 'https://www.amazon.in/boAt-Smartwatch-Multiple-Monitoring-Resistance/dp/B096VDJ5QX/ref=sr_1_52?keywords=Smart+Watches&qid=1659176665&sr=8-52',\n",
       " 'https://www.amazon.in/Bluetooth-SmartWatch-Android-Monitor-Activity/dp/B0B4S4XX95/ref=sr_1_53?keywords=Smart+Watches&qid=1659176665&sr=8-53',\n",
       " 'https://www.amazon.in/Zebronics-ZEB-FIT920CH-Fitness-Customizable-Pedometer/dp/B09KHB5RZD/ref=sr_1_54?keywords=Smart+Watches&qid=1659176665&sr=8-54',\n",
       " 'https://www.amazon.in/Fire-Boltt-Ninja-Smartwatch-Sports-Tracking/dp/B09YV42QHZ/ref=sr_1_55?keywords=Smart+Watches&qid=1659176665&sr=8-55',\n",
       " 'https://www.amazon.in/MARVIK%C2%AE-Activity-Tracker-Monitor-Functionality/dp/B0B14XDQ2C/ref=sr_1_56?keywords=Smart+Watches&qid=1659176665&sr=8-56',\n",
       " 'https://www.amazon.in/Bracelet-Fitness-Smartwatch-Pressure-Pedometer/dp/B09KCFF7T2/ref=sr_1_57?keywords=Smart+Watches&qid=1659176665&sr=8-57',\n",
       " 'https://www.amazon.in/Smart-Fitness-Tracker-Monitor-SmartWatch/dp/B0B23KTT85/ref=sr_1_58?keywords=Smart+Watches&qid=1659176665&sr=8-58',\n",
       " 'https://www.amazon.in/gp/slredirect/picassoRedirect.html/ref=pa_sp_mtf_aps_sr_pg4_1?ie=UTF8&adId=A04616031ALFIP399ZWMZ&url=%2FFire-Boltt-Phoenix-Bluetooth-Smartwatch-Monitoring%2Fdp%2FB0B3RS9DNF%2Fref%3Dsr_1_59_sspa%3Fkeywords%3DSmart%2BWatches%26qid%3D1659176665%26sr%3D8-59-spons%26psc%3D1&qualifier=1659176665&id=4423370478677539&widgetName=sp_mtf',\n",
       " 'https://www.amazon.in/gp/slredirect/picassoRedirect.html/ref=pa_sp_mtf_aps_sr_pg4_1?ie=UTF8&adId=A018768315YLKSYI608PH&url=%2FFire-Boltt-Smartwatch-Assistance-Monitoring-Calculator%2Fdp%2FB0B3MYTGZD%2Fref%3Dsr_1_60_sspa%3Fkeywords%3DSmart%2BWatches%26qid%3D1659176665%26sr%3D8-60-spons%26psc%3D1&qualifier=1659176665&id=4423370478677539&widgetName=sp_mtf',\n",
       " 'https://www.amazon.in/Bluetooth-Fitness-Activity-Waterproof-Pressure/dp/B09ZVGQP9J/ref=sr_1_61?keywords=Smart+Watches&qid=1659176665&sr=8-61',\n",
       " 'https://www.amazon.in/Fire-Boltt-Smartwatch-Bluetooth-Calling-Assistance/dp/B09YV3K34W/ref=sr_1_62?keywords=Smart+Watches&qid=1659176665&sr=8-62',\n",
       " 'https://www.amazon.in/boAt-Flash-Smartwatch-Activity-Resistance/dp/B0949TYBW6/ref=sr_1_63?keywords=Smart+Watches&qid=1659176665&sr=8-63',\n",
       " 'https://www.amazon.in/Noise-ColorFit-Bluetooth-Charging-Waterproof/dp/B09K7SKYY3/ref=sr_1_64?keywords=Smart+Watches&qid=1659176665&sr=8-64',\n",
       " 'https://www.amazon.in/Fire-Boltt-Ninja-Smartwatch-Sports-Tracking/dp/B09YV463SW/ref=sr_1_65?keywords=Smart+Watches&qid=1659176665&sr=8-65',\n",
       " 'https://www.amazon.in/T500-Bluetooth-Calling-Fitness-Tracker/dp/B09WYQHQCZ/ref=sr_1_66?keywords=Smart+Watches&qid=1659176665&sr=8-66',\n",
       " 'https://www.amazon.in/Noise-ColorFit-Bezel-Less-TruView-Display/dp/B094JB13XL/ref=sr_1_67?keywords=Smart+Watches&qid=1659176665&sr=8-67',\n",
       " 'https://www.amazon.in/boAt-Wave-Call-Bluetooth-Resolution/dp/B0B5D39BCD/ref=sr_1_68?keywords=Smart+Watches&qid=1659176665&sr=8-68',\n",
       " 'https://www.amazon.in/gp/slredirect/picassoRedirect.html/ref=pa_sp_btf_aps_sr_pg4_1?ie=UTF8&adId=A103883411GW3592RZAWU&url=%2FZEBRONICS-Bluetooth-Calling-Calculator-Black%2Fdp%2FB0B2JQ3RY7%2Fref%3Dsr_1_69_sspa%3Fkeywords%3DSmart%2BWatches%26qid%3D1659176665%26sr%3D8-69-spons%26psc%3D1&qualifier=1659176665&id=4423370478677539&widgetName=sp_btf',\n",
       " 'https://www.amazon.in/gp/slredirect/picassoRedirect.html/ref=pa_sp_btf_aps_sr_pg4_1?ie=UTF8&adId=A0326401JL2GIKB233P4&url=%2FNoise-ColorFit-Bluetooth-Fully-Functional-Brightness%2Fdp%2FB09ZQKWNNH%2Fref%3Dsr_1_70_sspa%3Fkeywords%3DSmart%2BWatches%26qid%3D1659176665%26sr%3D8-70-spons%26psc%3D1&qualifier=1659176665&id=4423370478677539&widgetName=sp_btf',\n",
       " 'https://www.amazon.in/gp/slredirect/picassoRedirect.html/ref=pa_sp_atf_next_aps_sr_pg5_1?ie=UTF8&adId=A04454753AHQ7VJRHBGBA&url=%2FNoise-ColorFit-Monitoring-Smartwatches-Electric%2Fdp%2FB09NVPJ3P4%2Fref%3Dsr_1_65_sspa%3Fkeywords%3DSmart%2BWatches%26qid%3D1659176667%26sr%3D8-65-spons%26psc%3D1&qualifier=1659176667&id=366714472849396&widgetName=sp_atf_next',\n",
       " 'https://www.amazon.in/gp/slredirect/picassoRedirect.html/ref=pa_sp_atf_next_aps_sr_pg5_1?ie=UTF8&adId=A02318102MVIKIB7YFI34&url=%2FNoise-ColorFit-368x448px-Resolution-Tracking%2Fdp%2FB09TTJZG1F%2Fref%3Dsr_1_66_sspa%3Fkeywords%3DSmart%2BWatches%26qid%3D1659176667%26sr%3D8-66-spons%26psc%3D1&qualifier=1659176667&id=366714472849396&widgetName=sp_atf_next',\n",
       " 'https://www.amazon.in/Bluetooth-Wireless-Fitness-Activity-Tracker/dp/B0B1BGHT4M/ref=sr_1_67?keywords=Smart+Watches&qid=1659176667&sr=8-67',\n",
       " 'https://www.amazon.in/Amazfit-Circle-Smart-Always-Display/dp/B08DXM6QZN/ref=sr_1_68?keywords=Smart+Watches&qid=1659176667&sr=8-68',\n",
       " 'https://www.amazon.in/Enabled-Measurer-Bluetooth-Calling-Fitness/dp/B0B5HFBHPV/ref=sr_1_69?keywords=Smart+Watches&qid=1659176667&sr=8-69',\n",
       " 'https://www.amazon.in/Bluetooth-Calling-Touchscreen-Activity-Tracker/dp/B09RMXNW25/ref=sr_1_70?keywords=Smart+Watches&qid=1659176667&sr=8-70',\n",
       " 'https://www.amazon.in/Noise-ColorFit-Bezel-Less-TruView-Display/dp/B094JCKPM6/ref=sr_1_71?keywords=Smart+Watches&qid=1659176667&sr=8-71',\n",
       " 'https://www.amazon.in/Shreenova-Bluetooth-Fitness-Activity-Tracker/dp/B0B5V3NQDS/ref=sr_1_72?keywords=Smart+Watches&qid=1659176667&sr=8-72',\n",
       " 'https://www.amazon.in/Fire-Boltt-Display-Resistant-Monitoring-BSW003/dp/B094QXS8NJ/ref=sr_1_73?keywords=Smart+Watches&qid=1659176667&sr=8-73',\n",
       " 'https://www.amazon.in/Noise-ColorFit-Bluetooth-Fully-Functional-Brightness/dp/B09ZQKWNNH/ref=sr_1_74?keywords=Smart+Watches&qid=1659176667&sr=8-74',\n",
       " 'https://www.amazon.in/gp/slredirect/picassoRedirect.html/ref=pa_sp_mtf_aps_sr_pg5_1?ie=UTF8&adId=A02594222MNIJFMK7R6DC&url=%2FNoise-ColorFit-Pulse-Brightness-Monitoring%2Fdp%2FB09ZKXJTX6%2Fref%3Dsr_1_75_sspa%3Fkeywords%3DSmart%2BWatches%26qid%3D1659176667%26sr%3D8-75-spons%26psc%3D1&qualifier=1659176667&id=366714472849396&widgetName=sp_mtf',\n",
       " 'https://www.amazon.in/gp/slredirect/picassoRedirect.html/ref=pa_sp_mtf_aps_sr_pg5_1?ie=UTF8&adId=A10463062HKYQBCWBQ2AT&url=%2FFastrack-1-3-inch-Display-Pressure-Multisport%2Fdp%2FB0B4NS5VSW%2Fref%3Dsr_1_76_sspa%3Fkeywords%3DSmart%2BWatches%26qid%3D1659176667%26sr%3D8-76-spons%26psc%3D1&qualifier=1659176667&id=366714472849396&widgetName=sp_mtf',\n",
       " 'https://www.amazon.in/boAt-Flash-Smartwatch-Activity-Resistance/dp/B094BLFQTM/ref=sr_1_77?keywords=Smart+Watches&qid=1659176667&sr=8-77',\n",
       " 'https://www.amazon.in/boAt-Wave-Lite-Smartwatch-Multiple/dp/B09V175NP7/ref=sr_1_78?keywords=Smart+Watches&qid=1659176667&sr=8-78',\n",
       " 'https://www.amazon.in/Fire-Boltt-Bluetooth-Smartwatch-Monitoring-Assistant/dp/B09RKJRCFM/ref=sr_1_79?keywords=Smart+Watches&qid=1659176667&sr=8-79',\n",
       " 'https://www.amazon.in/Fire-Boltt-Display-Monitor-Gesture-Resistance/dp/B09PRGXJJF/ref=sr_1_80?keywords=Smart+Watches&qid=1659176667&sr=8-80',\n",
       " 'https://www.amazon.in/ZEBRONICS-ZEB-FIT7220CH-Fitness-Function-Speaker/dp/B09FF9SLK2/ref=sr_1_81?keywords=Smart+Watches&qid=1659176667&sr=8-81',\n",
       " 'https://www.amazon.in/miobimint-Bluetooth-Touchscreen-Activity-Tracker/dp/B09RQTZGWS/ref=sr_1_82?keywords=Smart+Watches&qid=1659176667&sr=8-82',\n",
       " 'https://www.amazon.in/MARVIK-Bluetooth-SmartWatch-Activity-Functionality/dp/B0B2PQ82P4/ref=sr_1_83?keywords=Smart+Watches&qid=1659176667&sr=8-83',\n",
       " 'https://www.amazon.in/ZEBRONICS-Bluetooth-Calling-Calculator-Metallic/dp/B0B2K1Z1CS/ref=sr_1_84?keywords=Smart+Watches&qid=1659176667&sr=8-84',\n",
       " 'https://www.amazon.in/gp/slredirect/picassoRedirect.html/ref=pa_sp_btf_aps_sr_pg5_1?ie=UTF8&adId=A09461043QQ3OCVO8JN49&url=%2FMaxima-Bluetooth-Smartwatch-Assistant-Monitoring%2Fdp%2FB0B2NVDCL6%2Fref%3Dsr_1_85_sspa%3Fkeywords%3DSmart%2BWatches%26qid%3D1659176667%26sr%3D8-85-spons%26psc%3D1&qualifier=1659176667&id=366714472849396&widgetName=sp_btf',\n",
       " 'https://www.amazon.in/gp/slredirect/picassoRedirect.html/ref=pa_sp_btf_aps_sr_pg5_1?ie=UTF8&adId=A0297838281AGOHVB6MWA&url=%2FFire-Boltt-Display-Sports-Smartwatch-Tracking%2Fdp%2FB0B2PZ448K%2Fref%3Dsr_1_86_sspa%3Fkeywords%3DSmart%2BWatches%26qid%3D1659176667%26sr%3D8-86-spons%26psc%3D1&qualifier=1659176667&id=366714472849396&widgetName=sp_btf']"
      ]
     },
     "execution_count": 54,
     "metadata": {},
     "output_type": "execute_result"
    }
   ],
   "source": [
    "product_urls"
   ]
  }
 ],
 "metadata": {
  "kernelspec": {
   "display_name": "Python 3 (ipykernel)",
   "language": "python",
   "name": "python3"
  },
  "language_info": {
   "codemirror_mode": {
    "name": "ipython",
    "version": 3
   },
   "file_extension": ".py",
   "mimetype": "text/x-python",
   "name": "python",
   "nbconvert_exporter": "python",
   "pygments_lexer": "ipython3",
   "version": "3.9.7"
  }
 },
 "nbformat": 4,
 "nbformat_minor": 5
}
