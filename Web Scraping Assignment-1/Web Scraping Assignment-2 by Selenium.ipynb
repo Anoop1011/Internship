{
 "cells": [
  {
   "cell_type": "markdown",
   "id": "fddc3497",
   "metadata": {
    "scrolled": true
   },
   "source": [
    "Top 10 Data Analyst data job"
   ]
  },
  {
   "cell_type": "code",
   "execution_count": 2,
   "id": "bd65967f",
   "metadata": {},
   "outputs": [],
   "source": [
    "import selenium\n",
    "from selenium import webdriver\n",
    "from selenium.webdriver.common.by import By\n",
    "import pandas as pd\n",
    "import warnings\n",
    "warnings.filterwarnings('ignore')"
   ]
  },
  {
   "cell_type": "code",
   "execution_count": 296,
   "id": "4033b365",
   "metadata": {},
   "outputs": [],
   "source": [
    "driver = webdriver.Chrome(r'C:\\Users\\dell\\Downloads\\chromedriver_win32\\chromedriver.exe')\n",
    "import warnings\n"
   ]
  },
  {
   "cell_type": "code",
   "execution_count": 297,
   "id": "ad2fbb11",
   "metadata": {},
   "outputs": [],
   "source": [
    "driver = webdriver.Chrome('chromedriver.exe')"
   ]
  },
  {
   "cell_type": "code",
   "execution_count": 52,
   "id": "a73976ed",
   "metadata": {},
   "outputs": [],
   "source": [
    "url = 'https://www.naukri.com/data-analyst-jobs-in-bangalore?k=data%20analyst&l=bangalore'\n",
    "driver.get(url)"
   ]
  },
  {
   "cell_type": "code",
   "execution_count": 7,
   "id": "5c6d8069",
   "metadata": {},
   "outputs": [
    {
     "data": {
      "text/plain": [
       "<selenium.webdriver.remote.webelement.WebElement (session=\"e8b8056da7032afabb4ffdfc125c6e89\", element=\"2ff9978d-23de-47ee-be74-d51a723b2ceb\")>"
      ]
     },
     "execution_count": 7,
     "metadata": {},
     "output_type": "execute_result"
    }
   ],
   "source": [
    "DA = driver.find_element(By.CLASS_NAME,\"suggestor-input \")\n",
    "DA"
   ]
  },
  {
   "cell_type": "code",
   "execution_count": 8,
   "id": "8b122aec",
   "metadata": {},
   "outputs": [
    {
     "data": {
      "text/plain": [
       "<selenium.webdriver.remote.webelement.WebElement (session=\"e8b8056da7032afabb4ffdfc125c6e89\", element=\"2ff9978d-23de-47ee-be74-d51a723b2ceb\")>"
      ]
     },
     "execution_count": 8,
     "metadata": {},
     "output_type": "execute_result"
    }
   ],
   "source": [
    "DA.send_keys(\"Data Analyst\")\n",
    "DA"
   ]
  },
  {
   "cell_type": "code",
   "execution_count": 9,
   "id": "9711cd96",
   "metadata": {},
   "outputs": [
    {
     "data": {
      "text/plain": [
       "<selenium.webdriver.remote.webelement.WebElement (session=\"e8b8056da7032afabb4ffdfc125c6e89\", element=\"dcaf7282-d31b-43c4-8ba9-d61d1a9bdce8\")>"
      ]
     },
     "execution_count": 9,
     "metadata": {},
     "output_type": "execute_result"
    }
   ],
   "source": [
    "Search_loc = driver.find_element(By.XPATH,'/html/body/div[1]/div[2]/div[3]/div/div/div[5]/div/div/div/input')\n",
    "Search_loc"
   ]
  },
  {
   "cell_type": "code",
   "execution_count": 10,
   "id": "b3a60cca",
   "metadata": {},
   "outputs": [
    {
     "data": {
      "text/plain": [
       "<selenium.webdriver.remote.webelement.WebElement (session=\"e8b8056da7032afabb4ffdfc125c6e89\", element=\"dcaf7282-d31b-43c4-8ba9-d61d1a9bdce8\")>"
      ]
     },
     "execution_count": 10,
     "metadata": {},
     "output_type": "execute_result"
    }
   ],
   "source": [
    "Search_loc.send_keys('Bangalore')\n",
    "Search_loc"
   ]
  },
  {
   "cell_type": "code",
   "execution_count": 11,
   "id": "94560cf3",
   "metadata": {},
   "outputs": [
    {
     "data": {
      "text/plain": [
       "<selenium.webdriver.remote.webelement.WebElement (session=\"e8b8056da7032afabb4ffdfc125c6e89\", element=\"bcd6a12e-56db-4634-adf9-a1f14c840a3e\")>"
      ]
     },
     "execution_count": 11,
     "metadata": {},
     "output_type": "execute_result"
    }
   ],
   "source": [
    "Search_btn = driver.find_element(By.XPATH,'/html/body/div[1]/div[2]/div[3]/div/div/div[6]')\n",
    "Search_btn"
   ]
  },
  {
   "cell_type": "code",
   "execution_count": 12,
   "id": "00255c75",
   "metadata": {},
   "outputs": [],
   "source": [
    "Search_btn.click()"
   ]
  },
  {
   "cell_type": "code",
   "execution_count": 13,
   "id": "5bb52eec",
   "metadata": {},
   "outputs": [
    {
     "data": {
      "text/plain": [
       "20"
      ]
     },
     "execution_count": 13,
     "metadata": {},
     "output_type": "execute_result"
    }
   ],
   "source": [
    "job_title = driver.find_elements(By.XPATH,'//a[@class=\"title fw500 ellipsis\"]')\n",
    "len(job_title)"
   ]
  },
  {
   "cell_type": "code",
   "execution_count": 14,
   "id": "535463ee",
   "metadata": {},
   "outputs": [
    {
     "data": {
      "text/plain": [
       "['Sr.Business Data Analyst',\n",
       " 'Data Analyst I',\n",
       " 'Data Science / Data Engineer / Business Analyst / Full Stack Developer',\n",
       " 'Senior Data Analyst',\n",
       " 'Master Data Management Business Analyst',\n",
       " 'Sr Data Analyst',\n",
       " 'Data Analyst - IIM/ISB/MDI/FMS/SP Jain',\n",
       " 'Business Analyst/Data Analyst',\n",
       " 'Hiring For Data Analyst',\n",
       " 'Data Analyst']"
      ]
     },
     "execution_count": 14,
     "metadata": {},
     "output_type": "execute_result"
    }
   ],
   "source": [
    "title = []\n",
    "\n",
    "for i in job_title:\n",
    "    title.append(i.text)\n",
    "title[0:10]   "
   ]
  },
  {
   "cell_type": "code",
   "execution_count": 15,
   "id": "aaf25075",
   "metadata": {},
   "outputs": [
    {
     "data": {
      "text/plain": [
       "20"
      ]
     },
     "execution_count": 15,
     "metadata": {},
     "output_type": "execute_result"
    }
   ],
   "source": [
    "job_location = driver.find_elements(By.XPATH,'//li[@class=\"fleft grey-text br2 placeHolderLi location\"]')\n",
    "len(job_location)"
   ]
  },
  {
   "cell_type": "code",
   "execution_count": 16,
   "id": "0bace659",
   "metadata": {},
   "outputs": [
    {
     "data": {
      "text/plain": [
       "['Bangalore/Bengaluru, karnataka\\n(WFH during Covid)',\n",
       " 'Bangalore/Bengaluru',\n",
       " 'Bangalore/Bengaluru',\n",
       " 'Bangalore/Bengaluru',\n",
       " 'Bangalore/Bengaluru',\n",
       " 'Bangalore/Bengaluru',\n",
       " 'Bangalore/Bengaluru',\n",
       " 'Bangalore/Bengaluru, Hyderabad/Secunderabad, Delhi / NCR',\n",
       " 'Bangalore/Bengaluru',\n",
       " 'Bangalore/Bengaluru, Noida, Hyderabad/Secunderabad, Gurgaon/Gurugram, Chennai, Mumbai (All Areas), Pune']"
      ]
     },
     "execution_count": 16,
     "metadata": {},
     "output_type": "execute_result"
    }
   ],
   "source": [
    "location = []\n",
    "\n",
    "for i in job_location:\n",
    "    location.append(i.text)\n",
    "location[0:10] "
   ]
  },
  {
   "cell_type": "code",
   "execution_count": 17,
   "id": "061390bc",
   "metadata": {},
   "outputs": [
    {
     "data": {
      "text/plain": [
       "20"
      ]
     },
     "execution_count": 17,
     "metadata": {},
     "output_type": "execute_result"
    }
   ],
   "source": [
    "company_name = driver.find_elements(By.XPATH,'//a[@class=\"subTitle ellipsis fleft\"]')\n",
    "len(company_name)"
   ]
  },
  {
   "cell_type": "code",
   "execution_count": 18,
   "id": "70b4160d",
   "metadata": {},
   "outputs": [
    {
     "data": {
      "text/plain": [
       "['Collabera',\n",
       " 'Cerner',\n",
       " 'NETWORTH DATA PRODUCTS PRIVATE LIMITED',\n",
       " 'Hudsons bay Company (HBC)',\n",
       " 'Accenture',\n",
       " 'Thomson Reuters',\n",
       " 'K12 Techno Services Pvt Ltd',\n",
       " 'Telamon HR Solutions',\n",
       " 'Flipkart',\n",
       " 'Wipro']"
      ]
     },
     "execution_count": 18,
     "metadata": {},
     "output_type": "execute_result"
    }
   ],
   "source": [
    "Name = []\n",
    "for i in company_name:\n",
    "    Name.append(i.text)\n",
    "Name[0:10]"
   ]
  },
  {
   "cell_type": "code",
   "execution_count": 70,
   "id": "f34e952d",
   "metadata": {},
   "outputs": [
    {
     "data": {
      "text/plain": [
       "20"
      ]
     },
     "execution_count": 70,
     "metadata": {},
     "output_type": "execute_result"
    }
   ],
   "source": [
    "experience_required = driver.find_elements(By.XPATH,'//li[@class=\"fleft grey-text br2 placeHolderLi experience\"]')\n",
    "len(experience_required)"
   ]
  },
  {
   "cell_type": "code",
   "execution_count": 20,
   "id": "87f81469",
   "metadata": {},
   "outputs": [
    {
     "data": {
      "text/plain": [
       "['6-11 Yrs',\n",
       " '5-10 Yrs',\n",
       " '0-3 Yrs',\n",
       " '3-4 Yrs',\n",
       " '6-8 Yrs',\n",
       " '5-8 Yrs',\n",
       " '4-9 Yrs',\n",
       " '3-5 Yrs',\n",
       " '2-5 Yrs',\n",
       " '4-9 Yrs']"
      ]
     },
     "execution_count": 20,
     "metadata": {},
     "output_type": "execute_result"
    }
   ],
   "source": [
    "Exp = []\n",
    "for i in experience_required:\n",
    "    Exp.append(i.text)\n",
    "Exp[0:10]"
   ]
  },
  {
   "cell_type": "code",
   "execution_count": 21,
   "id": "84670268",
   "metadata": {},
   "outputs": [
    {
     "data": {
      "text/plain": [
       "(20, 20, 20, 20)"
      ]
     },
     "execution_count": 21,
     "metadata": {},
     "output_type": "execute_result"
    }
   ],
   "source": [
    "len(title),len(location),len(Name),len(Exp)"
   ]
  },
  {
   "cell_type": "code",
   "execution_count": 22,
   "id": "63837ac6",
   "metadata": {
    "scrolled": false
   },
   "outputs": [
    {
     "data": {
      "text/html": [
       "<div>\n",
       "<style scoped>\n",
       "    .dataframe tbody tr th:only-of-type {\n",
       "        vertical-align: middle;\n",
       "    }\n",
       "\n",
       "    .dataframe tbody tr th {\n",
       "        vertical-align: top;\n",
       "    }\n",
       "\n",
       "    .dataframe thead th {\n",
       "        text-align: right;\n",
       "    }\n",
       "</style>\n",
       "<table border=\"1\" class=\"dataframe\">\n",
       "  <thead>\n",
       "    <tr style=\"text-align: right;\">\n",
       "      <th></th>\n",
       "      <th>Job Title</th>\n",
       "      <th>Job Location</th>\n",
       "      <th>Company Name</th>\n",
       "      <th>Experience Required</th>\n",
       "    </tr>\n",
       "  </thead>\n",
       "  <tbody>\n",
       "    <tr>\n",
       "      <th>0</th>\n",
       "      <td>Sr.Business Data Analyst</td>\n",
       "      <td>Bangalore/Bengaluru, karnataka\\n(WFH during Co...</td>\n",
       "      <td>Collabera</td>\n",
       "      <td>6-11 Yrs</td>\n",
       "    </tr>\n",
       "    <tr>\n",
       "      <th>1</th>\n",
       "      <td>Data Analyst I</td>\n",
       "      <td>Bangalore/Bengaluru</td>\n",
       "      <td>Cerner</td>\n",
       "      <td>5-10 Yrs</td>\n",
       "    </tr>\n",
       "    <tr>\n",
       "      <th>2</th>\n",
       "      <td>Data Science / Data Engineer / Business Analys...</td>\n",
       "      <td>Bangalore/Bengaluru</td>\n",
       "      <td>NETWORTH DATA PRODUCTS PRIVATE LIMITED</td>\n",
       "      <td>0-3 Yrs</td>\n",
       "    </tr>\n",
       "    <tr>\n",
       "      <th>3</th>\n",
       "      <td>Senior Data Analyst</td>\n",
       "      <td>Bangalore/Bengaluru</td>\n",
       "      <td>Hudsons bay Company (HBC)</td>\n",
       "      <td>3-4 Yrs</td>\n",
       "    </tr>\n",
       "    <tr>\n",
       "      <th>4</th>\n",
       "      <td>Master Data Management Business Analyst</td>\n",
       "      <td>Bangalore/Bengaluru</td>\n",
       "      <td>Accenture</td>\n",
       "      <td>6-8 Yrs</td>\n",
       "    </tr>\n",
       "    <tr>\n",
       "      <th>5</th>\n",
       "      <td>Sr Data Analyst</td>\n",
       "      <td>Bangalore/Bengaluru</td>\n",
       "      <td>Thomson Reuters</td>\n",
       "      <td>5-8 Yrs</td>\n",
       "    </tr>\n",
       "    <tr>\n",
       "      <th>6</th>\n",
       "      <td>Data Analyst - IIM/ISB/MDI/FMS/SP Jain</td>\n",
       "      <td>Bangalore/Bengaluru</td>\n",
       "      <td>K12 Techno Services Pvt Ltd</td>\n",
       "      <td>4-9 Yrs</td>\n",
       "    </tr>\n",
       "    <tr>\n",
       "      <th>7</th>\n",
       "      <td>Business Analyst/Data Analyst</td>\n",
       "      <td>Bangalore/Bengaluru, Hyderabad/Secunderabad, D...</td>\n",
       "      <td>Telamon HR Solutions</td>\n",
       "      <td>3-5 Yrs</td>\n",
       "    </tr>\n",
       "    <tr>\n",
       "      <th>8</th>\n",
       "      <td>Hiring For Data Analyst</td>\n",
       "      <td>Bangalore/Bengaluru</td>\n",
       "      <td>Flipkart</td>\n",
       "      <td>2-5 Yrs</td>\n",
       "    </tr>\n",
       "    <tr>\n",
       "      <th>9</th>\n",
       "      <td>Data Analyst</td>\n",
       "      <td>Bangalore/Bengaluru, Noida, Hyderabad/Secunder...</td>\n",
       "      <td>Wipro</td>\n",
       "      <td>4-9 Yrs</td>\n",
       "    </tr>\n",
       "  </tbody>\n",
       "</table>\n",
       "</div>"
      ],
      "text/plain": [
       "                                           Job Title  \\\n",
       "0                           Sr.Business Data Analyst   \n",
       "1                                     Data Analyst I   \n",
       "2  Data Science / Data Engineer / Business Analys...   \n",
       "3                                Senior Data Analyst   \n",
       "4            Master Data Management Business Analyst   \n",
       "5                                    Sr Data Analyst   \n",
       "6             Data Analyst - IIM/ISB/MDI/FMS/SP Jain   \n",
       "7                      Business Analyst/Data Analyst   \n",
       "8                            Hiring For Data Analyst   \n",
       "9                                       Data Analyst   \n",
       "\n",
       "                                        Job Location  \\\n",
       "0  Bangalore/Bengaluru, karnataka\\n(WFH during Co...   \n",
       "1                                Bangalore/Bengaluru   \n",
       "2                                Bangalore/Bengaluru   \n",
       "3                                Bangalore/Bengaluru   \n",
       "4                                Bangalore/Bengaluru   \n",
       "5                                Bangalore/Bengaluru   \n",
       "6                                Bangalore/Bengaluru   \n",
       "7  Bangalore/Bengaluru, Hyderabad/Secunderabad, D...   \n",
       "8                                Bangalore/Bengaluru   \n",
       "9  Bangalore/Bengaluru, Noida, Hyderabad/Secunder...   \n",
       "\n",
       "                             Company Name Experience Required  \n",
       "0                               Collabera            6-11 Yrs  \n",
       "1                                  Cerner            5-10 Yrs  \n",
       "2  NETWORTH DATA PRODUCTS PRIVATE LIMITED             0-3 Yrs  \n",
       "3               Hudsons bay Company (HBC)             3-4 Yrs  \n",
       "4                               Accenture             6-8 Yrs  \n",
       "5                         Thomson Reuters             5-8 Yrs  \n",
       "6             K12 Techno Services Pvt Ltd             4-9 Yrs  \n",
       "7                    Telamon HR Solutions             3-5 Yrs  \n",
       "8                                Flipkart             2-5 Yrs  \n",
       "9                                   Wipro             4-9 Yrs  "
      ]
     },
     "execution_count": 22,
     "metadata": {},
     "output_type": "execute_result"
    }
   ],
   "source": [
    "Jobs = pd.DataFrame()\n",
    "Jobs ['Job Title'] = title\n",
    "Jobs ['Job Location'] = location\n",
    "Jobs ['Company Name'] = Name\n",
    "Jobs ['Experience Required'] = Exp\n",
    "Jobs[0:10]"
   ]
  },
  {
   "cell_type": "markdown",
   "id": "4c37f6e1",
   "metadata": {},
   "source": [
    "Top 10 Data Scientist jobs"
   ]
  },
  {
   "cell_type": "code",
   "execution_count": null,
   "id": "13e561b9",
   "metadata": {},
   "outputs": [],
   "source": []
  },
  {
   "cell_type": "code",
   "execution_count": null,
   "id": "eb33632a",
   "metadata": {},
   "outputs": [],
   "source": []
  },
  {
   "cell_type": "code",
   "execution_count": null,
   "id": "dac01bbf",
   "metadata": {},
   "outputs": [],
   "source": []
  },
  {
   "cell_type": "code",
   "execution_count": 23,
   "id": "b019464b",
   "metadata": {},
   "outputs": [],
   "source": [
    "url = 'https://www.naukri.com/'\n",
    "driver.get(url)"
   ]
  },
  {
   "cell_type": "code",
   "execution_count": 24,
   "id": "c467c570",
   "metadata": {},
   "outputs": [
    {
     "data": {
      "text/plain": [
       "<selenium.webdriver.remote.webelement.WebElement (session=\"e8b8056da7032afabb4ffdfc125c6e89\", element=\"711687d3-1a5d-41f8-8b15-8172fe18db3c\")>"
      ]
     },
     "execution_count": 24,
     "metadata": {},
     "output_type": "execute_result"
    }
   ],
   "source": [
    "Ds = driver.find_element(By.CLASS_NAME,\"suggestor-input \")\n",
    "Ds"
   ]
  },
  {
   "cell_type": "code",
   "execution_count": 25,
   "id": "0e6b9495",
   "metadata": {},
   "outputs": [
    {
     "data": {
      "text/plain": [
       "<selenium.webdriver.remote.webelement.WebElement (session=\"e8b8056da7032afabb4ffdfc125c6e89\", element=\"711687d3-1a5d-41f8-8b15-8172fe18db3c\")>"
      ]
     },
     "execution_count": 25,
     "metadata": {},
     "output_type": "execute_result"
    }
   ],
   "source": [
    "Ds.send_keys(\"Data Scientist\")\n",
    "Ds"
   ]
  },
  {
   "cell_type": "code",
   "execution_count": 26,
   "id": "450b05cb",
   "metadata": {},
   "outputs": [
    {
     "data": {
      "text/plain": [
       "<selenium.webdriver.remote.webelement.WebElement (session=\"e8b8056da7032afabb4ffdfc125c6e89\", element=\"58195dfe-2a51-490e-8de3-e189cbc3cc09\")>"
      ]
     },
     "execution_count": 26,
     "metadata": {},
     "output_type": "execute_result"
    }
   ],
   "source": [
    "Search_loc = driver.find_element(By.XPATH,'/html/body/div[1]/div[2]/div[3]/div/div/div[5]/div/div/div/input')\n",
    "Search_loc"
   ]
  },
  {
   "cell_type": "code",
   "execution_count": 27,
   "id": "b079bcab",
   "metadata": {},
   "outputs": [
    {
     "data": {
      "text/plain": [
       "<selenium.webdriver.remote.webelement.WebElement (session=\"e8b8056da7032afabb4ffdfc125c6e89\", element=\"58195dfe-2a51-490e-8de3-e189cbc3cc09\")>"
      ]
     },
     "execution_count": 27,
     "metadata": {},
     "output_type": "execute_result"
    }
   ],
   "source": [
    "Search_loc.send_keys(\"Banglore\")\n",
    "Search_loc"
   ]
  },
  {
   "cell_type": "code",
   "execution_count": 28,
   "id": "5e95f8ff",
   "metadata": {},
   "outputs": [
    {
     "data": {
      "text/plain": [
       "<selenium.webdriver.remote.webelement.WebElement (session=\"e8b8056da7032afabb4ffdfc125c6e89\", element=\"c42500e0-876d-4b31-b7b3-c028eb420918\")>"
      ]
     },
     "execution_count": 28,
     "metadata": {},
     "output_type": "execute_result"
    }
   ],
   "source": [
    "Search_btn = driver.find_element(By.XPATH,'/html/body/div[1]/div[2]/div[3]/div/div/div[6]')\n",
    "Search_btn"
   ]
  },
  {
   "cell_type": "code",
   "execution_count": 29,
   "id": "064f87cb",
   "metadata": {},
   "outputs": [],
   "source": [
    "Search_btn.click()"
   ]
  },
  {
   "cell_type": "code",
   "execution_count": 30,
   "id": "ef24eb6c",
   "metadata": {},
   "outputs": [
    {
     "data": {
      "text/plain": [
       "20"
      ]
     },
     "execution_count": 30,
     "metadata": {},
     "output_type": "execute_result"
    }
   ],
   "source": [
    "job_title = driver.find_elements(By.XPATH,'//a[@class=\"title fw500 ellipsis\"]')\n",
    "len(job_title)"
   ]
  },
  {
   "cell_type": "code",
   "execution_count": 31,
   "id": "3b1b1285",
   "metadata": {
    "scrolled": true
   },
   "outputs": [
    {
     "data": {
      "text/plain": [
       "['Urgent Job Opening For AI Practitioner - Data Science at Wipro Holmes',\n",
       " 'Hiring For Senior Data Scientist',\n",
       " 'Data Scientist',\n",
       " 'Senior Data Scientist',\n",
       " 'Dataiku Consultant',\n",
       " 'Research and Development -AI/ML -(PhD )',\n",
       " 'Opportunity For Data Scientist - Female Candidates ONLY',\n",
       " 'Senior Data Science Engineer',\n",
       " 'Data Science - Engineering Manager',\n",
       " 'Data Scientist']"
      ]
     },
     "execution_count": 31,
     "metadata": {},
     "output_type": "execute_result"
    }
   ],
   "source": [
    "title = []\n",
    "\n",
    "for i in job_title:\n",
    "    title.append(i.text)\n",
    "title[0:10]"
   ]
  },
  {
   "cell_type": "code",
   "execution_count": 32,
   "id": "93bf7f38",
   "metadata": {},
   "outputs": [
    {
     "data": {
      "text/plain": [
       "20"
      ]
     },
     "execution_count": 32,
     "metadata": {},
     "output_type": "execute_result"
    }
   ],
   "source": [
    "job_location = driver.find_elements(By.XPATH,'//li[@class=\"fleft grey-text br2 placeHolderLi location\"]')\n",
    "len(job_location)"
   ]
  },
  {
   "cell_type": "code",
   "execution_count": 33,
   "id": "85fa6042",
   "metadata": {},
   "outputs": [
    {
     "data": {
      "text/plain": [
       "['Kochi/Cochin, New Delhi, Bangalore/Bengaluru, Coimbatore, Chennai, Pune, Mumbai, Hyderabad',\n",
       " 'Pune, Bangalore/Bengaluru',\n",
       " 'Bangalore/Bengaluru',\n",
       " 'Mumbai, Hyderabad/Secunderabad, Pune, Bangalore/Bengaluru, REMOTE',\n",
       " 'Pune, Chennai, Bangalore/Bengaluru',\n",
       " 'Noida, Hyderabad/Secunderabad, Pune, Gurgaon/Gurugram, Chennai, Bangalore/Bengaluru, Delhi / NCR',\n",
       " 'Gurgaon/Gurugram, Bangalore/Bengaluru, Mumbai (All Areas)',\n",
       " 'Gurgaon/Gurugram, Bangalore/Bengaluru, Mumbai (All Areas)',\n",
       " 'Noida, Mumbai, Bangalore/Bengaluru',\n",
       " 'Bangalore/Bengaluru']"
      ]
     },
     "execution_count": 33,
     "metadata": {},
     "output_type": "execute_result"
    }
   ],
   "source": [
    "location = []\n",
    "\n",
    "for i in job_location:\n",
    "    location.append(i.text)\n",
    "location[0:10]"
   ]
  },
  {
   "cell_type": "code",
   "execution_count": 34,
   "id": "ae8f6aff",
   "metadata": {},
   "outputs": [
    {
     "data": {
      "text/plain": [
       "20"
      ]
     },
     "execution_count": 34,
     "metadata": {},
     "output_type": "execute_result"
    }
   ],
   "source": [
    "company_name = driver.find_elements(By.XPATH,'//a[@class=\"subTitle ellipsis fleft\"]')\n",
    "len(company_name)"
   ]
  },
  {
   "cell_type": "code",
   "execution_count": 35,
   "id": "7b6f431f",
   "metadata": {},
   "outputs": [
    {
     "data": {
      "text/plain": [
       "['Wipro',\n",
       " 'TATA CONSULTANCY SERVICES (TCS)',\n",
       " 'IHS Markit',\n",
       " 'Spiceworks',\n",
       " 'Wipro',\n",
       " 'EXL',\n",
       " 'PayU',\n",
       " 'Fractal Analytics',\n",
       " 'Paytm',\n",
       " 'Applied Materials']"
      ]
     },
     "execution_count": 35,
     "metadata": {},
     "output_type": "execute_result"
    }
   ],
   "source": [
    "Name = []\n",
    "for i in company_name:\n",
    "    Name.append(i.text)\n",
    "Name[0:10]"
   ]
  },
  {
   "cell_type": "code",
   "execution_count": 40,
   "id": "6362f219",
   "metadata": {},
   "outputs": [
    {
     "data": {
      "text/plain": [
       "(20, 20, 20)"
      ]
     },
     "execution_count": 40,
     "metadata": {},
     "output_type": "execute_result"
    }
   ],
   "source": [
    "len(title),len(location),len(Name)"
   ]
  },
  {
   "cell_type": "code",
   "execution_count": 41,
   "id": "76c49298",
   "metadata": {
    "scrolled": false
   },
   "outputs": [
    {
     "data": {
      "text/html": [
       "<div>\n",
       "<style scoped>\n",
       "    .dataframe tbody tr th:only-of-type {\n",
       "        vertical-align: middle;\n",
       "    }\n",
       "\n",
       "    .dataframe tbody tr th {\n",
       "        vertical-align: top;\n",
       "    }\n",
       "\n",
       "    .dataframe thead th {\n",
       "        text-align: right;\n",
       "    }\n",
       "</style>\n",
       "<table border=\"1\" class=\"dataframe\">\n",
       "  <thead>\n",
       "    <tr style=\"text-align: right;\">\n",
       "      <th></th>\n",
       "      <th>Job Title</th>\n",
       "      <th>Job Location</th>\n",
       "      <th>Company Name</th>\n",
       "    </tr>\n",
       "  </thead>\n",
       "  <tbody>\n",
       "    <tr>\n",
       "      <th>0</th>\n",
       "      <td>Urgent Job Opening For AI Practitioner - Data ...</td>\n",
       "      <td>Kochi/Cochin, New Delhi, Bangalore/Bengaluru, ...</td>\n",
       "      <td>Wipro</td>\n",
       "    </tr>\n",
       "    <tr>\n",
       "      <th>1</th>\n",
       "      <td>Hiring For Senior Data Scientist</td>\n",
       "      <td>Pune, Bangalore/Bengaluru</td>\n",
       "      <td>TATA CONSULTANCY SERVICES (TCS)</td>\n",
       "    </tr>\n",
       "    <tr>\n",
       "      <th>2</th>\n",
       "      <td>Data Scientist</td>\n",
       "      <td>Bangalore/Bengaluru</td>\n",
       "      <td>IHS Markit</td>\n",
       "    </tr>\n",
       "    <tr>\n",
       "      <th>3</th>\n",
       "      <td>Senior Data Scientist</td>\n",
       "      <td>Mumbai, Hyderabad/Secunderabad, Pune, Bangalor...</td>\n",
       "      <td>Spiceworks</td>\n",
       "    </tr>\n",
       "    <tr>\n",
       "      <th>4</th>\n",
       "      <td>Dataiku Consultant</td>\n",
       "      <td>Pune, Chennai, Bangalore/Bengaluru</td>\n",
       "      <td>Wipro</td>\n",
       "    </tr>\n",
       "    <tr>\n",
       "      <th>5</th>\n",
       "      <td>Research and Development -AI/ML -(PhD )</td>\n",
       "      <td>Noida, Hyderabad/Secunderabad, Pune, Gurgaon/G...</td>\n",
       "      <td>EXL</td>\n",
       "    </tr>\n",
       "    <tr>\n",
       "      <th>6</th>\n",
       "      <td>Opportunity For Data Scientist - Female Candid...</td>\n",
       "      <td>Gurgaon/Gurugram, Bangalore/Bengaluru, Mumbai ...</td>\n",
       "      <td>PayU</td>\n",
       "    </tr>\n",
       "    <tr>\n",
       "      <th>7</th>\n",
       "      <td>Senior Data Science Engineer</td>\n",
       "      <td>Gurgaon/Gurugram, Bangalore/Bengaluru, Mumbai ...</td>\n",
       "      <td>Fractal Analytics</td>\n",
       "    </tr>\n",
       "    <tr>\n",
       "      <th>8</th>\n",
       "      <td>Data Science - Engineering Manager</td>\n",
       "      <td>Noida, Mumbai, Bangalore/Bengaluru</td>\n",
       "      <td>Paytm</td>\n",
       "    </tr>\n",
       "    <tr>\n",
       "      <th>9</th>\n",
       "      <td>Data Scientist</td>\n",
       "      <td>Bangalore/Bengaluru</td>\n",
       "      <td>Applied Materials</td>\n",
       "    </tr>\n",
       "  </tbody>\n",
       "</table>\n",
       "</div>"
      ],
      "text/plain": [
       "                                           Job Title  \\\n",
       "0  Urgent Job Opening For AI Practitioner - Data ...   \n",
       "1                   Hiring For Senior Data Scientist   \n",
       "2                                     Data Scientist   \n",
       "3                              Senior Data Scientist   \n",
       "4                                 Dataiku Consultant   \n",
       "5            Research and Development -AI/ML -(PhD )   \n",
       "6  Opportunity For Data Scientist - Female Candid...   \n",
       "7                       Senior Data Science Engineer   \n",
       "8                 Data Science - Engineering Manager   \n",
       "9                                     Data Scientist   \n",
       "\n",
       "                                        Job Location  \\\n",
       "0  Kochi/Cochin, New Delhi, Bangalore/Bengaluru, ...   \n",
       "1                          Pune, Bangalore/Bengaluru   \n",
       "2                                Bangalore/Bengaluru   \n",
       "3  Mumbai, Hyderabad/Secunderabad, Pune, Bangalor...   \n",
       "4                 Pune, Chennai, Bangalore/Bengaluru   \n",
       "5  Noida, Hyderabad/Secunderabad, Pune, Gurgaon/G...   \n",
       "6  Gurgaon/Gurugram, Bangalore/Bengaluru, Mumbai ...   \n",
       "7  Gurgaon/Gurugram, Bangalore/Bengaluru, Mumbai ...   \n",
       "8                 Noida, Mumbai, Bangalore/Bengaluru   \n",
       "9                                Bangalore/Bengaluru   \n",
       "\n",
       "                      Company Name  \n",
       "0                            Wipro  \n",
       "1  TATA CONSULTANCY SERVICES (TCS)  \n",
       "2                       IHS Markit  \n",
       "3                       Spiceworks  \n",
       "4                            Wipro  \n",
       "5                              EXL  \n",
       "6                             PayU  \n",
       "7                Fractal Analytics  \n",
       "8                            Paytm  \n",
       "9                Applied Materials  "
      ]
     },
     "execution_count": 41,
     "metadata": {},
     "output_type": "execute_result"
    }
   ],
   "source": [
    "Jobs = pd.DataFrame()\n",
    "Jobs ['Job Title'] = title\n",
    "Jobs ['Job Location'] = location\n",
    "Jobs ['Company Name'] = Name\n",
    "Jobs[0:10]"
   ]
  },
  {
   "cell_type": "code",
   "execution_count": null,
   "id": "4bd1b2be",
   "metadata": {},
   "outputs": [],
   "source": []
  },
  {
   "cell_type": "markdown",
   "id": "4930ac71",
   "metadata": {},
   "source": [
    "Data Scientist top 10 with salary details"
   ]
  },
  {
   "cell_type": "code",
   "execution_count": null,
   "id": "d5edd902",
   "metadata": {},
   "outputs": [],
   "source": []
  },
  {
   "cell_type": "code",
   "execution_count": null,
   "id": "0bc550ef",
   "metadata": {},
   "outputs": [],
   "source": []
  },
  {
   "cell_type": "code",
   "execution_count": 53,
   "id": "cc0ebd27",
   "metadata": {},
   "outputs": [],
   "source": [
    "url = 'https://www.naukri.com/'\n",
    "driver.get(url)"
   ]
  },
  {
   "cell_type": "code",
   "execution_count": 54,
   "id": "8e2fc024",
   "metadata": {},
   "outputs": [
    {
     "data": {
      "text/plain": [
       "<selenium.webdriver.remote.webelement.WebElement (session=\"448ae36e55bef3c2d183c0ceefdf5558\", element=\"4065f97a-5391-4cca-b4be-35b3b809c42f\")>"
      ]
     },
     "execution_count": 54,
     "metadata": {},
     "output_type": "execute_result"
    }
   ],
   "source": [
    "Ds = driver.find_element(By.CLASS_NAME,\"suggestor-input \")\n",
    "Ds"
   ]
  },
  {
   "cell_type": "code",
   "execution_count": 57,
   "id": "0327427d",
   "metadata": {},
   "outputs": [
    {
     "data": {
      "text/plain": [
       "<selenium.webdriver.remote.webelement.WebElement (session=\"448ae36e55bef3c2d183c0ceefdf5558\", element=\"4065f97a-5391-4cca-b4be-35b3b809c42f\")>"
      ]
     },
     "execution_count": 57,
     "metadata": {},
     "output_type": "execute_result"
    }
   ],
   "source": [
    "Ds.send_keys(\"Data Scientist\")\n",
    "Ds"
   ]
  },
  {
   "cell_type": "code",
   "execution_count": 58,
   "id": "b4f07eb9",
   "metadata": {},
   "outputs": [
    {
     "data": {
      "text/plain": [
       "<selenium.webdriver.remote.webelement.WebElement (session=\"448ae36e55bef3c2d183c0ceefdf5558\", element=\"bc399853-f96d-4e11-80f8-cb717c5c6b5c\")>"
      ]
     },
     "execution_count": 58,
     "metadata": {},
     "output_type": "execute_result"
    }
   ],
   "source": [
    "Search_btn = driver.find_element(By.XPATH,'/html/body/div[1]/div[2]/div[3]/div/div/div[6]')\n",
    "Search_btn"
   ]
  },
  {
   "cell_type": "code",
   "execution_count": 59,
   "id": "bc4093d5",
   "metadata": {},
   "outputs": [],
   "source": [
    "Search_btn.click()"
   ]
  },
  {
   "cell_type": "code",
   "execution_count": 60,
   "id": "0c6f7737",
   "metadata": {},
   "outputs": [],
   "source": [
    "Location_Filter =driver.find_element(By.XPATH,'/html/body/div[1]/div[3]/div[2]/section[1]/div[2]/div[5]/div[2]/div[3]/label/i')\n",
    "Location_Filter.click()"
   ]
  },
  {
   "cell_type": "code",
   "execution_count": 61,
   "id": "c9c786bf",
   "metadata": {},
   "outputs": [],
   "source": [
    "Salary_Filter =driver.find_element(By.XPATH,'/html/body/div[1]/div[3]/div[2]/section[1]/div[2]/div[6]/div[2]/div[2]/label/i')\n",
    "Salary_Filter.click()"
   ]
  },
  {
   "cell_type": "code",
   "execution_count": 62,
   "id": "23b1a31b",
   "metadata": {},
   "outputs": [
    {
     "data": {
      "text/plain": [
       "20"
      ]
     },
     "execution_count": 62,
     "metadata": {},
     "output_type": "execute_result"
    }
   ],
   "source": [
    "job_title = driver.find_elements(By.XPATH,'//a[@class=\"title fw500 ellipsis\"]')\n",
    "len(job_title)"
   ]
  },
  {
   "cell_type": "code",
   "execution_count": 63,
   "id": "dc9f2bf5",
   "metadata": {
    "scrolled": true
   },
   "outputs": [
    {
     "data": {
      "text/plain": [
       "['DigitalBCG GAMMA Data Scientist',\n",
       " 'Data Scientist - Noida/Bangalore',\n",
       " 'Senior Associate - Data Science',\n",
       " 'Data Scientist - Machine learning AI',\n",
       " 'Data Scientist For Healthcare Product team',\n",
       " 'Data Scientist For Healthcare Product team',\n",
       " 'Data Scientist - MIND Infotech',\n",
       " 'Data Scientist - Engine Algorithm',\n",
       " 'Data Science Associate',\n",
       " 'Data Scientist']"
      ]
     },
     "execution_count": 63,
     "metadata": {},
     "output_type": "execute_result"
    }
   ],
   "source": [
    "title = []\n",
    "\n",
    "for i in job_title:\n",
    "    title.append(i.text)\n",
    "title[0:10]"
   ]
  },
  {
   "cell_type": "code",
   "execution_count": 64,
   "id": "3663e130",
   "metadata": {},
   "outputs": [
    {
     "data": {
      "text/plain": [
       "20"
      ]
     },
     "execution_count": 64,
     "metadata": {},
     "output_type": "execute_result"
    }
   ],
   "source": [
    "job_location = driver.find_elements(By.XPATH,'//li[@class=\"fleft grey-text br2 placeHolderLi location\"]')\n",
    "len(job_location)"
   ]
  },
  {
   "cell_type": "code",
   "execution_count": 65,
   "id": "76b10413",
   "metadata": {},
   "outputs": [
    {
     "data": {
      "text/plain": [
       "['New Delhi, Bangalore/Bengaluru',\n",
       " 'Noida, Bangalore/Bengaluru',\n",
       " 'Mumbai, Hyderabad/Secunderabad, Gurgaon/Gurugram, Bangalore/Bengaluru',\n",
       " 'Delhi / NCR, Bangalore/Bengaluru, Mumbai (All Areas)\\n(WFH during Covid)',\n",
       " 'Delhi / NCR, Chennai, Bangalore/Bengaluru',\n",
       " 'Delhi / NCR, Chennai, Bangalore/Bengaluru',\n",
       " 'Noida',\n",
       " 'Delhi / NCR, Kolkata, Mumbai, Hyderabad/Secunderabad, Lucknow, Chennai, Ahmedabad, Bangalore/Bengaluru',\n",
       " 'Delhi / NCR(Vaishali)',\n",
       " 'Delhi / NCR, Pune, Bangalore/Bengaluru']"
      ]
     },
     "execution_count": 65,
     "metadata": {},
     "output_type": "execute_result"
    }
   ],
   "source": [
    "location = []\n",
    "\n",
    "for i in job_location:\n",
    "    location.append(i.text)\n",
    "location[0:10]"
   ]
  },
  {
   "cell_type": "code",
   "execution_count": 66,
   "id": "72ca6270",
   "metadata": {},
   "outputs": [
    {
     "data": {
      "text/plain": [
       "20"
      ]
     },
     "execution_count": 66,
     "metadata": {},
     "output_type": "execute_result"
    }
   ],
   "source": [
    "company_name = driver.find_elements(By.XPATH,'//a[@class=\"subTitle ellipsis fleft\"]')\n",
    "len(company_name)"
   ]
  },
  {
   "cell_type": "code",
   "execution_count": 67,
   "id": "efce3695",
   "metadata": {},
   "outputs": [
    {
     "data": {
      "text/plain": [
       "['Boston Consulting Group',\n",
       " 'EXL',\n",
       " 'Black Turtle',\n",
       " 'Teq Analytics',\n",
       " 'SECUREKLOUD TECHNOLOGIES',\n",
       " 'SECUREKLOUD TECHNOLOGIES',\n",
       " 'MOTHERSONSUMI INFOTECH & DESIGNS LIMITED',\n",
       " 'Primo Hiring',\n",
       " 'Kreate Energy',\n",
       " 'Mount Talent Consulting Private Limited']"
      ]
     },
     "execution_count": 67,
     "metadata": {},
     "output_type": "execute_result"
    }
   ],
   "source": [
    "Name = []\n",
    "for i in company_name:\n",
    "    Name.append(i.text)\n",
    "Name[0:10]"
   ]
  },
  {
   "cell_type": "code",
   "execution_count": 69,
   "id": "0aaa6a20",
   "metadata": {},
   "outputs": [
    {
     "data": {
      "text/plain": [
       "20"
      ]
     },
     "execution_count": 69,
     "metadata": {},
     "output_type": "execute_result"
    }
   ],
   "source": [
    "experience_required = driver.find_elements(By.XPATH,'//li[@class=\"fleft grey-text br2 placeHolderLi experience\"]')\n",
    "len(experience_required)"
   ]
  },
  {
   "cell_type": "code",
   "execution_count": 71,
   "id": "1a87d164",
   "metadata": {},
   "outputs": [
    {
     "data": {
      "text/plain": [
       "['2-5 Yrs',\n",
       " '5-10 Yrs',\n",
       " '4-7 Yrs',\n",
       " '3-8 Yrs',\n",
       " '2-7 Yrs',\n",
       " '2-7 Yrs',\n",
       " '4-8 Yrs',\n",
       " '1-3 Yrs',\n",
       " '2-4 Yrs',\n",
       " '2-4 Yrs']"
      ]
     },
     "execution_count": 71,
     "metadata": {},
     "output_type": "execute_result"
    }
   ],
   "source": [
    "Exp = []\n",
    "for i in experience_required:\n",
    "    Exp.append(i.text)\n",
    "Exp[0:10]"
   ]
  },
  {
   "cell_type": "code",
   "execution_count": 72,
   "id": "750563d8",
   "metadata": {},
   "outputs": [
    {
     "data": {
      "text/plain": [
       "(20, 20, 20, 20)"
      ]
     },
     "execution_count": 72,
     "metadata": {},
     "output_type": "execute_result"
    }
   ],
   "source": [
    "len(title),len(location),len(Name),len(Exp)"
   ]
  },
  {
   "cell_type": "code",
   "execution_count": 73,
   "id": "58e22b75",
   "metadata": {},
   "outputs": [
    {
     "data": {
      "text/html": [
       "<div>\n",
       "<style scoped>\n",
       "    .dataframe tbody tr th:only-of-type {\n",
       "        vertical-align: middle;\n",
       "    }\n",
       "\n",
       "    .dataframe tbody tr th {\n",
       "        vertical-align: top;\n",
       "    }\n",
       "\n",
       "    .dataframe thead th {\n",
       "        text-align: right;\n",
       "    }\n",
       "</style>\n",
       "<table border=\"1\" class=\"dataframe\">\n",
       "  <thead>\n",
       "    <tr style=\"text-align: right;\">\n",
       "      <th></th>\n",
       "      <th>Job Title</th>\n",
       "      <th>Job Location</th>\n",
       "      <th>Company Name</th>\n",
       "      <th>Experience Required</th>\n",
       "    </tr>\n",
       "  </thead>\n",
       "  <tbody>\n",
       "    <tr>\n",
       "      <th>0</th>\n",
       "      <td>DigitalBCG GAMMA Data Scientist</td>\n",
       "      <td>New Delhi, Bangalore/Bengaluru</td>\n",
       "      <td>Boston Consulting Group</td>\n",
       "      <td>2-5 Yrs</td>\n",
       "    </tr>\n",
       "    <tr>\n",
       "      <th>1</th>\n",
       "      <td>Data Scientist - Noida/Bangalore</td>\n",
       "      <td>Noida, Bangalore/Bengaluru</td>\n",
       "      <td>EXL</td>\n",
       "      <td>5-10 Yrs</td>\n",
       "    </tr>\n",
       "    <tr>\n",
       "      <th>2</th>\n",
       "      <td>Senior Associate - Data Science</td>\n",
       "      <td>Mumbai, Hyderabad/Secunderabad, Gurgaon/Gurugr...</td>\n",
       "      <td>Black Turtle</td>\n",
       "      <td>4-7 Yrs</td>\n",
       "    </tr>\n",
       "    <tr>\n",
       "      <th>3</th>\n",
       "      <td>Data Scientist - Machine learning AI</td>\n",
       "      <td>Delhi / NCR, Bangalore/Bengaluru, Mumbai (All ...</td>\n",
       "      <td>Teq Analytics</td>\n",
       "      <td>3-8 Yrs</td>\n",
       "    </tr>\n",
       "    <tr>\n",
       "      <th>4</th>\n",
       "      <td>Data Scientist For Healthcare Product team</td>\n",
       "      <td>Delhi / NCR, Chennai, Bangalore/Bengaluru</td>\n",
       "      <td>SECUREKLOUD TECHNOLOGIES</td>\n",
       "      <td>2-7 Yrs</td>\n",
       "    </tr>\n",
       "    <tr>\n",
       "      <th>5</th>\n",
       "      <td>Data Scientist For Healthcare Product team</td>\n",
       "      <td>Delhi / NCR, Chennai, Bangalore/Bengaluru</td>\n",
       "      <td>SECUREKLOUD TECHNOLOGIES</td>\n",
       "      <td>2-7 Yrs</td>\n",
       "    </tr>\n",
       "    <tr>\n",
       "      <th>6</th>\n",
       "      <td>Data Scientist - MIND Infotech</td>\n",
       "      <td>Noida</td>\n",
       "      <td>MOTHERSONSUMI INFOTECH &amp; DESIGNS LIMITED</td>\n",
       "      <td>4-8 Yrs</td>\n",
       "    </tr>\n",
       "    <tr>\n",
       "      <th>7</th>\n",
       "      <td>Data Scientist - Engine Algorithm</td>\n",
       "      <td>Delhi / NCR, Kolkata, Mumbai, Hyderabad/Secund...</td>\n",
       "      <td>Primo Hiring</td>\n",
       "      <td>1-3 Yrs</td>\n",
       "    </tr>\n",
       "    <tr>\n",
       "      <th>8</th>\n",
       "      <td>Data Science Associate</td>\n",
       "      <td>Delhi / NCR(Vaishali)</td>\n",
       "      <td>Kreate Energy</td>\n",
       "      <td>2-4 Yrs</td>\n",
       "    </tr>\n",
       "    <tr>\n",
       "      <th>9</th>\n",
       "      <td>Data Scientist</td>\n",
       "      <td>Delhi / NCR, Pune, Bangalore/Bengaluru</td>\n",
       "      <td>Mount Talent Consulting Private Limited</td>\n",
       "      <td>2-4 Yrs</td>\n",
       "    </tr>\n",
       "  </tbody>\n",
       "</table>\n",
       "</div>"
      ],
      "text/plain": [
       "                                    Job Title  \\\n",
       "0             DigitalBCG GAMMA Data Scientist   \n",
       "1            Data Scientist - Noida/Bangalore   \n",
       "2             Senior Associate - Data Science   \n",
       "3        Data Scientist - Machine learning AI   \n",
       "4  Data Scientist For Healthcare Product team   \n",
       "5  Data Scientist For Healthcare Product team   \n",
       "6              Data Scientist - MIND Infotech   \n",
       "7           Data Scientist - Engine Algorithm   \n",
       "8                      Data Science Associate   \n",
       "9                              Data Scientist   \n",
       "\n",
       "                                        Job Location  \\\n",
       "0                     New Delhi, Bangalore/Bengaluru   \n",
       "1                         Noida, Bangalore/Bengaluru   \n",
       "2  Mumbai, Hyderabad/Secunderabad, Gurgaon/Gurugr...   \n",
       "3  Delhi / NCR, Bangalore/Bengaluru, Mumbai (All ...   \n",
       "4          Delhi / NCR, Chennai, Bangalore/Bengaluru   \n",
       "5          Delhi / NCR, Chennai, Bangalore/Bengaluru   \n",
       "6                                              Noida   \n",
       "7  Delhi / NCR, Kolkata, Mumbai, Hyderabad/Secund...   \n",
       "8                              Delhi / NCR(Vaishali)   \n",
       "9             Delhi / NCR, Pune, Bangalore/Bengaluru   \n",
       "\n",
       "                               Company Name Experience Required  \n",
       "0                   Boston Consulting Group             2-5 Yrs  \n",
       "1                                       EXL            5-10 Yrs  \n",
       "2                              Black Turtle             4-7 Yrs  \n",
       "3                             Teq Analytics             3-8 Yrs  \n",
       "4                  SECUREKLOUD TECHNOLOGIES             2-7 Yrs  \n",
       "5                  SECUREKLOUD TECHNOLOGIES             2-7 Yrs  \n",
       "6  MOTHERSONSUMI INFOTECH & DESIGNS LIMITED             4-8 Yrs  \n",
       "7                              Primo Hiring             1-3 Yrs  \n",
       "8                             Kreate Energy             2-4 Yrs  \n",
       "9   Mount Talent Consulting Private Limited             2-4 Yrs  "
      ]
     },
     "execution_count": 73,
     "metadata": {},
     "output_type": "execute_result"
    }
   ],
   "source": [
    "Jobs = pd.DataFrame()\n",
    "Jobs ['Job Title'] = title\n",
    "Jobs ['Job Location'] = location\n",
    "Jobs ['Company Name'] = Name\n",
    "Jobs ['Experience Required'] = Exp\n",
    "Jobs[0:10]"
   ]
  },
  {
   "cell_type": "code",
   "execution_count": null,
   "id": "5e034272",
   "metadata": {},
   "outputs": [],
   "source": []
  },
  {
   "cell_type": "code",
   "execution_count": null,
   "id": "cd1a386a",
   "metadata": {},
   "outputs": [],
   "source": []
  },
  {
   "cell_type": "markdown",
   "id": "3002e295",
   "metadata": {},
   "source": [
    "Flipkart to 100 sun glasses"
   ]
  },
  {
   "cell_type": "code",
   "execution_count": null,
   "id": "c266dd20",
   "metadata": {},
   "outputs": [],
   "source": []
  },
  {
   "cell_type": "code",
   "execution_count": null,
   "id": "87200e88",
   "metadata": {},
   "outputs": [],
   "source": []
  },
  {
   "cell_type": "code",
   "execution_count": 75,
   "id": "3e6e80ce",
   "metadata": {},
   "outputs": [],
   "source": [
    "url = ' https://www.flipkart.com/'\n",
    "driver.get(url)"
   ]
  },
  {
   "cell_type": "code",
   "execution_count": 76,
   "id": "38e0e4f7",
   "metadata": {},
   "outputs": [
    {
     "data": {
      "text/plain": [
       "<selenium.webdriver.remote.webelement.WebElement (session=\"448ae36e55bef3c2d183c0ceefdf5558\", element=\"448110c0-21cd-459a-9af1-82e13fa212d6\")>"
      ]
     },
     "execution_count": 76,
     "metadata": {},
     "output_type": "execute_result"
    }
   ],
   "source": [
    "Sun_glasses = driver.find_element(By.CLASS_NAME,\"_3704LK\")\n",
    "Sun_glasses"
   ]
  },
  {
   "cell_type": "code",
   "execution_count": 77,
   "id": "11f69505",
   "metadata": {},
   "outputs": [],
   "source": [
    "Sun_glasses.send_keys(\"Sun Glasses\")"
   ]
  },
  {
   "cell_type": "code",
   "execution_count": 79,
   "id": "52fbb83b",
   "metadata": {},
   "outputs": [
    {
     "data": {
      "text/plain": [
       "<selenium.webdriver.remote.webelement.WebElement (session=\"448ae36e55bef3c2d183c0ceefdf5558\", element=\"25eda49e-4af5-4ac5-b07a-6ff3ceef4cdc\")>"
      ]
     },
     "execution_count": 79,
     "metadata": {},
     "output_type": "execute_result"
    }
   ],
   "source": [
    "Search_btn = driver.find_element(By.XPATH,'/html/body/div/div/div[1]/div[1]/div[2]/div[2]/form/div/button')\n",
    "Search_btn"
   ]
  },
  {
   "cell_type": "code",
   "execution_count": 80,
   "id": "d3b00271",
   "metadata": {},
   "outputs": [],
   "source": [
    "Search_btn.click()"
   ]
  },
  {
   "cell_type": "code",
   "execution_count": 81,
   "id": "9ca8cea2",
   "metadata": {},
   "outputs": [
    {
     "data": {
      "text/plain": [
       "40"
      ]
     },
     "execution_count": 81,
     "metadata": {},
     "output_type": "execute_result"
    }
   ],
   "source": [
    "Brand = driver.find_elements(By.XPATH,'//div[@class=\"_2WkVRV\"]')\n",
    "len(Brand)"
   ]
  },
  {
   "cell_type": "code",
   "execution_count": 82,
   "id": "95c8f43f",
   "metadata": {
    "scrolled": true
   },
   "outputs": [
    {
     "data": {
      "text/plain": [
       "['PIRASO',\n",
       " 'VINCENT CHASE',\n",
       " 'DAHAAZIL',\n",
       " 'New Specs',\n",
       " 'Elligator',\n",
       " 'SUNBEE',\n",
       " 'PIRASO',\n",
       " 'PIRASO',\n",
       " 'Fastrack',\n",
       " 'PIRASO',\n",
       " 'Fastrack',\n",
       " 'PIRASO',\n",
       " 'PIRASO',\n",
       " 'ROZZETTA CRAFT',\n",
       " 'SRPM',\n",
       " 'PIRASO',\n",
       " 'Fastrack',\n",
       " 'PIRASO',\n",
       " 'PIRASO',\n",
       " 'PIRASO',\n",
       " 'Lee Topper',\n",
       " 'kingsunglasses',\n",
       " 'SHAAH COLLECTIONS',\n",
       " 'PIRASO',\n",
       " 'SHAAH COLLECTIONS',\n",
       " 'New Specs',\n",
       " 'Lee Topper',\n",
       " 'VINCENT CHASE',\n",
       " 'CRYSTAL CART',\n",
       " 'ROZZETTA CRAFT',\n",
       " 'ROZZETTA CRAFT',\n",
       " 'ROZZETTA CRAFT',\n",
       " 'Lee Topper',\n",
       " 'SUNBEE',\n",
       " 'Fastrack',\n",
       " 'PIRASO',\n",
       " 'ROZZETTA CRAFT',\n",
       " 'CRYSTAL CART',\n",
       " 'Fastrack',\n",
       " 'povty']"
      ]
     },
     "execution_count": 82,
     "metadata": {},
     "output_type": "execute_result"
    }
   ],
   "source": [
    "Brand_name = []\n",
    "\n",
    "for i in Brand:\n",
    "    Brand_name.append(i.text)\n",
    "Brand_name"
   ]
  },
  {
   "cell_type": "code",
   "execution_count": 83,
   "id": "d12429ba",
   "metadata": {},
   "outputs": [
    {
     "data": {
      "text/plain": [
       "40"
      ]
     },
     "execution_count": 83,
     "metadata": {},
     "output_type": "execute_result"
    }
   ],
   "source": [
    "Product_Description = driver.find_elements(By.XPATH,'//a[@class=\"IRpwTa\"]')\n",
    "len(Product_Description)"
   ]
  },
  {
   "cell_type": "code",
   "execution_count": 84,
   "id": "79b33ba5",
   "metadata": {
    "scrolled": true
   },
   "outputs": [
    {
     "data": {
      "text/plain": [
       "['Polarized Retro Square Sunglasses (47)',\n",
       " 'by Lenskart Polarized, UV Protection Rectangular Sungla...',\n",
       " 'UV Protection, Night Vision, Riding Glasses Wayfarer, W...',\n",
       " 'UV Protection Rectangular Sunglasses (Free Size)',\n",
       " 'UV Protection Round Sunglasses (54)',\n",
       " 'UV Protection, Polarized Wayfarer Sunglasses (Free Size...',\n",
       " 'UV Protection Aviator Sunglasses (54)',\n",
       " 'UV Protection Rectangular, Over-sized Sunglasses (Free ...',\n",
       " 'UV Protection Rectangular Sunglasses (Free Size)',\n",
       " 'UV Protection Aviator Sunglasses (58)',\n",
       " 'UV Protection Wayfarer Sunglasses (Free Size)',\n",
       " 'UV Protection Over-sized Sunglasses (64)',\n",
       " 'UV Protection Aviator Sunglasses (54)',\n",
       " 'Polarized, Riding Glasses Sports, Wrap-around Sunglasse...',\n",
       " 'UV Protection Wayfarer Sunglasses (50)',\n",
       " 'UV Protection Aviator Sunglasses (55)',\n",
       " 'UV Protection Aviator Sunglasses (Free Size)',\n",
       " 'UV Protection Aviator Sunglasses (54)',\n",
       " 'UV Protection Wayfarer Sunglasses (32)',\n",
       " 'UV Protection Over-sized Sunglasses (64)',\n",
       " 'Riding Glasses Wrap-around Sunglasses (Free Size)',\n",
       " 'UV Protection, Riding Glasses, Mirrored Wayfarer Sungla...',\n",
       " 'UV Protection, Polarized, Mirrored Rectangular Sunglass...',\n",
       " 'UV Protection Over-sized Sunglasses (60)',\n",
       " 'UV Protection Round Sunglasses (Free Size)',\n",
       " 'UV Protection Rectangular Sunglasses (Free Size)',\n",
       " 'UV Protection Cat-eye Sunglasses (Free Size)',\n",
       " 'by Lenskart UV Protection Wayfarer Sunglasses (51)',\n",
       " 'Mirrored, Night Vision Oval Sunglasses (Free Size)',\n",
       " 'UV Protection, Gradient Retro Square Sunglasses (Free S...',\n",
       " 'UV Protection Rectangular Sunglasses (Free Size)',\n",
       " 'UV Protection, Gradient Round Sunglasses (Free Size)',\n",
       " 'UV Protection Rectangular Sunglasses (Free Size)',\n",
       " 'UV Protection, Polarized, Mirrored Retro Square Sunglas...',\n",
       " 'UV Protection Shield Sunglasses (Free Size)',\n",
       " 'UV Protection Butterfly Sunglasses (60)',\n",
       " 'UV Protection, Gradient Rectangular Sunglasses (Free Si...',\n",
       " 'Polarized, UV Protection, Mirrored, Gradient Rectangula...',\n",
       " 'Mirrored, UV Protection Wayfarer Sunglasses (Free Size)',\n",
       " 'UV Protection Retro Square Sunglasses (Free Size)']"
      ]
     },
     "execution_count": 84,
     "metadata": {},
     "output_type": "execute_result"
    }
   ],
   "source": [
    "Description = []\n",
    "\n",
    "for i in Product_Description:\n",
    "    Description.append(i.text)\n",
    "Description"
   ]
  },
  {
   "cell_type": "code",
   "execution_count": 85,
   "id": "7214c3a2",
   "metadata": {},
   "outputs": [
    {
     "data": {
      "text/plain": [
       "40"
      ]
     },
     "execution_count": 85,
     "metadata": {},
     "output_type": "execute_result"
    }
   ],
   "source": [
    "Price = driver.find_elements(By.XPATH,'//div[@class=\"_30jeq3\"]')\n",
    "len(Price)"
   ]
  },
  {
   "cell_type": "code",
   "execution_count": 86,
   "id": "953e85af",
   "metadata": {
    "scrolled": true
   },
   "outputs": [
    {
     "data": {
      "text/plain": [
       "['₹494',\n",
       " '₹749',\n",
       " '₹177',\n",
       " '₹264',\n",
       " '₹298',\n",
       " '₹283',\n",
       " '₹249',\n",
       " '₹368',\n",
       " '₹639',\n",
       " '₹359',\n",
       " '₹719',\n",
       " '₹439',\n",
       " '₹249',\n",
       " '₹474',\n",
       " '₹211',\n",
       " '₹246',\n",
       " '₹639',\n",
       " '₹246',\n",
       " '₹226',\n",
       " '₹439',\n",
       " '₹299',\n",
       " '₹164',\n",
       " '₹195',\n",
       " '₹439',\n",
       " '₹289',\n",
       " '₹154',\n",
       " '₹229',\n",
       " '₹749',\n",
       " '₹189',\n",
       " '₹331',\n",
       " '₹303',\n",
       " '₹379',\n",
       " '₹219',\n",
       " '₹259',\n",
       " '₹719',\n",
       " '₹405',\n",
       " '₹379',\n",
       " '₹529',\n",
       " '₹799',\n",
       " '₹319']"
      ]
     },
     "execution_count": 86,
     "metadata": {},
     "output_type": "execute_result"
    }
   ],
   "source": [
    "Product_Price = []\n",
    "\n",
    "for i in Price:\n",
    "    Product_Price.append(i.text)\n",
    "Product_Price"
   ]
  },
  {
   "cell_type": "code",
   "execution_count": 87,
   "id": "5970287b",
   "metadata": {},
   "outputs": [],
   "source": [
    "Next_btn = driver.find_element(By.XPATH,'/html/body/div/div/div[3]/div[1]/div[2]/div[12]/div/div/nav/a[11]')\n",
    "Next_btn.click()"
   ]
  },
  {
   "cell_type": "code",
   "execution_count": 88,
   "id": "2a17f0e2",
   "metadata": {},
   "outputs": [
    {
     "data": {
      "text/plain": [
       "40"
      ]
     },
     "execution_count": 88,
     "metadata": {},
     "output_type": "execute_result"
    }
   ],
   "source": [
    "Brand_name_P2 = driver.find_elements(By.XPATH,'//div[@class=\"_2WkVRV\"]')\n",
    "len(Brand)"
   ]
  },
  {
   "cell_type": "code",
   "execution_count": 89,
   "id": "1222e5e0",
   "metadata": {
    "scrolled": true
   },
   "outputs": [
    {
     "data": {
      "text/plain": [
       "['Sewell',\n",
       " 'Lee Topper',\n",
       " 'kingsunglasses',\n",
       " 'ROZZETTA CRAFT',\n",
       " 'AISLIN',\n",
       " 'PIRASO',\n",
       " 'VINCENT CHASE',\n",
       " 'VINCENT CHASE',\n",
       " 'Fastrack',\n",
       " 'kingsunglasses',\n",
       " 'DEIXELS',\n",
       " 'ROZZETTA CRAFT',\n",
       " 'New Specs',\n",
       " 'Fastrack',\n",
       " 'Fastrack',\n",
       " 'ROZZETTA CRAFT',\n",
       " 'Fastrack',\n",
       " 'Elligator',\n",
       " 'PIRASO',\n",
       " 'povty',\n",
       " 'ROYAL SON',\n",
       " 'Urbanic',\n",
       " 'kingsunglasses',\n",
       " 'Singco India',\n",
       " 'PIRASO',\n",
       " 'kingsunglasses',\n",
       " 'Fastrack',\n",
       " 'ROZZETTA CRAFT',\n",
       " 'SHAAH COLLECTIONS',\n",
       " 'SUNBEE',\n",
       " 'Mi',\n",
       " 'ROZZETTA CRAFT',\n",
       " 'New Specs',\n",
       " 'PHENOMENAL',\n",
       " 'ROYAL SON',\n",
       " 'VINCENT CHASE',\n",
       " 'ROYAL SON',\n",
       " 'New Specs',\n",
       " 'Fastrack',\n",
       " 'Singco India']"
      ]
     },
     "execution_count": 89,
     "metadata": {},
     "output_type": "execute_result"
    }
   ],
   "source": [
    "Brand_name = []\n",
    "\n",
    "for i in Brand_name_P2:\n",
    "    Brand_name.append(i.text)\n",
    "Brand_name"
   ]
  },
  {
   "cell_type": "code",
   "execution_count": 90,
   "id": "14a9404e",
   "metadata": {},
   "outputs": [
    {
     "data": {
      "text/plain": [
       "40"
      ]
     },
     "execution_count": 90,
     "metadata": {},
     "output_type": "execute_result"
    }
   ],
   "source": [
    "Product_Description_P2 = driver.find_elements(By.XPATH,'//a[@class=\"IRpwTa\"]')\n",
    "len(Product_Description_P2)"
   ]
  },
  {
   "cell_type": "code",
   "execution_count": 91,
   "id": "0af824a9",
   "metadata": {
    "scrolled": true
   },
   "outputs": [
    {
     "data": {
      "text/plain": [
       "['Mirrored, Night Vision, UV Protection, Riding Glasses S...',\n",
       " 'UV Protection Round Sunglasses (Free Size)',\n",
       " 'UV Protection Round Sunglasses (54)',\n",
       " 'UV Protection, Gradient Round Sunglasses (Free Size)',\n",
       " 'UV Protection, Gradient Butterfly, Retro Square Sunglas...',\n",
       " 'UV Protection Retro Square Sunglasses (52)',\n",
       " 'by Lenskart Polarized, UV Protection Wayfarer Sunglasse...',\n",
       " 'by Lenskart UV Protection Wayfarer Sunglasses (51)',\n",
       " 'UV Protection Wayfarer Sunglasses (Free Size)',\n",
       " 'UV Protection Rectangular Sunglasses (55)',\n",
       " 'UV Protection Aviator Sunglasses (Free Size)',\n",
       " 'UV Protection, Gradient Rectangular Sunglasses (Free Si...',\n",
       " 'UV Protection Round Sunglasses (Free Size)',\n",
       " 'UV Protection Aviator Sunglasses (58)',\n",
       " 'Gradient, UV Protection Wayfarer Sunglasses (Free Size)',\n",
       " 'UV Protection, Gradient Retro Square Sunglasses (Free S...',\n",
       " 'Gradient, UV Protection Wayfarer Sunglasses (Free Size)',\n",
       " 'UV Protection Round Sunglasses (53)',\n",
       " 'UV Protection Over-sized Sunglasses (65)',\n",
       " 'UV Protection Retro Square Sunglasses (Free Size)',\n",
       " 'Mirrored Aviator Sunglasses (55)',\n",
       " 'Others Oval Sunglasses (Free Size)',\n",
       " 'UV Protection Round Sunglasses (Free Size)',\n",
       " 'Gradient, Toughened Glass Lens, UV Protection Retro Squ...',\n",
       " 'UV Protection Aviator Sunglasses (55)',\n",
       " 'UV Protection, Mirrored Aviator Sunglasses (Free Size)',\n",
       " 'UV Protection Aviator Sunglasses (58)',\n",
       " 'UV Protection Spectacle Sunglasses (Free Size)',\n",
       " 'UV Protection Round Sunglasses (Free Size)',\n",
       " 'UV Protection, Polarized, Mirrored Wayfarer Sunglasses ...',\n",
       " 'Polarized Aviator Sunglasses (Free Size)',\n",
       " 'UV Protection, Riding Glasses Rectangular Sunglasses (F...',\n",
       " 'UV Protection Aviator Sunglasses (Free Size)',\n",
       " 'UV Protection Retro Square Sunglasses (Free Size)',\n",
       " 'Mirrored Aviator Sunglasses (Free Size)',\n",
       " 'by Lenskart UV Protection Rectangular Sunglasses (54)',\n",
       " 'Mirrored Aviator Sunglasses (58)',\n",
       " 'Mirrored, UV Protection, Riding Glasses, Others Round S...',\n",
       " 'UV Protection Wayfarer Sunglasses (Free Size)',\n",
       " 'Gradient, Toughened Glass Lens, UV Protection Retro Squ...']"
      ]
     },
     "execution_count": 91,
     "metadata": {},
     "output_type": "execute_result"
    }
   ],
   "source": [
    "Description = []\n",
    "\n",
    "for i in Product_Description_P2:\n",
    "    Description.append(i.text)\n",
    "Description"
   ]
  },
  {
   "cell_type": "code",
   "execution_count": 92,
   "id": "b337f7ee",
   "metadata": {},
   "outputs": [
    {
     "data": {
      "text/plain": [
       "40"
      ]
     },
     "execution_count": 92,
     "metadata": {},
     "output_type": "execute_result"
    }
   ],
   "source": [
    "Price_P2 = driver.find_elements(By.XPATH,'//div[@class=\"_30jeq3\"]')\n",
    "len(Price_P2)"
   ]
  },
  {
   "cell_type": "code",
   "execution_count": 93,
   "id": "54d8c88a",
   "metadata": {
    "scrolled": true
   },
   "outputs": [
    {
     "data": {
      "text/plain": [
       "['₹265',\n",
       " '₹245',\n",
       " '₹194',\n",
       " '₹379',\n",
       " '₹498',\n",
       " '₹306',\n",
       " '₹749',\n",
       " '₹749',\n",
       " '₹719',\n",
       " '₹189',\n",
       " '₹224',\n",
       " '₹379',\n",
       " '₹268',\n",
       " '₹1,039',\n",
       " '₹639',\n",
       " '₹331',\n",
       " '₹719',\n",
       " '₹207',\n",
       " '₹419',\n",
       " '₹319',\n",
       " '₹379',\n",
       " '₹719',\n",
       " '₹329',\n",
       " '₹664',\n",
       " '₹246',\n",
       " '₹269',\n",
       " '₹1,099',\n",
       " '₹379',\n",
       " '₹324',\n",
       " '₹283',\n",
       " '₹1,009',\n",
       " '₹426',\n",
       " '₹214',\n",
       " '₹341',\n",
       " '₹379',\n",
       " '₹749',\n",
       " '₹379',\n",
       " '₹299',\n",
       " '₹809',\n",
       " '₹629']"
      ]
     },
     "execution_count": 93,
     "metadata": {},
     "output_type": "execute_result"
    }
   ],
   "source": [
    "Product_Price = []\n",
    "\n",
    "for i in Price_P2:\n",
    "    Product_Price.append(i.text)\n",
    "Product_Price"
   ]
  },
  {
   "cell_type": "code",
   "execution_count": 95,
   "id": "d0202989",
   "metadata": {},
   "outputs": [],
   "source": [
    "Next_btn = driver.find_element(By.XPATH,'/html/body/div/div/div[3]/div[1]/div[2]/div[12]/div/div/nav/a[12]')\n",
    "Next_btn.click()"
   ]
  },
  {
   "cell_type": "code",
   "execution_count": 96,
   "id": "4848dc59",
   "metadata": {},
   "outputs": [
    {
     "data": {
      "text/plain": [
       "40"
      ]
     },
     "execution_count": 96,
     "metadata": {},
     "output_type": "execute_result"
    }
   ],
   "source": [
    "Brand_name_P3 = driver.find_elements(By.XPATH,'//div[@class=\"_2WkVRV\"]')\n",
    "len(Brand)"
   ]
  },
  {
   "cell_type": "code",
   "execution_count": 98,
   "id": "6825dc9b",
   "metadata": {
    "scrolled": true
   },
   "outputs": [
    {
     "data": {
      "text/plain": [
       "['ROZZETTA CRAFT',\n",
       " 'GANSTA',\n",
       " 'ROZZETTA CRAFT',\n",
       " 'john jacobs',\n",
       " 'VINCENT CHASE',\n",
       " 'Fastrack',\n",
       " 'SRPM',\n",
       " 'AISLIN',\n",
       " 'ROYAL SON',\n",
       " 'Fastrack',\n",
       " 'VINCENT CHASE',\n",
       " 'AISLIN',\n",
       " 'Fastrack',\n",
       " 'Fastrack',\n",
       " 'VINCENT CHASE',\n",
       " 'AISLIN',\n",
       " 'kingsunglasses',\n",
       " 'Singco India',\n",
       " 'CRYSTAL CART',\n",
       " 'AISLIN']"
      ]
     },
     "execution_count": 98,
     "metadata": {},
     "output_type": "execute_result"
    }
   ],
   "source": [
    "Brand_name = []\n",
    "\n",
    "for i in Brand_name_P3:\n",
    "    Brand_name.append(i.text)\n",
    "Brand_name[0:20]"
   ]
  },
  {
   "cell_type": "code",
   "execution_count": 99,
   "id": "2e653e25",
   "metadata": {},
   "outputs": [
    {
     "data": {
      "text/plain": [
       "40"
      ]
     },
     "execution_count": 99,
     "metadata": {},
     "output_type": "execute_result"
    }
   ],
   "source": [
    "Product_Description_P3 = driver.find_elements(By.XPATH,'//a[@class=\"IRpwTa\"]')\n",
    "len(Product_Description_P3)"
   ]
  },
  {
   "cell_type": "code",
   "execution_count": 101,
   "id": "a9c879c9",
   "metadata": {
    "scrolled": true
   },
   "outputs": [
    {
     "data": {
      "text/plain": [
       "['UV Protection Retro Square Sunglasses (Free Size)',\n",
       " 'UV Protection Aviator Sunglasses (57)',\n",
       " 'UV Protection, Gradient Round Sunglasses (Free Size)',\n",
       " 'UV Protection Wayfarer Sunglasses (46)',\n",
       " 'by Lenskart Polarized, UV Protection Rectangular Sungla...',\n",
       " 'UV Protection Aviator Sunglasses (Free Size)',\n",
       " 'Night Vision, UV Protection Round Sunglasses (54)',\n",
       " 'UV Protection Oval Sunglasses (63)',\n",
       " 'UV Protection Rectangular, Retro Square Sunglasses (58)',\n",
       " 'UV Protection Aviator Sunglasses (58)',\n",
       " 'Polarized, UV Protection Round Sunglasses (50)',\n",
       " 'UV Protection Oval, Aviator Sunglasses (60)',\n",
       " 'UV Protection Aviator Sunglasses (57)',\n",
       " 'Gradient, UV Protection Wayfarer Sunglasses (Free Size)',\n",
       " 'by Lenskart Polarized, UV Protection Cat-eye Sunglasses...',\n",
       " 'UV Protection, Gradient Cat-eye Sunglasses (61)',\n",
       " 'Mirrored, UV Protection Wayfarer Sunglasses (53)',\n",
       " 'Gradient, Toughened Glass Lens, UV Protection Retro Squ...',\n",
       " 'UV Protection, Gradient Round Sunglasses (Free Size)',\n",
       " 'UV Protection Oval, Aviator Sunglasses (62)']"
      ]
     },
     "execution_count": 101,
     "metadata": {},
     "output_type": "execute_result"
    }
   ],
   "source": [
    "Description = []\n",
    "\n",
    "for i in Product_Description_P3:\n",
    "    Description.append(i.text)\n",
    "Description[0:20]"
   ]
  },
  {
   "cell_type": "code",
   "execution_count": 102,
   "id": "963183b8",
   "metadata": {},
   "outputs": [
    {
     "data": {
      "text/plain": [
       "40"
      ]
     },
     "execution_count": 102,
     "metadata": {},
     "output_type": "execute_result"
    }
   ],
   "source": [
    "Price_P3 = driver.find_elements(By.XPATH,'//div[@class=\"_30jeq3\"]')\n",
    "len(Price_P3)"
   ]
  },
  {
   "cell_type": "code",
   "execution_count": 105,
   "id": "ecdff898",
   "metadata": {
    "scrolled": true
   },
   "outputs": [
    {
     "data": {
      "text/plain": [
       "['₹474',\n",
       " '₹314',\n",
       " '₹379',\n",
       " '₹3,000',\n",
       " '₹749',\n",
       " '₹729',\n",
       " '₹233',\n",
       " '₹645',\n",
       " '₹474',\n",
       " '₹1,169',\n",
       " '₹849',\n",
       " '₹945',\n",
       " '₹639',\n",
       " '₹639',\n",
       " '₹949',\n",
       " '₹448',\n",
       " '₹299',\n",
       " '₹664',\n",
       " '₹429',\n",
       " '₹1,125']"
      ]
     },
     "execution_count": 105,
     "metadata": {},
     "output_type": "execute_result"
    }
   ],
   "source": [
    "Product_Price = []\n",
    "\n",
    "for i in Price_P3:\n",
    "    Product_Price.append(i.text)\n",
    "Product_Price[0:20]"
   ]
  },
  {
   "cell_type": "code",
   "execution_count": null,
   "id": "55d4248c",
   "metadata": {},
   "outputs": [],
   "source": []
  },
  {
   "cell_type": "markdown",
   "id": "87ad89d2",
   "metadata": {},
   "source": [
    "Flipkart top 100 reviews of iphone 11"
   ]
  },
  {
   "cell_type": "code",
   "execution_count": null,
   "id": "9896b38b",
   "metadata": {},
   "outputs": [],
   "source": []
  },
  {
   "cell_type": "code",
   "execution_count": null,
   "id": "a7ce361b",
   "metadata": {},
   "outputs": [],
   "source": []
  },
  {
   "cell_type": "code",
   "execution_count": null,
   "id": "81ec55d7",
   "metadata": {},
   "outputs": [],
   "source": []
  },
  {
   "cell_type": "code",
   "execution_count": 175,
   "id": "b97db2ae",
   "metadata": {},
   "outputs": [],
   "source": [
    "url = 'https://www.flipkart.com/apple-iphone-11-black-64-gb-includes-earpods-power-adapter/product-reviews/itm0f37c2240b217?pid=MOBFKCTSVZAXUHGR&lid=LSTMOBFKCTSVZAXUHGREPBFGI&marketplace=FLIPKART'\n",
    "driver.get(url)"
   ]
  },
  {
   "cell_type": "code",
   "execution_count": 177,
   "id": "145c58a7",
   "metadata": {},
   "outputs": [
    {
     "data": {
      "text/plain": [
       "<selenium.webdriver.remote.webelement.WebElement (session=\"1d7685a63174f278a42ee208712fda48\", element=\"8a6ca799-9ae4-4e64-9e6f-8dc82de4635d\")>"
      ]
     },
     "execution_count": 177,
     "metadata": {},
     "output_type": "execute_result"
    }
   ],
   "source": [
    "Iphone_11 = driver.find_element(By.CLASS_NAME,\"_3704LK\")\n",
    "Iphone_11"
   ]
  },
  {
   "cell_type": "code",
   "execution_count": 184,
   "id": "a58d79d7",
   "metadata": {},
   "outputs": [
    {
     "data": {
      "text/plain": [
       "10"
      ]
     },
     "execution_count": 184,
     "metadata": {},
     "output_type": "execute_result"
    }
   ],
   "source": [
    "Phone_Ratings = driver.find_elements(By.XPATH,'//div[@class=\"_3LWZlK _1BLPMq\"]')\n",
    "len(Phone_Ratings)"
   ]
  },
  {
   "cell_type": "code",
   "execution_count": 185,
   "id": "6b22930b",
   "metadata": {},
   "outputs": [
    {
     "data": {
      "text/plain": [
       "['5', '5', '5', '5', '5', '5', '5', '5', '4', '5']"
      ]
     },
     "execution_count": 185,
     "metadata": {},
     "output_type": "execute_result"
    }
   ],
   "source": [
    "Ratings = []\n",
    "\n",
    "for i in Phone_Ratings:\n",
    "    Ratings.append(i.text)\n",
    "Ratings"
   ]
  },
  {
   "cell_type": "code",
   "execution_count": 186,
   "id": "00241088",
   "metadata": {
    "scrolled": true
   },
   "outputs": [
    {
     "data": {
      "text/plain": [
       "10"
      ]
     },
     "execution_count": 186,
     "metadata": {},
     "output_type": "execute_result"
    }
   ],
   "source": [
    "Review_Summary = driver.find_elements(By.XPATH,'//p[@class=\"_2-N8zT\"]')\n",
    "len(Review_Summary)"
   ]
  },
  {
   "cell_type": "code",
   "execution_count": 187,
   "id": "e3856e0b",
   "metadata": {},
   "outputs": [
    {
     "data": {
      "text/plain": [
       "['Simply awesome',\n",
       " 'Perfect product!',\n",
       " 'Best in the market!',\n",
       " 'Highly recommended',\n",
       " 'Worth every penny',\n",
       " 'Fabulous!',\n",
       " 'Great product',\n",
       " 'Worth every penny',\n",
       " 'Good choice',\n",
       " 'Highly recommended']"
      ]
     },
     "execution_count": 187,
     "metadata": {},
     "output_type": "execute_result"
    }
   ],
   "source": [
    "Reviews = []\n",
    "\n",
    "for i in Review_Summary:\n",
    "    Reviews.append(i.text)\n",
    "Reviews"
   ]
  },
  {
   "cell_type": "code",
   "execution_count": 188,
   "id": "760628f3",
   "metadata": {},
   "outputs": [
    {
     "data": {
      "text/plain": [
       "10"
      ]
     },
     "execution_count": 188,
     "metadata": {},
     "output_type": "execute_result"
    }
   ],
   "source": [
    "Review_Full = driver.find_elements(By.XPATH,'//div[@class=\"t-ZTKy\"]')\n",
    "len(Review_Full)"
   ]
  },
  {
   "cell_type": "code",
   "execution_count": 189,
   "id": "4865e3e8",
   "metadata": {
    "scrolled": true
   },
   "outputs": [
    {
     "data": {
      "text/plain": [
       "['Really satisfied with the Product I received... It’s totally genuine and the packaging was also really good so if ur planning to buy just go for it.',\n",
       " 'Amazing phone with great cameras and better battery which gives you the best performance. I just love the camera .',\n",
       " 'Great iPhone very snappy experience as apple kind. Upgraded from iPhone 7.\\nPros\\n-Camera top class\\n- Battery top performed\\n-Chipset no need to say as apple kind\\n-Security as you expect from apple\\n- Display super bright industry leading colour\\naccuracy and super responsive\\n-Build quality as expect from apple sturdy\\npremium durable beautiful stylish.\\n-Os most stable os in smartphone industry\\n\\nCons\\n-No 5G\\n-Display is not based on OLED technology\\n-Charger headphones and 1 apple stic...\\nREAD MORE',\n",
       " 'What a camera .....just awesome ..you can feel this iPhone just awesome . Good for gaming also ...try pubg in hd it’s just wow',\n",
       " 'Previously I was using one plus 3t it was a great phone\\nAnd then I decided to upgrade I am stuck between Samsung s10 plus or iPhone 11\\nI have seen the specs and everything were good except the display it’s somewhere between 720-1080 and it’s not even an amoled it’s an LCD display\\nBut I decided to go with iPhone because I have never used an IOS device I have Been an android user from the past 9 years I ordered IPhone 11 (128gb) product red\\nMy experience after using 3 weeks\\n1. The delivery ...\\nREAD MORE',\n",
       " 'This is my first iOS phone. I am very happy with this product. Very much satisfied with this. I love this phone.',\n",
       " 'Amazing Powerful and Durable Gadget.\\n\\nI’m am very happy with the camera picture quality, Amazing face id unlocked in dark room, Strong battery with perfect screen size as you can carry easily in pocket. This is my third iPhone.\\n\\nI shifted from android Samsung Note series to iPhone because of the strong build quality and peace of mind for next 3-4 years.\\n\\nDon’t think to much just go for it and I suggest you to go for minimum 128gb variant or more 256gb.\\n\\nI’ve attached my puppy pics and no fi...\\nREAD MORE',\n",
       " 'i11 is worthy to buy, too much happy with the product. Thank u flipkart I received the item on time..loved it..',\n",
       " 'So far it’s been an AMAZING experience coming back to iOS after nearly a decade but it’s not as versatile as android though phone is sturdy dropped it accidentally a couple of times and nothing happened fortunately camera is awesome',\n",
       " 'iphone 11 is a very good phone to buy only if you can compromise for the display. The display on this is device is pretty good but you can get other options with better displays in this price segment.\\nIf you can survive with an HD+ LCD panel with thicker bezels and a notch up top then this is a very good phone for you.\\nCameras are awesome, battery backup excellent, great performance and a decent premium look. Good job Apple !']"
      ]
     },
     "execution_count": 189,
     "metadata": {},
     "output_type": "execute_result"
    }
   ],
   "source": [
    "Reviews_details = []\n",
    "\n",
    "for i in Review_Full:\n",
    "    Reviews_details.append(i.text)\n",
    "Reviews_details"
   ]
  },
  {
   "cell_type": "code",
   "execution_count": 190,
   "id": "816c3954",
   "metadata": {},
   "outputs": [
    {
     "data": {
      "text/plain": [
       "10"
      ]
     },
     "execution_count": 190,
     "metadata": {},
     "output_type": "execute_result"
    }
   ],
   "source": [
    "Phone_Ratings_p2 = driver.find_elements(By.XPATH,'//div[@class=\"_3LWZlK _1BLPMq\"]')\n",
    "len(Phone_Ratings_p2)"
   ]
  },
  {
   "cell_type": "code",
   "execution_count": 192,
   "id": "675fee6a",
   "metadata": {},
   "outputs": [
    {
     "data": {
      "text/plain": [
       "['5', '5', '5', '5', '5', '5', '5', '5', '5', '5']"
      ]
     },
     "execution_count": 192,
     "metadata": {},
     "output_type": "execute_result"
    }
   ],
   "source": [
    "Ratings_p2 = []\n",
    "\n",
    "for i in Phone_Ratings_p2:\n",
    "    Ratings_p2.append(i.text)\n",
    "Ratings_p2"
   ]
  },
  {
   "cell_type": "code",
   "execution_count": 193,
   "id": "5a3f11fc",
   "metadata": {},
   "outputs": [
    {
     "data": {
      "text/plain": [
       "10"
      ]
     },
     "execution_count": 193,
     "metadata": {},
     "output_type": "execute_result"
    }
   ],
   "source": [
    "Review_Summary_p2 = driver.find_elements(By.XPATH,'//p[@class=\"_2-N8zT\"]')\n",
    "len(Review_Summary_p2)"
   ]
  },
  {
   "cell_type": "code",
   "execution_count": 195,
   "id": "bd215c38",
   "metadata": {},
   "outputs": [
    {
     "data": {
      "text/plain": [
       "['Highly recommended',\n",
       " 'Perfect product!',\n",
       " 'Perfect product!',\n",
       " 'Worth every penny',\n",
       " 'Perfect product!',\n",
       " 'Perfect product!',\n",
       " 'Terrific',\n",
       " 'Worth every penny',\n",
       " 'Simply awesome',\n",
       " 'Wonderful']"
      ]
     },
     "execution_count": 195,
     "metadata": {},
     "output_type": "execute_result"
    }
   ],
   "source": [
    "Reviews_p2 = []\n",
    "\n",
    "for i in Review_Summary_p2:\n",
    "    Reviews_p2.append(i.text)\n",
    "Reviews_p2"
   ]
  },
  {
   "cell_type": "code",
   "execution_count": 196,
   "id": "45e26971",
   "metadata": {
    "scrolled": true
   },
   "outputs": [
    {
     "data": {
      "text/plain": [
       "10"
      ]
     },
     "execution_count": 196,
     "metadata": {},
     "output_type": "execute_result"
    }
   ],
   "source": [
    "Review_Full_p2 = driver.find_elements(By.XPATH,'//div[@class=\"t-ZTKy\"]')\n",
    "len(Review_Full_p2)"
   ]
  },
  {
   "cell_type": "code",
   "execution_count": 197,
   "id": "5bbc9dcd",
   "metadata": {
    "scrolled": true
   },
   "outputs": [
    {
     "data": {
      "text/plain": [
       "[\"It's my first time to use iOS phone and I am loving my upgradation 😍😍 I love the color, I love the assebility of the phone....I need to learn more about its functionality, but as far as I have seen, it's quite easy and it has a lot of functions to work on, specially if you are a content writer or a blogger you get a lot of content creation platforms and they are really amazing.\\n\\nThis phone not only for good quality photography but a lot of other task too.😍💯\",\n",
       " 'It’s a must buy who is looking for an upgrade from previous generation of iPhones. If you are using XR then still you can hold on for sometime and upgrade to 2020 model else this phone is a must buy . Camera quality is amazing and wide angle is something to count upon. Performance wise it’s amazing and feels premium while holding in hand. So a big YES for this device. Go for 128 GB variant as the 4K videos will occupy lots of space and the storage can get over very quickly. Try to buy it with...\\nREAD MORE',\n",
       " 'Value for money❤️❤️\\nIts awesome mobile phone in the world ...\\nDisplay was very good and bright ..\\nTrust me freinds you r never regret after Buying..\\nJust go for it....\\nI love this phone and i switch to iphone x to 11',\n",
       " 'Smooth like butter, camera like fantabulous, sound is crystal clear & its red color is damn attractive, i am just loving it. Must buy if you love photography.\\n\\nLucky to get it in sale, thank you Flipkart.',\n",
       " 'It is just awesome mobile for this price from Apple,\\n\\nAfter 10 days review\\n\\nBattery enough for 1 day even 24*7 Internet will be on and mostly internet usage\\n\\nCamera is just awesome cool , android 64 MP is equal to this just 12 MP\\n\\nA13 Bionic chip will give more high performance without hanging\\n\\nAudio stereo speakers will give Dolby atoms sound with crystal clear\\n\\nVideo recording is like cinematic shots of every sec can be a 4K 60fps. Just awesome this phone\\niPhone 11 loved one',\n",
       " \"Iphone is just awesome.. battery backup is very very nice.. continuously for 10 hours we can use it.camera is just awesome.. display is just fab.i love it alot..i had to wait 15 days for it as i pre ordered it..overalll it's worth the price..these all images are clicked by my iPhone..and i love it.\",\n",
       " 'Really worth of money. i just love it. It is the best phone ever.',\n",
       " 'Best budget Iphone till date ❤️ go for it guys without second thought. Let me explain you guys about Camera, Display, battery, and performance.\\n\\nCamera: at this price range there is no comparison of camera, you’ll love the picture quality as well as video quality. I am a Vlogger I wanted an iPhone with 4k video by front camera and I got this phone and I am more than happy 😃\\n\\nBattery: I use this phone roughly as I am active social media person and I have a youtube channel. so the battery ba...\\nREAD MORE',\n",
       " 'Excellent camera, good performance, no lag. The lcd display is also good.. but difference come when we watch movie in prime and Netflix, the colours are not vibrant.. as we see in amoled display.. and the charger in box is of 5 watts.. takes more than 3 hours to charge from 0 to 100.. so guys be prepare to buy 18 watts charger . Finally I am an android user, it was my first Iapple phone, I promise u guys the iOS is so smooth.. overall the phone is damn good.... close eyes to buy it.. thanks t...\\nREAD MORE',\n",
       " 'This is my first ever I phone. Before this I was using my google nexus 5. But moving from android to iOS is a great experience. It’s worth at this price. I will highly recommend it if you want to move to iOS. The best part of this phone is it’s camera and it’s battery life. This two things have won my heart. I loved it. Happy to have it in my hand. Still exploring its features. And can’t forget to mention Flipkart service. Very prompt service and fast delivery.']"
      ]
     },
     "execution_count": 197,
     "metadata": {},
     "output_type": "execute_result"
    }
   ],
   "source": [
    "Reviews_details_p2 = []\n",
    "\n",
    "for i in Review_Full_p2:\n",
    "    Reviews_details_p2.append(i.text)\n",
    "Reviews_details_p2"
   ]
  },
  {
   "cell_type": "code",
   "execution_count": 198,
   "id": "befb0292",
   "metadata": {
    "scrolled": true
   },
   "outputs": [
    {
     "data": {
      "text/plain": [
       "10"
      ]
     },
     "execution_count": 198,
     "metadata": {},
     "output_type": "execute_result"
    }
   ],
   "source": [
    "Phone_Ratings_p3 = driver.find_elements(By.XPATH,'//div[@class=\"_3LWZlK _1BLPMq\"]')\n",
    "len(Phone_Ratings_p3)"
   ]
  },
  {
   "cell_type": "code",
   "execution_count": 199,
   "id": "3994d5fb",
   "metadata": {},
   "outputs": [
    {
     "data": {
      "text/plain": [
       "['5', '5', '4', '5', '4', '5', '5', '5', '5', '5']"
      ]
     },
     "execution_count": 199,
     "metadata": {},
     "output_type": "execute_result"
    }
   ],
   "source": [
    "Ratings_p3 = []\n",
    "\n",
    "for i in Phone_Ratings_p3:\n",
    "    Ratings_p3.append(i.text)\n",
    "Ratings_p3"
   ]
  },
  {
   "cell_type": "code",
   "execution_count": 200,
   "id": "07dde818",
   "metadata": {},
   "outputs": [
    {
     "data": {
      "text/plain": [
       "10"
      ]
     },
     "execution_count": 200,
     "metadata": {},
     "output_type": "execute_result"
    }
   ],
   "source": [
    "Review_Summary_p3 = driver.find_elements(By.XPATH,'//p[@class=\"_2-N8zT\"]')\n",
    "len(Review_Summary_p3)"
   ]
  },
  {
   "cell_type": "code",
   "execution_count": 201,
   "id": "e1643170",
   "metadata": {},
   "outputs": [
    {
     "data": {
      "text/plain": [
       "['Classy product',\n",
       " 'Worth every penny',\n",
       " 'Good choice',\n",
       " 'Classy product',\n",
       " 'Nice product',\n",
       " 'Perfect product!',\n",
       " 'Brilliant',\n",
       " 'Classy product',\n",
       " 'Must buy!',\n",
       " 'Must buy!']"
      ]
     },
     "execution_count": 201,
     "metadata": {},
     "output_type": "execute_result"
    }
   ],
   "source": [
    "Reviews_p3 = []\n",
    "\n",
    "for i in Review_Summary_p3:\n",
    "    Reviews_p3.append(i.text)\n",
    "Reviews_p3"
   ]
  },
  {
   "cell_type": "code",
   "execution_count": 202,
   "id": "d7d9f294",
   "metadata": {},
   "outputs": [
    {
     "data": {
      "text/plain": [
       "10"
      ]
     },
     "execution_count": 202,
     "metadata": {},
     "output_type": "execute_result"
    }
   ],
   "source": [
    "Review_Full_p3 = driver.find_elements(By.XPATH,'//div[@class=\"t-ZTKy\"]')\n",
    "len(Review_Full_p3)"
   ]
  },
  {
   "cell_type": "code",
   "execution_count": 203,
   "id": "e3a126c2",
   "metadata": {
    "scrolled": true
   },
   "outputs": [
    {
     "data": {
      "text/plain": [
       "['Totally in love with this ❤ the camera quality is amazing just love it 😘😘😘 itsss dammnnnnnn amazing... Must buy iPhone 11 this is my best experience ever ☀👌👌🧡🧡🧡🧡🧡 thanku apple ❤',\n",
       " 'It’s been almost a month since I have been using this phone. I upgraded from an iPhone 8. The main issue with my 8 was battery and this phone is just awesome when it comes to battery. It lasts a day and a half for me with my regular use , internet connected always with 4g\\nCan’t move forward without saying this. Battery of this phone is a life saver when I am traveling or at work when I don’t get the option to charge\\nCamera is superb. Front cam selfies and back cam photos are just awesome.\\n...\\nREAD MORE',\n",
       " 'Looking so good 👍 😍 super 👌 stylish 😎 phone\\nClean box 📦 good 👍 delivery 👌 fast delivery\\nOriginal box Original iphone 📱 👌 😍😍😍',\n",
       " 'We are on apple ecosystem for almost eight years now with couple of iPads and iPhones, including Xr.\\n\\nBought iPhone 11 as a gift to my daughter who loves it. We chose for a purple coloured one. Believe me it is gorgeous and towards the lighter shade. Dazzling and brilliant!\\n\\nThe phone is great and does excellent RAM management like any other Apple device.\\n\\nThe screen, though a LCD and lesser ppi as compared to other flagship phones of competitor brands, is a delight to watch with perfect re...\\nREAD MORE',\n",
       " 'Awesome Phone. Slightly high price but worth. Better than iPhone XR.\\nCamera is superb and wide angle camera is very clear.\\n12MP selfie camera is also very good.\\nA13 Chip gives a very good and smooth performance.',\n",
       " 'Battery backup is extraordinary, camera is decent & performance offered by A13 bionic is awsome. The display is good in practical usage like the visibility of display is very good in direct sun light compare to pro models. Iam extremely satisfied for the money I spent.',\n",
       " 'I have migrated from OP 7pro... and trust me, iPhone 11 is totally worth it.. following are the reasons:-\\n1)there is ABSOLUTELY NO ISSUE WITH THE DISPLAY... its crisp, sharp and I found it to be much much better than OP7 pro. Netflix, Prime video all run crisply... you won’t miss a thing. True Tone works flawlessly...the display brightness is perfect. OP have not calibrated their screens properly.\\n2) iPhone 11 series have really good cameras... others have spoken in depth about them.\\n3) bat...\\nREAD MORE',\n",
       " 'Superb Product !!!\\nA big and worthy upgrade from mi 3S to iphone 11 .\\nTotally loved it !',\n",
       " 'Best Apple iPhone that i have bought at a very reasonable price, camera quality is next level just awesome n of superior quality android phones not even close(RIP) to that and also battery is really good but packaging by Flipkart of iPhone was very poor of such a expensive product, firstly im bit worried about the quality of product if i purchased it through online how was the product but i think now this was mine best decision to bought it through Flipkart online because i got genuine Apple...\\nREAD MORE',\n",
       " 'It’s an amazing product from apple and the camera is simply superb. Phone is faster.Night shot is simply superb and detailing and colour differentiation from camera is an added advantage\\n\\nThis review I have written from iPhone 11 only and I am glad to say outside.\\n\\nCons wise if we see HD+ display only, no battery percentage indicator as in older iPhone 8.\\nNo assistive touch control button in it\\nNo oleophobic coating on back panel glass and finger prints are visible but since I bought mint gr...\\nREAD MORE']"
      ]
     },
     "execution_count": 203,
     "metadata": {},
     "output_type": "execute_result"
    }
   ],
   "source": [
    "Reviews_details_p3 = []\n",
    "\n",
    "for i in Review_Full_p3:\n",
    "    Reviews_details_p3.append(i.text)\n",
    "Reviews_details_p3"
   ]
  },
  {
   "cell_type": "code",
   "execution_count": 204,
   "id": "779780a3",
   "metadata": {},
   "outputs": [
    {
     "data": {
      "text/plain": [
       "10"
      ]
     },
     "execution_count": 204,
     "metadata": {},
     "output_type": "execute_result"
    }
   ],
   "source": [
    "Phone_Ratings_p4 = driver.find_elements(By.XPATH,'//div[@class=\"_3LWZlK _1BLPMq\"]')\n",
    "len(Phone_Ratings_p4)"
   ]
  },
  {
   "cell_type": "code",
   "execution_count": 207,
   "id": "50892b88",
   "metadata": {},
   "outputs": [
    {
     "data": {
      "text/plain": [
       "['5', '5', '5', '5', '5', '5', '5', '5', '5', '5']"
      ]
     },
     "execution_count": 207,
     "metadata": {},
     "output_type": "execute_result"
    }
   ],
   "source": [
    "Ratings_p4 = []\n",
    "\n",
    "for i in Phone_Ratings_p4:\n",
    "    Ratings_p4.append(i.text)\n",
    "Ratings_p4\n",
    "\n"
   ]
  },
  {
   "cell_type": "code",
   "execution_count": 208,
   "id": "7c97e5b9",
   "metadata": {},
   "outputs": [
    {
     "data": {
      "text/plain": [
       "10"
      ]
     },
     "execution_count": 208,
     "metadata": {},
     "output_type": "execute_result"
    }
   ],
   "source": [
    "Review_Summary_p4 = driver.find_elements(By.XPATH,'//p[@class=\"_2-N8zT\"]')\n",
    "len(Review_Summary_p4)"
   ]
  },
  {
   "cell_type": "code",
   "execution_count": 209,
   "id": "d8bdbe53",
   "metadata": {},
   "outputs": [
    {
     "data": {
      "text/plain": [
       "['Great product',\n",
       " 'Perfect product!',\n",
       " 'Simply awesome',\n",
       " 'Fabulous!',\n",
       " 'Fabulous!',\n",
       " 'Wonderful',\n",
       " 'Classy product',\n",
       " 'Terrific purchase',\n",
       " 'Awesome',\n",
       " 'Excellent']"
      ]
     },
     "execution_count": 209,
     "metadata": {},
     "output_type": "execute_result"
    }
   ],
   "source": [
    "Reviews_p4 = []\n",
    "\n",
    "for i in Review_Summary_p4:\n",
    "    Reviews_p4.append(i.text)\n",
    "Reviews_p4"
   ]
  },
  {
   "cell_type": "code",
   "execution_count": 210,
   "id": "6b9433d6",
   "metadata": {},
   "outputs": [
    {
     "data": {
      "text/plain": [
       "10"
      ]
     },
     "execution_count": 210,
     "metadata": {},
     "output_type": "execute_result"
    }
   ],
   "source": [
    "Review_Full_p4 = driver.find_elements(By.XPATH,'//div[@class=\"t-ZTKy\"]')\n",
    "len(Review_Full_p4)"
   ]
  },
  {
   "cell_type": "code",
   "execution_count": 211,
   "id": "64900929",
   "metadata": {
    "scrolled": true
   },
   "outputs": [
    {
     "data": {
      "text/plain": [
       "[\"Again back to apple iphone after a gap of 2-3 years. It's pleasure to use iOS and the quality product by Apple. Iphone 11 still works like a beast in 2021 also. It really capable of doing day to day usage as well as hard core gaming. Battery is awesome. I'm really too much satisfied with it. Apart fto the very gorgious IPS LCD (AMOLED will be better) everything is mind boggling. Iphone💕.\",\n",
       " 'After 1 month use I found camera quality best compared to my previous Samsung note 10+.Display not good as note 10 also charging too slow.Apple should add fast charger like 11 plus and pro.Best phone for daily use',\n",
       " \"It's very high performances devise i am like the service of flipkart delevary very fast and packing very nice perfect phone\",\n",
       " 'awesome phone to have. it has got many smart features apart from mind blowing looks, camera, display, battery and sound. have fallen in love with this phone. must buy phone if you have got enough money. thanks to flipkart and apple of course..',\n",
       " \"I can say I'm damn impressed with iPhone 11. As they says iPhone 11 have the toughest glass ever in the smartphone which you'll find on the front and back and it's totally smooth. The fit and finish is full apple quality - there's no sense that any cheaping out has happened in the construction. Without saying it's camera features this review won't complete. The iPhone 11 has a dual camera system, consisting of a wide angle len's that's pretty much same as found on the iPhone XR last year, but...\\nREAD MORE\",\n",
       " 'I just directly switch from iphone 6s to iphone 11 .The best premium smartphone I recommend to everyone. Excellent quality and colors the iphone have in 11 series.\\nCamera quality is just awesome and the major feel when we hold in our hands. The sound quality and volume is also higher then the previous models.\\nI will recommend to buy iphone 11 instead of pro models , there is nothing much difference as this model contains everything which fulfill our needs.\\n\\nOnly one thing that I dislike abo...\\nREAD MORE',\n",
       " 'Well while switching from android to iOS the first thing you need to be careful about is that you will loose all your whatsapp chat backups as both are different operating systems. Camera clarity is awesome and though being an lcd screen clarity and resolution is good. Battery backup is also good unlike previous gen iPhone. So far the experience is good will Padre after a few months of usage.\\n\\nP.S the black is more of a dark grey shade and not jet black',\n",
       " 'Upgraded from iphone 6 to 11 best phone for iphone users battery is much better than other iphones camera is awesome love to use it.camera is so clear in night.',\n",
       " 'I am using this phone for 5 days and its one of the best camera out there ❤️ the screen is not oled and i am coming from iphone xs so its little bit not up to the mark i would say\\nBut overall value for money💕😍the battery back up is far better than my iphone xs and its worth in my apple ecosystem💫❤️if u are an apple User and have the eco system then go for it❤️though i will be getting the new iphone but its pretty good💫',\n",
       " 'Amazing camera and feel super machine I am not describe my feeling but this is amazing Phone I am so lucky I have this']"
      ]
     },
     "execution_count": 211,
     "metadata": {},
     "output_type": "execute_result"
    }
   ],
   "source": [
    "Reviews_details_p4 = []\n",
    "\n",
    "for i in Review_Full_p4:\n",
    "    Reviews_details_p4.append(i.text)\n",
    "Reviews_details_p4"
   ]
  },
  {
   "cell_type": "code",
   "execution_count": 214,
   "id": "abf95025",
   "metadata": {},
   "outputs": [
    {
     "data": {
      "text/plain": [
       "['Great product',\n",
       " 'Terrific purchase',\n",
       " 'Mind-blowing purchase',\n",
       " 'Simply awesome',\n",
       " 'Good quality product',\n",
       " 'Very poor',\n",
       " 'Perfect product!',\n",
       " 'Fabulous!',\n",
       " 'Highly recommended',\n",
       " 'Mind-blowing purchase']"
      ]
     },
     "execution_count": 214,
     "metadata": {},
     "output_type": "execute_result"
    }
   ],
   "source": [
    "Phone_Ratings_p5 = driver.find_elements(By.XPATH,'//div[@class=\"_3LWZlK _1BLPMq\"]')\n",
    "len(Phone_Ratings_p5)"
   ]
  },
  {
   "cell_type": "code",
   "execution_count": 215,
   "id": "86167a27",
   "metadata": {},
   "outputs": [
    {
     "data": {
      "text/plain": [
       "['5', '5', '5', '5', '4', '5', '5', '5', '5']"
      ]
     },
     "execution_count": 215,
     "metadata": {},
     "output_type": "execute_result"
    }
   ],
   "source": [
    "Ratings_p5 = []\n",
    "\n",
    "for i in Phone_Ratings_p5:\n",
    "    Ratings_p5.append(i.text)\n",
    "Ratings_p5"
   ]
  },
  {
   "cell_type": "code",
   "execution_count": 216,
   "id": "e74067ab",
   "metadata": {},
   "outputs": [
    {
     "data": {
      "text/plain": [
       "10"
      ]
     },
     "execution_count": 216,
     "metadata": {},
     "output_type": "execute_result"
    }
   ],
   "source": [
    "Review_Summary_p5 = driver.find_elements(By.XPATH,'//p[@class=\"_2-N8zT\"]')\n",
    "len(Review_Summary_p5)"
   ]
  },
  {
   "cell_type": "code",
   "execution_count": 217,
   "id": "8994f9b8",
   "metadata": {},
   "outputs": [
    {
     "data": {
      "text/plain": [
       "['Great product',\n",
       " 'Terrific purchase',\n",
       " 'Mind-blowing purchase',\n",
       " 'Simply awesome',\n",
       " 'Good quality product',\n",
       " 'Very poor',\n",
       " 'Perfect product!',\n",
       " 'Fabulous!',\n",
       " 'Highly recommended',\n",
       " 'Mind-blowing purchase']"
      ]
     },
     "execution_count": 217,
     "metadata": {},
     "output_type": "execute_result"
    }
   ],
   "source": [
    "Reviews_p5 = []\n",
    "\n",
    "for i in Review_Summary_p5:\n",
    "    Reviews_p5.append(i.text)\n",
    "Reviews_p5"
   ]
  },
  {
   "cell_type": "code",
   "execution_count": 218,
   "id": "92366574",
   "metadata": {},
   "outputs": [
    {
     "data": {
      "text/plain": [
       "10"
      ]
     },
     "execution_count": 218,
     "metadata": {},
     "output_type": "execute_result"
    }
   ],
   "source": [
    "Review_Full_p5 = driver.find_elements(By.XPATH,'//div[@class=\"t-ZTKy\"]')\n",
    "len(Review_Full_p5)"
   ]
  },
  {
   "cell_type": "code",
   "execution_count": 219,
   "id": "377d1d57",
   "metadata": {
    "scrolled": true
   },
   "outputs": [
    {
     "data": {
      "text/plain": [
       "['Well you all know the specifications . One of a kind. Best iPhone till date. Many enhancements to the camera app with many options. Love the glass body with matte finish in the lens area on the back. Lovely colours to choose from. Best battery in an iPhone till date, enough to last more than a day in normal usage. I tested my iPhone 11 battery and lasted for than 24 hours after full charge still with 30% battery charge left. Watched movies for some time. Normal usage on calls, browsing, musi...\\nREAD MORE',\n",
       " 'The built quality is not very premium.\\nThe battery back is great .\\nThe LCD panel is not so sharp but the brightness level is very High .\\nCamera is super duper awesome.\\nThe red colour which people think is bright is actually very soothing and excellent colour to choose from .\\nThe A13 Bionic chip is really a flagship processor and can beat any phone which even has 12 gb ram .\\nCamera module is very great and looks very stylish.',\n",
       " 'This will help you more. See if you are planning to buy iPhone 11. I will say. Yes. But there are some plans I just want to disclose before you buy. 1) If you are an existing iPhone X/XS/XS Max/ XR user, better you guys do not think it to buy. You guys have more or less better gadget. 2) If you are an android user and planning to buy premium phone. I will suggest them to please buy iPhone instead of buying an Android. I bet you will never go back to android after using IOS. Now I want to shar...\\nREAD MORE',\n",
       " 'Really good actually this is my first apple product am using its really awesome performance wise excellent. Am really happy with this iphone11',\n",
       " 'it is very good at performance. Camera is best like before and very smooth response even in water. Don’t buy 12 mini buy iPhone 11 , it is far better than 12 mini believe me ! Have a nice day \\uf8ff ☺️',\n",
       " 'Reviewing again after 5 months. At the beginning the battery and performance was good but it degraded soon. Also I was facing heating issues. The mobile will heat up like a stove sometimes. You cannot even play Pubg even in low settings properly, performance is not a problem but heating is. Also if you play that game for 10 mins the brightness will be automatically down due to over heating even when the auto brightness is set to off. This will not be solved even if u manually increase the bri...\\nREAD MORE',\n",
       " 'In love with this iphone great performance,camera ,battery everything. Go for it have a uncompareble battery backup, no doubts in iPhone camera here You can see the picture which is shot on my iPhone In love with this iphone great performance,camera ,battery everything. Go for it have a uncompareble battery backup, no doubts in iPhone camera here You can see the picture which is shot on my iPhone In love with this iphone great performance,camera ,battery everything. Go for it have a uncompare...\\nREAD MORE',\n",
       " 'Everything is perfect pictures come out so clearly and at first I wasn’t sure when I got it then when I started to use it and get the hang of it it was amazing!! I can’t wait to see what the next future phones will be like. The screen display on this bad boy are unbelievable they are so clear and never fail me. The performance is super cool there is a lot of cool features as well I like this phone because I feel that it is easy to use and one of my favorite things about this phone is the Face...\\nREAD MORE',\n",
       " 'Amazing camera quality as expected, battery also has very good performance. Display, body, and touch experience is the best I’ve ever had. Sound quality of speakers is more than sufficient. Apple is known for it’s customer friendly security services and I can see it how. The A13 processor is the best in its work. So I would definitely recommend it for everyone who are looking for it, just go for it without delay.\\n\\nThe most amazing thing it the delivery. Flipkart has delivered it in the span ...\\nREAD MORE',\n",
       " 'Best Quality Product OF iPhone Series , Sound Quality & Camera quality is very awesome, Battery Life is very Sufficient for 24 hr Backup With Full Internet Access , I love this this Product too much , It is very fast & making me Very fast in all my daily Routine\\nHighlights;\\n1.Camera: 5 STAR\\n2.Video Recording: 5 star\\n3.Night mODE sHOOTING & Camera:4 star\\n4. Audio Quality: Awesome\\n5. Battery : 5 Star\\n6. Touch:5 Star\\n7. Processor: Very Fast\\nThe M...\\nREAD MORE']"
      ]
     },
     "execution_count": 219,
     "metadata": {},
     "output_type": "execute_result"
    }
   ],
   "source": [
    "Reviews_details_p5 = []\n",
    "\n",
    "for i in Review_Full_p5:\n",
    "    Reviews_details_p5.append(i.text)\n",
    "Reviews_details_p5"
   ]
  },
  {
   "cell_type": "code",
   "execution_count": 221,
   "id": "54fb8e95",
   "metadata": {},
   "outputs": [
    {
     "data": {
      "text/plain": [
       "10"
      ]
     },
     "execution_count": 221,
     "metadata": {},
     "output_type": "execute_result"
    }
   ],
   "source": [
    "Phone_Ratings_p6 = driver.find_elements(By.XPATH,'//div[@class=\"_3LWZlK _1BLPMq\"]')\n",
    "len(Phone_Ratings_p6)"
   ]
  },
  {
   "cell_type": "code",
   "execution_count": 222,
   "id": "06382e1b",
   "metadata": {},
   "outputs": [
    {
     "data": {
      "text/plain": [
       "['5', '5', '5', '5', '4', '5', '5', '5', '5', '4']"
      ]
     },
     "execution_count": 222,
     "metadata": {},
     "output_type": "execute_result"
    }
   ],
   "source": [
    "Ratings_p6 = []\n",
    "\n",
    "for i in Phone_Ratings_p6:\n",
    "    Ratings_p6.append(i.text)\n",
    "Ratings_p6"
   ]
  },
  {
   "cell_type": "code",
   "execution_count": 223,
   "id": "d0279a35",
   "metadata": {},
   "outputs": [
    {
     "data": {
      "text/plain": [
       "10"
      ]
     },
     "execution_count": 223,
     "metadata": {},
     "output_type": "execute_result"
    }
   ],
   "source": [
    "Review_Summary_p6 = driver.find_elements(By.XPATH,'//p[@class=\"_2-N8zT\"]')\n",
    "len(Review_Summary_p6)"
   ]
  },
  {
   "cell_type": "code",
   "execution_count": 224,
   "id": "93884d7b",
   "metadata": {},
   "outputs": [
    {
     "data": {
      "text/plain": [
       "['Mind-blowing purchase',\n",
       " 'Wonderful',\n",
       " 'Must buy!',\n",
       " 'Just wow!',\n",
       " 'Very Good',\n",
       " 'Wonderful',\n",
       " 'Just wow!',\n",
       " 'Awesome',\n",
       " 'Mind-blowing purchase',\n",
       " 'Pretty good']"
      ]
     },
     "execution_count": 224,
     "metadata": {},
     "output_type": "execute_result"
    }
   ],
   "source": [
    "Reviews_p6 = []\n",
    "\n",
    "for i in Review_Summary_p6:\n",
    "    Reviews_p6.append(i.text)\n",
    "Reviews_p6"
   ]
  },
  {
   "cell_type": "code",
   "execution_count": 225,
   "id": "4ce0f341",
   "metadata": {},
   "outputs": [
    {
     "data": {
      "text/plain": [
       "10"
      ]
     },
     "execution_count": 225,
     "metadata": {},
     "output_type": "execute_result"
    }
   ],
   "source": [
    "Review_Full_p6 = driver.find_elements(By.XPATH,'//div[@class=\"t-ZTKy\"]')\n",
    "len(Review_Full_p6)"
   ]
  },
  {
   "cell_type": "code",
   "execution_count": 226,
   "id": "a7f0cb43",
   "metadata": {
    "scrolled": true
   },
   "outputs": [
    {
     "data": {
      "text/plain": [
       "['First thanks to Flipkart for this amazing deal and phone is outstanding. I upgraded from iPhone 7 and this is like very big upgrade. But the packaging was very basic I expected a good packaging as they only wrapped one layer of bubble wrap which I don’t think is enough to protect this expensive phone. And I recommend this phone and seller as well.\\n\\nAnd I’m posting this review after using it for 4 days.',\n",
       " 'Superfast delivery by Flipkart. Thanks.\\n\\n1. iPhone 11 is a pretty solid phone for the money you are paying.\\n2. All the bad reviews about the display is confusing. It’s not that bad.\\n3. I switched from a Oneplus 7t. I have no complaints about the display quality of iPhone. Yes, it’s not OLED, so, we are missing on the deep blacks. But that’s it. It is a very colour accurate display. Gets adequately bright and I could not find any pixelation.\\n4. Performance is one of the best, if not best, in ...\\nREAD MORE',\n",
       " 'I rate this product 5* as it has got amazing user experience with the best performing A13 bionic processor. The screen responds and graphics rendering is top notch. With casual gaming and internet browsing, the battery lasts for approx. 1 day. Camera is very good. You will fall in love with the portrait mode. You can call me a loyal Apple customer or whatever but I won’t stop praising the products and overall experience. That user experience matters and is worth every penny you pay.\\n\\nBelow ar...\\nREAD MORE',\n",
       " 'The ultimate performance\\nCamera is superb\\nThe battery backup also very good i never saw iphone gives this much of battery backup\\nIf any one wana buy iphone 11 definitely i will recommend this mobile\\nIt has the better battery and powerfull processer peak performance glorious camera and the display also 100% high quality lcd display if u had money for for 12 if u dont wana invest much money on that then go for iphone 11 it has maximum same specs only main difference between the 12 and 11 is...\\nREAD MORE',\n",
       " 'impressive super phone and best in class camera ,sound and face unlock is super fast just see and phone is unlock and fast in daily apps use',\n",
       " 'Super and marvellous phone look very cute and nice sound. I love this phone i think white is good colur.Excellent camer 5*😍😘♥️♥️',\n",
       " 'Best in class. Battery backup is good especially when you play games like Pubg COD. But it is sort of heavy when you hold in hands. Portrait mode is best to click pictures. Stage light effect is awesome. Try to click photos outside in nature because photos inside home or room will not give you the quality in any phone even in DSLR.',\n",
       " 'Very excited to have this phone. This phone has the real power unlike the android phones having SD 855 . The battery life is very good and the camera quality is excellent as comapred to redmi and other phones except google pixel. I M enjoying every single bit of it. Would recommed only if you have the budget.',\n",
       " 'Excellent camera 📸 And Display touching very Nice And Smooth and very improvement against\\nI phone 11 and new processor is very fast',\n",
       " 'I was using Iphone 6s and also Oneplus 6t. Both mobiles were perfectly alright in Photos, gaming, and smooth interface . My 6s mobile getting battery issue. thought upgrade to 11. Really like this mobile of its Internal storage (compare to 6s) , camera and its touch feeling. Its a worth buying mobile for me.']"
      ]
     },
     "execution_count": 226,
     "metadata": {},
     "output_type": "execute_result"
    }
   ],
   "source": [
    "Reviews_details_p6 = []\n",
    "\n",
    "for i in Review_Full_p6:\n",
    "    Reviews_details_p6.append(i.text)\n",
    "Reviews_details_p6"
   ]
  },
  {
   "cell_type": "code",
   "execution_count": 227,
   "id": "1b3b1b69",
   "metadata": {},
   "outputs": [
    {
     "data": {
      "text/plain": [
       "10"
      ]
     },
     "execution_count": 227,
     "metadata": {},
     "output_type": "execute_result"
    }
   ],
   "source": [
    "Phone_Ratings_p7 = driver.find_elements(By.XPATH,'//div[@class=\"_3LWZlK _1BLPMq\"]')\n",
    "len(Phone_Ratings_p7)"
   ]
  },
  {
   "cell_type": "code",
   "execution_count": 228,
   "id": "b36a7ad7",
   "metadata": {},
   "outputs": [
    {
     "data": {
      "text/plain": [
       "['5', '5', '5', '5', '5', '5', '3', '5', '5', '5']"
      ]
     },
     "execution_count": 228,
     "metadata": {},
     "output_type": "execute_result"
    }
   ],
   "source": [
    "Ratings_p7 = []\n",
    "\n",
    "for i in Phone_Ratings_p7:\n",
    "    Ratings_p7.append(i.text)\n",
    "Ratings_p7"
   ]
  },
  {
   "cell_type": "code",
   "execution_count": 229,
   "id": "dbeb5ec2",
   "metadata": {},
   "outputs": [
    {
     "data": {
      "text/plain": [
       "10"
      ]
     },
     "execution_count": 229,
     "metadata": {},
     "output_type": "execute_result"
    }
   ],
   "source": [
    "Review_Summary_p7 = driver.find_elements(By.XPATH,'//p[@class=\"_2-N8zT\"]')\n",
    "len(Review_Summary_p7)"
   ]
  },
  {
   "cell_type": "code",
   "execution_count": 230,
   "id": "60535169",
   "metadata": {},
   "outputs": [
    {
     "data": {
      "text/plain": [
       "['Terrific purchase',\n",
       " 'Classy product',\n",
       " 'Brilliant',\n",
       " 'Terrific',\n",
       " 'Perfect product!',\n",
       " 'Awesome',\n",
       " 'Does the job',\n",
       " 'Highly recommended',\n",
       " 'Excellent',\n",
       " 'Brilliant']"
      ]
     },
     "execution_count": 230,
     "metadata": {},
     "output_type": "execute_result"
    }
   ],
   "source": [
    "Reviews_p7 = []\n",
    "\n",
    "for i in Review_Summary_p7:\n",
    "    Reviews_p7.append(i.text)\n",
    "Reviews_p7"
   ]
  },
  {
   "cell_type": "code",
   "execution_count": 231,
   "id": "bc9ccc89",
   "metadata": {},
   "outputs": [
    {
     "data": {
      "text/plain": [
       "10"
      ]
     },
     "execution_count": 231,
     "metadata": {},
     "output_type": "execute_result"
    }
   ],
   "source": [
    "Review_Full_p7 = driver.find_elements(By.XPATH,'//div[@class=\"t-ZTKy\"]')\n",
    "len(Review_Full_p7)"
   ]
  },
  {
   "cell_type": "code",
   "execution_count": 232,
   "id": "cb32aca2",
   "metadata": {
    "scrolled": true
   },
   "outputs": [
    {
     "data": {
      "text/plain": [
       "['Its Very awesome product working and good camera quality and all about best product and also flipkart is very great deal and offer nice price',\n",
       " 'Best and amazing product.....phone looks so premium.... battary is also good as expected .... Wide angle camera is so addictive ...if you are a IOS lover....then this phone will be the best choice for you all!!💯🔥',\n",
       " 'Excellent camera and display touching very nice and smooth very improvement against iPhone XR and new processor is very fast',\n",
       " \"I got this beast today. And I must say the picture quality of its camera is awesome. Both the cameras works fine.\\n\\nAs for as the processing is concerned, it runs without any lag. You can play and do whatever you want without a glitch.\\n\\nThe battery runs for a day with medium and high workload.\\n\\nThe display is good and the speakers are working fine.\\n\\nThe earphones doesn't have any base and you can use it for calling mostly.\\n\\nThe charging time is approximately for 90 minutes for full charging...\\nREAD MORE\",\n",
       " 'Awesome purchase. Amazing phone with good battery backup. It’s a top notch device. White colour looks amazing. Phone has a few extra feature than iPhone XR. Overall, this is value for money',\n",
       " 'Always love the apple products, upgraded from old iPhone 6S plus to this after having my first baby. I just love to click baby’s photos with it. Overall I just love this phone. Battery back up is okay, sound quality is good. Haven’t tested yet waterproof yet. Only one thing I hate is apple could have given charger & headphones in box.',\n",
       " \"phone is good but in display is 720p lcd in this price range we can get full hd OLED displays with higher refresh rate processor is very good camera is nice but looks kind of oldish in front of todays phone also there's no charging in box had to buy it seperately\",\n",
       " 'Thanks Flipkart For this amazing deal! I had a dream of owning a iphone since i had known about.\\nIm very happy with my purchase & it is totally worth it.\\nAmazing experience all over !!\\n\\nAnyone who’s thinking of buying it in 2021, i would simply say go for it without any second thoughts ❤️',\n",
       " 'Its a fabulous mobile look awesome performance unbeaten camera like dslr battery good i think this is a beast of mobile',\n",
       " 'A wort full value for money decision it’s . Simply go for it in 2021 its still a good decision . Awesome camera , Super smothered performance, Heck of build quality. And Most important it protects your privacy.']"
      ]
     },
     "execution_count": 232,
     "metadata": {},
     "output_type": "execute_result"
    }
   ],
   "source": [
    "Reviews_details_p7 = []\n",
    "\n",
    "for i in Review_Full_p7:\n",
    "    Reviews_details_p7.append(i.text)\n",
    "Reviews_details_p7"
   ]
  },
  {
   "cell_type": "code",
   "execution_count": 236,
   "id": "cd55d48c",
   "metadata": {},
   "outputs": [
    {
     "data": {
      "text/plain": [
       "9"
      ]
     },
     "execution_count": 236,
     "metadata": {},
     "output_type": "execute_result"
    }
   ],
   "source": [
    "Phone_Ratings_p8 = driver.find_elements(By.XPATH,'//div[@class=\"_3LWZlK _1BLPMq\"]')\n",
    "len(Phone_Ratings_p8)"
   ]
  },
  {
   "cell_type": "code",
   "execution_count": 237,
   "id": "c167f400",
   "metadata": {},
   "outputs": [
    {
     "data": {
      "text/plain": [
       "['5', '4', '5', '5', '5', '4', '5', '5', '5']"
      ]
     },
     "execution_count": 237,
     "metadata": {},
     "output_type": "execute_result"
    }
   ],
   "source": [
    "Ratings_p8 = []\n",
    "\n",
    "for i in Phone_Ratings_p8:\n",
    "    Ratings_p8.append(i.text)\n",
    "Ratings_p8"
   ]
  },
  {
   "cell_type": "code",
   "execution_count": 238,
   "id": "b8aa0cee",
   "metadata": {},
   "outputs": [
    {
     "data": {
      "text/plain": [
       "10"
      ]
     },
     "execution_count": 238,
     "metadata": {},
     "output_type": "execute_result"
    }
   ],
   "source": [
    "Review_Summary_p8 = driver.find_elements(By.XPATH,'//p[@class=\"_2-N8zT\"]')\n",
    "len(Review_Summary_p8)"
   ]
  },
  {
   "cell_type": "code",
   "execution_count": 239,
   "id": "fe3cbc8e",
   "metadata": {},
   "outputs": [
    {
     "data": {
      "text/plain": [
       "['Must buy!',\n",
       " 'Value-for-money',\n",
       " 'Best in the market!',\n",
       " 'Brilliant',\n",
       " 'Terrific purchase',\n",
       " 'Good quality product',\n",
       " 'Terrific',\n",
       " 'Best in the market!',\n",
       " 'Perfect product!',\n",
       " 'Absolute rubbish!']"
      ]
     },
     "execution_count": 239,
     "metadata": {},
     "output_type": "execute_result"
    }
   ],
   "source": [
    "Reviews_p8 = []\n",
    "\n",
    "for i in Review_Summary_p8:\n",
    "    Reviews_p8.append(i.text)\n",
    "Reviews_p8"
   ]
  },
  {
   "cell_type": "code",
   "execution_count": 240,
   "id": "5dab1710",
   "metadata": {},
   "outputs": [
    {
     "data": {
      "text/plain": [
       "10"
      ]
     },
     "execution_count": 240,
     "metadata": {},
     "output_type": "execute_result"
    }
   ],
   "source": [
    "Review_Full_p8 = driver.find_elements(By.XPATH,'//div[@class=\"t-ZTKy\"]')\n",
    "len(Review_Full_p8)"
   ]
  },
  {
   "cell_type": "code",
   "execution_count": 241,
   "id": "9fcfc590",
   "metadata": {
    "scrolled": true
   },
   "outputs": [
    {
     "data": {
      "text/plain": [
       "['Dear friends... I want to share my experience with you about this amazing I phone 11....this is my first iPhone and special things about this mobile is it has great camera, battery backup and awesome display.... I mean everything is perfect.loved it 👍👍👍',\n",
       " \"Just got this iphone 11\\nAnd it is most powerful mobile phone I have used ever\\n\\nSo,go for it if you want a phone with best specification like camera,battery backup,display, A13 bionic chip\\n\\nThat's my review about this phone but yours can be differ from me....\",\n",
       " \"The best all rounder iphone. Flipkart is doing a great job. They're delivery services are blazing fast. I got delivery on the same day. Genuine Apple Product. Working great. Talking about review There's no need of review for iphones. They're simply the best.\",\n",
       " 'Amazing phone and on great deal I received with super fast delivery by Flipkart...',\n",
       " 'finally an iPhone with very nice battery backup. update from iPhone 7 and happy to have it. camera is not up to the mark in low light but overall a recommended phone if your budget allows 😀',\n",
       " \"I'm switching this phone to oppo reno 10x zoom\\nIt's really impressive\\nRarely I'm missing smooth display touch response like oppo reno but\\nI really loved it.\\nCamera really impressive\",\n",
       " 'Simply Awesome\\n\\nI have upgraded from iPhone 7 to iPhone 11.\\n\\n3110 mah Battery is good. I am not a heavy gamer. For official purpose, this is better than 12 mini.\\n\\nTotally impressed with battery performance.',\n",
       " 'Damn this phone is a blast . Upgraded from android to ios and is a duperb experience. Battery backup is top notch and display also pretty good',\n",
       " 'Worth the money’ starting first from its performance it beats out all phones , second the smoothness of camera is awesome, contrast ratio is much than expected. Price will not matter if u r a quality person, if not other phones are available with better discount',\n",
       " 'Worst product delivered by Flipkart\\nAfter 10days of delivery mobile will not work properly\\nVolume and silent buttons are not working.\\nNo worth to buy in Flipkart.\\nPlease don’t buy apple products in Flipkart']"
      ]
     },
     "execution_count": 241,
     "metadata": {},
     "output_type": "execute_result"
    }
   ],
   "source": [
    "Reviews_details_p8 = []\n",
    "\n",
    "for i in Review_Full_p8:\n",
    "    Reviews_details_p8.append(i.text)\n",
    "Reviews_details_p8"
   ]
  },
  {
   "cell_type": "code",
   "execution_count": 242,
   "id": "afce435e",
   "metadata": {},
   "outputs": [
    {
     "data": {
      "text/plain": [
       "9"
      ]
     },
     "execution_count": 242,
     "metadata": {},
     "output_type": "execute_result"
    }
   ],
   "source": [
    "Phone_Ratings_p9 = driver.find_elements(By.XPATH,'//div[@class=\"_3LWZlK _1BLPMq\"]')\n",
    "len(Phone_Ratings_p9)"
   ]
  },
  {
   "cell_type": "code",
   "execution_count": 243,
   "id": "aa4d0a4e",
   "metadata": {},
   "outputs": [
    {
     "data": {
      "text/plain": [
       "['5', '4', '5', '5', '5', '5', '5', '5', '5']"
      ]
     },
     "execution_count": 243,
     "metadata": {},
     "output_type": "execute_result"
    }
   ],
   "source": [
    "Ratings_p9 = []\n",
    "\n",
    "for i in Phone_Ratings_p9:\n",
    "    Ratings_p9.append(i.text)\n",
    "Ratings_p9"
   ]
  },
  {
   "cell_type": "code",
   "execution_count": 244,
   "id": "46bf00b6",
   "metadata": {},
   "outputs": [
    {
     "data": {
      "text/plain": [
       "10"
      ]
     },
     "execution_count": 244,
     "metadata": {},
     "output_type": "execute_result"
    }
   ],
   "source": [
    "Review_Summary_p9 = driver.find_elements(By.XPATH,'//p[@class=\"_2-N8zT\"]')\n",
    "len(Review_Summary_p9)"
   ]
  },
  {
   "cell_type": "code",
   "execution_count": 245,
   "id": "49493ec0",
   "metadata": {},
   "outputs": [
    {
     "data": {
      "text/plain": [
       "['Awesome',\n",
       " 'Value-for-money',\n",
       " 'Just wow!',\n",
       " 'Worthless',\n",
       " 'Super!',\n",
       " 'Perfect product!',\n",
       " 'Classy product',\n",
       " 'Worth every penny',\n",
       " 'Fabulous!',\n",
       " 'Mind-blowing purchase']"
      ]
     },
     "execution_count": 245,
     "metadata": {},
     "output_type": "execute_result"
    }
   ],
   "source": [
    "Reviews_p9 = []\n",
    "\n",
    "for i in Review_Summary_p9:\n",
    "    Reviews_p9.append(i.text)\n",
    "Reviews_p9"
   ]
  },
  {
   "cell_type": "code",
   "execution_count": 246,
   "id": "8c91c1b9",
   "metadata": {},
   "outputs": [
    {
     "data": {
      "text/plain": [
       "10"
      ]
     },
     "execution_count": 246,
     "metadata": {},
     "output_type": "execute_result"
    }
   ],
   "source": [
    "Review_Full_p9 = driver.find_elements(By.XPATH,'//div[@class=\"t-ZTKy\"]')\n",
    "len(Review_Full_p9)"
   ]
  },
  {
   "cell_type": "code",
   "execution_count": 247,
   "id": "77ede18d",
   "metadata": {
    "scrolled": true
   },
   "outputs": [
    {
     "data": {
      "text/plain": [
       "['I dreamt about this day from a long time.... Getting an iPhone with my own money.... Super happy and worth spending every penny',\n",
       " \"I'm Really happy with the product\\nDelivery was fast as well\\n..it was a gift for my sister and she loved it so much.\",\n",
       " 'Great iphone.\\nI am writing this review after 2 months of usage.\\nCamera is excellent, especially the nightmode\\nDisplay perfect\\nBattery backup awesome\\nSound quality very good\\nOverall Apple gives you a perfect iphone in this range.\\nReally in love with iPhone 11',\n",
       " \"Phone is awesome no doubt. But Camera & Display is not great. Performance is mind blowing.\\nBut the phone is heating too much when charging or when you regularly used. It's experience after using 1 week. It's heating extrem when I play PUBG for 30 minutes.\\nGo for iPhone 11 pro or 12. Otherwise go for Android phone you will get much better phone in less price.\",\n",
       " 'Did an upgrade from 6s plus to iphone 11.\\nAo far the experience is well and good. Felt smoother than 6s plus. The camera quality is superb. Battery backup is descent. Not a heavy user, and gets power more than a day. Go for it if you need an alrounder iphone in a competitve price.',\n",
       " 'Value for money\\n5 star rating\\nExcellent camera\\nBattery backup full day in single charge.\\n\\nTougher and water resistant design, glossy back.\\nThe screen has excellent brightness and contrast.\\nApple A13 Bionic is the fastest smartphone chip on the planet.\\nExcellent battery life, fast charging support.\\nStereo speakers with great quality.',\n",
       " 'Gifted my man on his 30th birthday 🎂 He loves it.. Him happy so i am more than happy 😍😘❤️🥰',\n",
       " \"It is better to buy iPhone 11 over iPhone 12 if you prioritize the camera,Its because the difference isn’t significantly huge except lowlight performance and Go for 128 GB variant rather than 64 GB because the system data alone contains 20 GB of data .\\nEven though it's 720p LCD display but it's better than todays Android's 1080p display. My phone was a 64GB mint green model and this one is really pretty especially in the real life. I can still get almost everything out of what i paid for at a...\\nREAD MORE\",\n",
       " 'Gift this to your loved ones fabulous product and amazing super fast delivery by flipkart',\n",
       " 'awesome Phone Smooth Touch Too good Sexyy looks one word Awesome']"
      ]
     },
     "execution_count": 247,
     "metadata": {},
     "output_type": "execute_result"
    }
   ],
   "source": [
    "Reviews_details_p9 = []\n",
    "\n",
    "for i in Review_Full_p9:\n",
    "    Reviews_details_p9.append(i.text)\n",
    "Reviews_details_p9"
   ]
  },
  {
   "cell_type": "code",
   "execution_count": 248,
   "id": "fa213ed5",
   "metadata": {},
   "outputs": [
    {
     "data": {
      "text/plain": [
       "10"
      ]
     },
     "execution_count": 248,
     "metadata": {},
     "output_type": "execute_result"
    }
   ],
   "source": [
    "Phone_Ratings_p10 = driver.find_elements(By.XPATH,'//div[@class=\"_3LWZlK _1BLPMq\"]')\n",
    "len(Phone_Ratings_p10)"
   ]
  },
  {
   "cell_type": "code",
   "execution_count": 249,
   "id": "ef690a61",
   "metadata": {},
   "outputs": [
    {
     "data": {
      "text/plain": [
       "['5', '5', '5', '5', '5', '5', '5', '5', '5', '5']"
      ]
     },
     "execution_count": 249,
     "metadata": {},
     "output_type": "execute_result"
    }
   ],
   "source": [
    "Ratings_p10 = []\n",
    "\n",
    "for i in Phone_Ratings_p10:\n",
    "    Ratings_p10.append(i.text)\n",
    "Ratings_p10"
   ]
  },
  {
   "cell_type": "code",
   "execution_count": 250,
   "id": "e863b294",
   "metadata": {},
   "outputs": [
    {
     "data": {
      "text/plain": [
       "10"
      ]
     },
     "execution_count": 250,
     "metadata": {},
     "output_type": "execute_result"
    }
   ],
   "source": [
    "Review_Summary_p10 = driver.find_elements(By.XPATH,'//p[@class=\"_2-N8zT\"]')\n",
    "len(Review_Summary_p10)"
   ]
  },
  {
   "cell_type": "code",
   "execution_count": 251,
   "id": "a72f50b9",
   "metadata": {},
   "outputs": [
    {
     "data": {
      "text/plain": [
       "['Excellent',\n",
       " 'Terrific',\n",
       " 'Excellent',\n",
       " 'Worth every penny',\n",
       " 'Excellent',\n",
       " 'Super!',\n",
       " 'Wonderful',\n",
       " 'Worth every penny',\n",
       " 'Best in the market!',\n",
       " 'Fabulous!']"
      ]
     },
     "execution_count": 251,
     "metadata": {},
     "output_type": "execute_result"
    }
   ],
   "source": [
    "Reviews_p10 = []\n",
    "\n",
    "for i in Review_Summary_p10:\n",
    "    Reviews_p10.append(i.text)\n",
    "Reviews_p10"
   ]
  },
  {
   "cell_type": "code",
   "execution_count": 252,
   "id": "b141319f",
   "metadata": {},
   "outputs": [
    {
     "data": {
      "text/plain": [
       "10"
      ]
     },
     "execution_count": 252,
     "metadata": {},
     "output_type": "execute_result"
    }
   ],
   "source": [
    "Review_Full_p10 = driver.find_elements(By.XPATH,'//div[@class=\"t-ZTKy\"]')\n",
    "len(Review_Full_p10)"
   ]
  },
  {
   "cell_type": "code",
   "execution_count": 253,
   "id": "89c73e27",
   "metadata": {
    "scrolled": true
   },
   "outputs": [
    {
     "data": {
      "text/plain": [
       "['A perfect phone and a good battery super camera and the sound is dynamic overall the phone is perfect for upgrading from lower iPhone model to iPhone 11',\n",
       " 'I bought iPhone 11 On March 2021, And I am Writing this review after using the phone for 4 Months. I would Say Everything is fine, Top Performance, Nice Camera as Anyone would Expect from any series of iPhone but when the Question comes to Battery it is complicated. The Battery is fully optimised and it comes 3110 mAh capacity but the problem is with the charger. Honestly Apple Removed charger from in Box items in the name of Environment and they are also forcing us to buy any 20W PD 3rd part...\\nREAD MORE',\n",
       " \"Just go for it.\\nThis phone is really amazing. I ordered it for my wife and we click photos on this thing which are better than dslr. I own OnePlus 6t but it's camera sucks. iPhone is really amazing when it comes to camera. It's worth spending 50k on this. Cons- only display is lcd. While using u don't feel it but if u compare with other phone then u can see difference quite easily.\\nChanging from Android to iphone is bit difficult coz most of things u don't know but I liked it. Some of the a...\\nREAD MORE\",\n",
       " 'Here is the thing\\n\\nThe only reason why you should buy this phone is for the camera, iOS, and if you have headaches looking at AMOLED display.\\n\\nI’m not an avid gamer but watch a lot of movies on smartphone. However, my migraine attacks increased considerably after using AMOLED Smartphone. That’s why I made a calculated decision to buy iPhone 11. It has the best LCD display and the blacks, though not as natural as an AMOLED, is better than some of the other smartphones.\\n\\nAdding to this the ste...\\nREAD MORE',\n",
       " \"It was amazing experience for me. Honestly i am using iPhone first time so I don't have that much past experience about that. But after using 7 days this mobile i want to give some honest feedback.\\n1- Display 9 out of 10\\n2- Camera 9.5 out of 10\\n3- Battery 7 out of 10\\n4- Performance 9.5 out of 10\\n5- Features & Functions 10 out of 10\\n6- Outer looks and colour 10 out of 10\\nRest i think i will understand after using this for few months.\\nI will highly recommend you guys if you have budget then you...\\nREAD MORE\",\n",
       " 'This is my first ever iPhone.\\nAnd I truly don’t regret switching to IOS from my Android.\\n\\nIt is easily an alternative to a DSLR camera.\\nIf you’re obsessed with photos and videos, just don’t think twice or don’t compare to other androids(Samsung S10 lite or OnePlus 8/8T), as it’s far better from them in every field.\\nComparing will only make you confused.\\n\\nI am getting an average Screen on Time of around 10 hours with 30 percent left. I haven’t let my device discharged below 30 % as it aff...\\nREAD MORE',\n",
       " 'Nice value for money good and best price I phone mind blowing camera processor very fast other android mobile I am happy India top selling phone 2020',\n",
       " 'Undoubtedly Iphone 11 is the most successful model till now and its performance is extraordinary and the security features are very impressive, display is more vibrant sound quality Camera Quality 5*****, but Iphone should add accessories too and act like scrooge.',\n",
       " 'Don’t expect much from front camera… especially who loves beauty mode and filters.. back cameras are good…video department is always plus point in iPhones… battery capacity is really surprising lasts for one day at least… performance always good and smooth… speaker’s quality is good…built quality best and haptic feedback is enjoyable…\\nNote : images are good after you edit',\n",
       " 'I purchased the iPhone 11 a month back. I must say Apple has impressed me yet again . I have been an Apple user for past 5 years . The phone is power packed with amazing features . What impressed me the most was the battery backup the phone offers . Battery can easily run upto 1.5 days in single charge with moderate to\\nHeavy usage . If you’re looking for a value for money device , I don’t see any other phone in the price range which can match the iPhone 11 .\\nOne thing I didn’t like was that ...\\nREAD MORE']"
      ]
     },
     "execution_count": 253,
     "metadata": {},
     "output_type": "execute_result"
    }
   ],
   "source": [
    "Reviews_details_p10 = []\n",
    "\n",
    "for i in Review_Full_p10:\n",
    "    Reviews_details_p10.append(i.text)\n",
    "Reviews_details_p10"
   ]
  },
  {
   "cell_type": "code",
   "execution_count": null,
   "id": "e8b05275",
   "metadata": {},
   "outputs": [],
   "source": []
  },
  {
   "cell_type": "markdown",
   "id": "24e22bb3",
   "metadata": {},
   "source": [
    "flipkart top 100 sneakers"
   ]
  },
  {
   "cell_type": "code",
   "execution_count": null,
   "id": "7be445f0",
   "metadata": {},
   "outputs": [],
   "source": []
  },
  {
   "cell_type": "code",
   "execution_count": null,
   "id": "7fa795cc",
   "metadata": {},
   "outputs": [],
   "source": []
  },
  {
   "cell_type": "code",
   "execution_count": 318,
   "id": "b4741511",
   "metadata": {},
   "outputs": [],
   "source": [
    "url = ' https://www.flipkart.com/'\n",
    "driver.get(url)"
   ]
  },
  {
   "cell_type": "code",
   "execution_count": 319,
   "id": "202953da",
   "metadata": {},
   "outputs": [
    {
     "data": {
      "text/plain": [
       "<selenium.webdriver.remote.webelement.WebElement (session=\"4229a3fc44cd0142f7d880617fa9db4f\", element=\"c7ecd012-61e4-4164-b83d-22d8395599cb\")>"
      ]
     },
     "execution_count": 319,
     "metadata": {},
     "output_type": "execute_result"
    }
   ],
   "source": [
    "sneakers = driver.find_element(By.CLASS_NAME,\"_3704LK\")\n",
    "sneakers"
   ]
  },
  {
   "cell_type": "code",
   "execution_count": 320,
   "id": "5525a39d",
   "metadata": {
    "scrolled": true
   },
   "outputs": [],
   "source": [
    "sneakers.send_keys(\"sneakers\")"
   ]
  },
  {
   "cell_type": "code",
   "execution_count": 257,
   "id": "74193032",
   "metadata": {},
   "outputs": [
    {
     "data": {
      "text/plain": [
       "<selenium.webdriver.remote.webelement.WebElement (session=\"1d7685a63174f278a42ee208712fda48\", element=\"03ea75e7-8949-4ce7-b0b0-ea092ff982f1\")>"
      ]
     },
     "execution_count": 257,
     "metadata": {},
     "output_type": "execute_result"
    }
   ],
   "source": [
    "Search_btn = driver.find_element(By.XPATH,'/html/body/div[1]/div/div[1]/div[1]/div[2]/div[2]/form/div/button')\n",
    "Search_btn"
   ]
  },
  {
   "cell_type": "code",
   "execution_count": 258,
   "id": "378c4f92",
   "metadata": {},
   "outputs": [],
   "source": [
    "Search_btn.click()"
   ]
  },
  {
   "cell_type": "code",
   "execution_count": 259,
   "id": "7998677e",
   "metadata": {},
   "outputs": [
    {
     "data": {
      "text/plain": [
       "40"
      ]
     },
     "execution_count": 259,
     "metadata": {},
     "output_type": "execute_result"
    }
   ],
   "source": [
    "Brand = driver.find_elements(By.XPATH,'//div[@class=\"_2WkVRV\"]')\n",
    "len(Brand)"
   ]
  },
  {
   "cell_type": "code",
   "execution_count": 260,
   "id": "d7bc9023",
   "metadata": {
    "scrolled": true
   },
   "outputs": [
    {
     "data": {
      "text/plain": [
       "['ZF - ALFIYA',\n",
       " 'RODDICK SHOES',\n",
       " 'BRUTON',\n",
       " 'Magnolia',\n",
       " 'URBANBOX',\n",
       " 'PUMA',\n",
       " 'BRUTON',\n",
       " 'Scull Wings',\n",
       " 'Absolute comfort',\n",
       " 'Chevit',\n",
       " 'Labbin',\n",
       " 'RODDICK SHOES',\n",
       " 'Robbie jones',\n",
       " 'aadi',\n",
       " 'KWIK FIT',\n",
       " 'luxury fashion',\n",
       " 'Dizzler',\n",
       " 'corsac',\n",
       " 'Kraasa',\n",
       " 'BUXBERRY',\n",
       " 'Kzaara',\n",
       " 'PUMA',\n",
       " 'HOTSTYLE',\n",
       " 'Lee Won',\n",
       " 'BRUTON',\n",
       " 'Noztile',\n",
       " 'BIRDE',\n",
       " 'Brainer',\n",
       " 'Deals4you',\n",
       " 'Kraasa',\n",
       " 'D-SNEAKERZ',\n",
       " 'STRANGER BROTHERS',\n",
       " 'BRUTON',\n",
       " 'Numenzo',\n",
       " 'BIRDE',\n",
       " 'kardam&sons',\n",
       " 'AMICO',\n",
       " 'PUMA',\n",
       " 'Deals4you',\n",
       " 'Myshtezia']"
      ]
     },
     "execution_count": 260,
     "metadata": {},
     "output_type": "execute_result"
    }
   ],
   "source": [
    "Brand_name = []\n",
    "\n",
    "for i in Brand:\n",
    "    Brand_name.append(i.text)\n",
    "Brand_name"
   ]
  },
  {
   "cell_type": "code",
   "execution_count": 261,
   "id": "a19ff6bb",
   "metadata": {},
   "outputs": [
    {
     "data": {
      "text/plain": [
       "34"
      ]
     },
     "execution_count": 261,
     "metadata": {},
     "output_type": "execute_result"
    }
   ],
   "source": [
    "Product_Description = driver.find_elements(By.XPATH,'//a[@class=\"IRpwTa\"]')\n",
    "len(Product_Description)"
   ]
  },
  {
   "cell_type": "code",
   "execution_count": 262,
   "id": "3809f5f6",
   "metadata": {
    "scrolled": true
   },
   "outputs": [
    {
     "data": {
      "text/plain": [
       "['Sneakers For Men',\n",
       " 'Fashion Outdoor Canvas Casual Light Weight Lace-up Even...',\n",
       " 'Modern Trendy Sneakers Shoes Sneakers For Men',\n",
       " 'Sneakers For Men',\n",
       " 'Puma Smash v2 L Sneakers For Men',\n",
       " 'Modern Trendy Sneakers Shoes Sneakers For Men',\n",
       " 'Sneakers For Men',\n",
       " 'Super Stylish & Trendy Combo Pack of 02 Pairs Sneakers ...',\n",
       " 'Sneakers For Men',\n",
       " 'Fashion Outdoor Canvas Casual Light Weight Lace-up Even...',\n",
       " 'Casual Sneakers Canvas Shoes For Men Sneakers For Men',\n",
       " 'Sneakers For Men',\n",
       " 'Kwik FIT casual sneaker shoes and partywear shoes Casua...',\n",
       " 'Luxuryfashion casual sneaker shoes Sneakers For Men',\n",
       " 'STYLISH MENS BLACK SNEAKER Sneakers For Men',\n",
       " 'Shark-41 Sneakers For Men',\n",
       " 'Sneakers For Men',\n",
       " 'x 1DER Rock V2 Sneakers For Men',\n",
       " 'Sneakers For Men',\n",
       " 'Lightweight Pack Of 1 Trendy Sneakers Sneakers For Men',\n",
       " 'Sneakers For Men',\n",
       " 'Stylish Comfortable Lightweight, Breathable Walking Sho...',\n",
       " 'Sneakers For Men',\n",
       " 'Sneakers For Men',\n",
       " 'Casuals, Canvas, Partywear Sneakers For Men',\n",
       " \"Casual , Partywear Sneakers Shoes For Men's And Boys Wh...\",\n",
       " 'Sneaker Sneakers For Men',\n",
       " '411 Casual Sneakers For Men',\n",
       " 'Stylish Comfortable Lightweight, Breathable Walking Sho...',\n",
       " 'Fashionable Canvas Casual Partywear Outdoor Sneakers Bl...',\n",
       " 'Sneakers For Men',\n",
       " 'Brave Sneakers For Men',\n",
       " 'Sneakers For Men',\n",
       " \"Solid Design Casual shoes For Girl's & Women's Sneakers...\"]"
      ]
     },
     "execution_count": 262,
     "metadata": {},
     "output_type": "execute_result"
    }
   ],
   "source": [
    "Description = []\n",
    "\n",
    "for i in Product_Description:\n",
    "    Description.append(i.text)\n",
    "Description"
   ]
  },
  {
   "cell_type": "code",
   "execution_count": 263,
   "id": "9686c509",
   "metadata": {},
   "outputs": [
    {
     "data": {
      "text/plain": [
       "40"
      ]
     },
     "execution_count": 263,
     "metadata": {},
     "output_type": "execute_result"
    }
   ],
   "source": [
    "Price = driver.find_elements(By.XPATH,'//div[@class=\"_30jeq3\"]')\n",
    "len(Price)"
   ]
  },
  {
   "cell_type": "code",
   "execution_count": 264,
   "id": "e4595f4e",
   "metadata": {
    "scrolled": true
   },
   "outputs": [
    {
     "data": {
      "text/plain": [
       "['₹449',\n",
       " '₹460',\n",
       " '₹284',\n",
       " '₹399',\n",
       " '₹219',\n",
       " '₹1,467',\n",
       " '₹299',\n",
       " '₹496',\n",
       " '₹249',\n",
       " '₹687',\n",
       " '₹449',\n",
       " '₹460',\n",
       " '₹449',\n",
       " '₹425',\n",
       " '₹397',\n",
       " '₹474',\n",
       " '₹449',\n",
       " '₹474',\n",
       " '₹479',\n",
       " '₹449',\n",
       " '₹254',\n",
       " '₹1,799',\n",
       " '₹268',\n",
       " '₹239',\n",
       " '₹199',\n",
       " '₹414',\n",
       " '₹442',\n",
       " '₹499',\n",
       " '₹399',\n",
       " '₹479',\n",
       " '₹299',\n",
       " '₹496',\n",
       " '₹284',\n",
       " '₹402',\n",
       " '₹442',\n",
       " '₹399',\n",
       " '₹494',\n",
       " '₹1,253',\n",
       " '₹404',\n",
       " '₹449']"
      ]
     },
     "execution_count": 264,
     "metadata": {},
     "output_type": "execute_result"
    }
   ],
   "source": [
    "Product_Price = []\n",
    "\n",
    "for i in Price:\n",
    "    Product_Price.append(i.text)\n",
    "Product_Price"
   ]
  },
  {
   "cell_type": "code",
   "execution_count": 266,
   "id": "a826191a",
   "metadata": {},
   "outputs": [],
   "source": [
    "Next_btn = driver.find_element(By.XPATH,'/html/body/div[1]/div/div[3]/div[1]/div[2]/div[12]/div/div/nav/a[11]')\n",
    "Next_btn.click()"
   ]
  },
  {
   "cell_type": "code",
   "execution_count": 267,
   "id": "9022851b",
   "metadata": {},
   "outputs": [
    {
     "data": {
      "text/plain": [
       "40"
      ]
     },
     "execution_count": 267,
     "metadata": {},
     "output_type": "execute_result"
    }
   ],
   "source": [
    "Brand_p2 = driver.find_elements(By.XPATH,'//div[@class=\"_2WkVRV\"]')\n",
    "len(Brand_p2)"
   ]
  },
  {
   "cell_type": "code",
   "execution_count": 268,
   "id": "63202efa",
   "metadata": {
    "scrolled": true
   },
   "outputs": [
    {
     "data": {
      "text/plain": [
       "['AMICO',\n",
       " 'PUMA',\n",
       " 'Deals4you',\n",
       " 'RED TAPE',\n",
       " 'SCATCHITE',\n",
       " 'PUMA',\n",
       " 'BRUTON',\n",
       " 'ZF - ALFIYA',\n",
       " 'AMICO',\n",
       " 'PUMA',\n",
       " 'RapidBox',\n",
       " 'Scull Wings',\n",
       " 'SPARX',\n",
       " 'aadi',\n",
       " 'Layasa',\n",
       " 'luxury fashion',\n",
       " 'PUMA',\n",
       " 'Rzisbo',\n",
       " 'luxury fashion',\n",
       " 'kardam&sons',\n",
       " 'Numenzo',\n",
       " 'ASTEROID',\n",
       " 'Shoes Bank',\n",
       " 'BUXBERRY',\n",
       " 'WHITE WALKERS',\n",
       " 'Layasa',\n",
       " 'Roadster',\n",
       " 'STRANGER BROTHERS',\n",
       " 'PEXLO',\n",
       " 'Xtoon',\n",
       " 'Z Blue',\n",
       " 'Lee Won',\n",
       " 'luxury fashion',\n",
       " 'CLYMB',\n",
       " 'Robbie jones',\n",
       " 'Myshtezia',\n",
       " 'Kraasa',\n",
       " 'aadi',\n",
       " 'Xtoon',\n",
       " 'RED TAPE']"
      ]
     },
     "execution_count": 268,
     "metadata": {},
     "output_type": "execute_result"
    }
   ],
   "source": [
    "Brand_name_p2 = []\n",
    "\n",
    "for i in Brand_p2:\n",
    "    Brand_name_p2.append(i.text)\n",
    "Brand_name_p2"
   ]
  },
  {
   "cell_type": "code",
   "execution_count": 269,
   "id": "60d0fd00",
   "metadata": {},
   "outputs": [
    {
     "data": {
      "text/plain": [
       "34"
      ]
     },
     "execution_count": 269,
     "metadata": {},
     "output_type": "execute_result"
    }
   ],
   "source": [
    "Product_Description_p2 = driver.find_elements(By.XPATH,'//a[@class=\"IRpwTa\"]')\n",
    "len(Product_Description_p2)"
   ]
  },
  {
   "cell_type": "code",
   "execution_count": 270,
   "id": "7f55a4ec",
   "metadata": {
    "scrolled": true
   },
   "outputs": [
    {
     "data": {
      "text/plain": [
       "['Sneakers For Men',\n",
       " 'Brave Sneakers For Men',\n",
       " 'Sneakers For Men',\n",
       " 'Sneakers For Men',\n",
       " 'Sneakers Sneakers For Men',\n",
       " 'x 1DER Rock V2 Sneakers For Men',\n",
       " 'Lattest Sneakers Shoe Sneakers For Men',\n",
       " 'Sneakers For Men',\n",
       " 'Sneakers For Men',\n",
       " 'Puma Smash v2 L Sneakers For Men',\n",
       " 'Men White Sneakers Sneakers For Men',\n",
       " 'Sneakers For Men',\n",
       " 'Sneakers For Men',\n",
       " 'Luxuryfashion casual sneaker shoes Sneakers For Men',\n",
       " 'Smash v2 L White- Black Sneakers For Men',\n",
       " 'Sneakers For Men',\n",
       " 'Luxury Fashionable casual sneaker shoes Sneakers For Me...',\n",
       " 'Fashionable Canvas Casual Partywear Outdoor Sneakers wh...',\n",
       " 'Sneakers For Men',\n",
       " 'Original Luxury Branded Black Fancy Casual Walking Part...',\n",
       " \"White Sneaker For Men's/Boy's Sneakers For Men\",\n",
       " 'Stylish & Trending Outdoor Walking Comfortable Sneakers...',\n",
       " 'Stylish Casual Sports Shoe Sneakers For Women',\n",
       " 'Sneakers For Men',\n",
       " 'Combo Pack of 3 Casual Shoes, Sneakers For Men',\n",
       " 'Modern Trendy Sneakers boot Sneakers For Men',\n",
       " 'Luxury Fashionable casual sneaker shoes Sneakers For Me...',\n",
       " 'Sneakers For Men',\n",
       " 'Casual Sneakers White Shoes For Men Sneakers For Men',\n",
       " \"Solid Design Casual shoes For Girl's & Women's Sneakers...\",\n",
       " 'Series 7 Sneakers For Men',\n",
       " 'Mesh | Ultralightweight | Comfortable | Breathable Walk...',\n",
       " 'Sneakers For Men',\n",
       " 'Sneakers For Men']"
      ]
     },
     "execution_count": 270,
     "metadata": {},
     "output_type": "execute_result"
    }
   ],
   "source": [
    "Description_p2 = []\n",
    "\n",
    "for i in Product_Description_p2:\n",
    "    Description_p2.append(i.text)\n",
    "Description_p2"
   ]
  },
  {
   "cell_type": "code",
   "execution_count": 271,
   "id": "7c9b0417",
   "metadata": {},
   "outputs": [
    {
     "data": {
      "text/plain": [
       "40"
      ]
     },
     "execution_count": 271,
     "metadata": {},
     "output_type": "execute_result"
    }
   ],
   "source": [
    "Price_p2 = driver.find_elements(By.XPATH,'//div[@class=\"_30jeq3\"]')\n",
    "len(Price_p2)"
   ]
  },
  {
   "cell_type": "code",
   "execution_count": 272,
   "id": "6b69c5b3",
   "metadata": {
    "scrolled": true
   },
   "outputs": [
    {
     "data": {
      "text/plain": [
       "['₹494',\n",
       " '₹1,253',\n",
       " '₹404',\n",
       " '₹1,174',\n",
       " '₹360',\n",
       " '₹1,799',\n",
       " '₹269',\n",
       " '₹449',\n",
       " '₹494',\n",
       " '₹1,423',\n",
       " '₹630',\n",
       " '₹496',\n",
       " '₹721',\n",
       " '₹299',\n",
       " '₹499',\n",
       " '₹474',\n",
       " '₹1,679',\n",
       " '₹464',\n",
       " '₹399',\n",
       " '₹398',\n",
       " '₹509',\n",
       " '₹474',\n",
       " '₹297',\n",
       " '₹449',\n",
       " '₹509',\n",
       " '₹479',\n",
       " '₹959',\n",
       " '₹496',\n",
       " '₹952',\n",
       " '₹499',\n",
       " '₹1,399',\n",
       " '₹239',\n",
       " '₹426',\n",
       " '₹579',\n",
       " '₹426',\n",
       " '₹449',\n",
       " '₹479',\n",
       " '₹999',\n",
       " '₹499',\n",
       " '₹818']"
      ]
     },
     "execution_count": 272,
     "metadata": {},
     "output_type": "execute_result"
    }
   ],
   "source": [
    "Product_Price_p2 = []\n",
    "\n",
    "for i in Price_p2:\n",
    "    Product_Price_p2.append(i.text)\n",
    "Product_Price_p2"
   ]
  },
  {
   "cell_type": "code",
   "execution_count": 273,
   "id": "9f738a7b",
   "metadata": {},
   "outputs": [],
   "source": [
    "Next_btn = driver.find_element(By.XPATH,'/html/body/div[1]/div/div[3]/div[1]/div[2]/div[12]/div/div/nav/a[12]')\n",
    "Next_btn.click()"
   ]
  },
  {
   "cell_type": "code",
   "execution_count": 277,
   "id": "de3bc1e2",
   "metadata": {},
   "outputs": [
    {
     "data": {
      "text/plain": [
       "40"
      ]
     },
     "execution_count": 277,
     "metadata": {},
     "output_type": "execute_result"
    }
   ],
   "source": [
    "Brand_p3 = driver.find_elements(By.XPATH,'//div[@class=\"_2WkVRV\"]')\n",
    "len(Brand_p3)"
   ]
  },
  {
   "cell_type": "code",
   "execution_count": 279,
   "id": "aeb6fa55",
   "metadata": {
    "scrolled": true
   },
   "outputs": [
    {
     "data": {
      "text/plain": [
       "['aadi',\n",
       " 'PUMA',\n",
       " 'Magnolia',\n",
       " 'RED TAPE',\n",
       " 'Xtoon',\n",
       " 'Magnolia',\n",
       " 'URBANBOX',\n",
       " 'ZF - ALFIYA',\n",
       " 'KNIGHT WALKERS',\n",
       " 'BRUTON',\n",
       " 'KNIGHT WALKERS',\n",
       " 'Scull Wings',\n",
       " 'WHITE WALKERS',\n",
       " 'India hub',\n",
       " 'T-ROCK',\n",
       " 'luxury fashion',\n",
       " 'Kzaara',\n",
       " 'Earton',\n",
       " 'STRYDER',\n",
       " 'BUXBERRY']"
      ]
     },
     "execution_count": 279,
     "metadata": {},
     "output_type": "execute_result"
    }
   ],
   "source": [
    "Brand_name_p3 = []\n",
    "\n",
    "for i in Brand_p3:\n",
    "    Brand_name_p3.append(i.text)\n",
    "Brand_name_p3[0:20]"
   ]
  },
  {
   "cell_type": "code",
   "execution_count": 280,
   "id": "771d90cd",
   "metadata": {},
   "outputs": [
    {
     "data": {
      "text/plain": [
       "29"
      ]
     },
     "execution_count": 280,
     "metadata": {},
     "output_type": "execute_result"
    }
   ],
   "source": [
    "Product_Description_p3 = driver.find_elements(By.XPATH,'//a[@class=\"IRpwTa\"]')\n",
    "len(Product_Description_p3)"
   ]
  },
  {
   "cell_type": "code",
   "execution_count": 282,
   "id": "ed8a5000",
   "metadata": {},
   "outputs": [
    {
     "data": {
      "text/plain": [
       "['Mesh | Ultralightweight | Comfortable | Breathable Walk...',\n",
       " 'ST Activate V2 Sneakers For Men',\n",
       " 'Sneakers For Men',\n",
       " 'Sneakers For Men',\n",
       " 'Sneakers For Men',\n",
       " 'Sneakers For Men',\n",
       " 'Sneakers For Men',\n",
       " 'Sneakers For Men',\n",
       " 'Modern Trendy Sneakers Shoes Sneakers For Men',\n",
       " 'SS1100 Sneakers For Men',\n",
       " 'Stylish & Trending Outdoor Walking Comfortable Sneakers...',\n",
       " 'Luxury Fashionable casual sneaker shoes Sneakers For Me...',\n",
       " 'Luxuryfashion casual sneaker shoes Sneakers For Men',\n",
       " 'Kzaara Sneakers Casual Canvas shoes | Branded Stylish O...',\n",
       " 'Casual Shoes For Men Waliking,Sneaker,Loafers,Canvas ca...',\n",
       " 'Sneakers For Men',\n",
       " 'Comfortable & Ultra Light Weight Sneaker Sneakers For M...',\n",
       " 'Sneakers For Men',\n",
       " 'Fashionable Canvas Casual Partywear Outdoor Sneakers Bl...',\n",
       " 'Sneakers For Men']"
      ]
     },
     "execution_count": 282,
     "metadata": {},
     "output_type": "execute_result"
    }
   ],
   "source": [
    "Description_p3 = []\n",
    "\n",
    "for i in Product_Description_p3:\n",
    "    Description_p3.append(i.text)\n",
    "Description_p3[0:20]"
   ]
  },
  {
   "cell_type": "code",
   "execution_count": 283,
   "id": "d5601943",
   "metadata": {},
   "outputs": [
    {
     "data": {
      "text/plain": [
       "40"
      ]
     },
     "execution_count": 283,
     "metadata": {},
     "output_type": "execute_result"
    }
   ],
   "source": [
    "Price_p3 = driver.find_elements(By.XPATH,'//div[@class=\"_30jeq3\"]')\n",
    "len(Price_p3)"
   ]
  },
  {
   "cell_type": "code",
   "execution_count": 284,
   "id": "61655156",
   "metadata": {
    "scrolled": true
   },
   "outputs": [
    {
     "data": {
      "text/plain": [
       "['₹999',\n",
       " '₹1,329',\n",
       " '₹377',\n",
       " '₹1,174',\n",
       " '₹499',\n",
       " '₹399',\n",
       " '₹179',\n",
       " '₹449',\n",
       " '₹615',\n",
       " '₹599',\n",
       " '₹664',\n",
       " '₹496',\n",
       " '₹509',\n",
       " '₹397',\n",
       " '₹399',\n",
       " '₹474',\n",
       " '₹244',\n",
       " '₹260',\n",
       " '₹198',\n",
       " '₹449']"
      ]
     },
     "execution_count": 284,
     "metadata": {},
     "output_type": "execute_result"
    }
   ],
   "source": [
    "Product_Price_p3 = []\n",
    "\n",
    "for i in Price_p3:\n",
    "    Product_Price_p3.append(i.text)\n",
    "Product_Price_p3[0:20]"
   ]
  },
  {
   "cell_type": "code",
   "execution_count": null,
   "id": "47a76ec6",
   "metadata": {},
   "outputs": [],
   "source": []
  },
  {
   "cell_type": "code",
   "execution_count": null,
   "id": "596a56c0",
   "metadata": {},
   "outputs": [],
   "source": []
  },
  {
   "cell_type": "code",
   "execution_count": null,
   "id": "9bda94ba",
   "metadata": {},
   "outputs": [],
   "source": []
  },
  {
   "cell_type": "code",
   "execution_count": null,
   "id": "cfdfcb42",
   "metadata": {},
   "outputs": [],
   "source": []
  },
  {
   "cell_type": "code",
   "execution_count": 332,
   "id": "8c5f8c03",
   "metadata": {
    "scrolled": true
   },
   "outputs": [],
   "source": [
    "url = ' https://www.ambitionbox.com/'\n",
    "driver.get(url)"
   ]
  },
  {
   "cell_type": "code",
   "execution_count": 336,
   "id": "52e49bd6",
   "metadata": {},
   "outputs": [
    {
     "data": {
      "text/plain": [
       "<selenium.webdriver.remote.webelement.WebElement (session=\"4229a3fc44cd0142f7d880617fa9db4f\", element=\"3e9fa6e5-231a-4c04-b4c8-8f2b3245fcd4\")>"
      ]
     },
     "execution_count": 336,
     "metadata": {},
     "output_type": "execute_result"
    }
   ],
   "source": [
    "Jobs = driver.find_element(By.CLASS_NAME,\"search-company\")\n",
    "Jobs"
   ]
  },
  {
   "cell_type": "code",
   "execution_count": 337,
   "id": "0b5821e4",
   "metadata": {},
   "outputs": [
    {
     "ename": "ElementNotInteractableException",
     "evalue": "Message: element not interactable\n  (Session info: chrome=103.0.5060.114)\nStacktrace:\nBacktrace:\n\tOrdinal0 [0x00686463+2188387]\n\tOrdinal0 [0x0061E461+1762401]\n\tOrdinal0 [0x00533C40+801856]\n\tOrdinal0 [0x0055CF63+970595]\n\tOrdinal0 [0x0055C63E+968254]\n\tOrdinal0 [0x0057C7DC+1099740]\n\tOrdinal0 [0x00557FF4+950260]\n\tOrdinal0 [0x0057C9F4+1100276]\n\tOrdinal0 [0x0058CC22+1166370]\n\tOrdinal0 [0x0057C5F6+1099254]\n\tOrdinal0 [0x00556BE0+945120]\n\tOrdinal0 [0x00557AD6+948950]\n\tGetHandleVerifier [0x009271F2+2712546]\n\tGetHandleVerifier [0x0091886D+2652765]\n\tGetHandleVerifier [0x0071002A+520730]\n\tGetHandleVerifier [0x0070EE06+516086]\n\tOrdinal0 [0x0062468B+1787531]\n\tOrdinal0 [0x00628E88+1805960]\n\tOrdinal0 [0x00628F75+1806197]\n\tOrdinal0 [0x00631DF1+1842673]\n\tBaseThreadInitThunk [0x76FEFA29+25]\n\tRtlGetAppContainerNamedObjectPath [0x77907A9E+286]\n\tRtlGetAppContainerNamedObjectPath [0x77907A6E+238]\n",
     "output_type": "error",
     "traceback": [
      "\u001b[1;31m---------------------------------------------------------------------------\u001b[0m",
      "\u001b[1;31mElementNotInteractableException\u001b[0m           Traceback (most recent call last)",
      "\u001b[1;32m~\\AppData\\Local\\Temp/ipykernel_16256/215655032.py\u001b[0m in \u001b[0;36m<module>\u001b[1;34m\u001b[0m\n\u001b[1;32m----> 1\u001b[1;33m \u001b[0mJobs\u001b[0m\u001b[1;33m.\u001b[0m\u001b[0msend_keys\u001b[0m\u001b[1;33m(\u001b[0m\u001b[1;34m\"Data Scientist\"\u001b[0m\u001b[1;33m)\u001b[0m\u001b[1;33m\u001b[0m\u001b[1;33m\u001b[0m\u001b[0m\n\u001b[0m",
      "\u001b[1;32m~\\Anaconda3\\lib\\site-packages\\selenium\\webdriver\\remote\\webelement.py\u001b[0m in \u001b[0;36msend_keys\u001b[1;34m(self, *value)\u001b[0m\n\u001b[0;32m    221\u001b[0m                 \u001b[0mvalue\u001b[0m \u001b[1;33m=\u001b[0m \u001b[1;34m'\\n'\u001b[0m\u001b[1;33m.\u001b[0m\u001b[0mjoin\u001b[0m\u001b[1;33m(\u001b[0m\u001b[0mremote_files\u001b[0m\u001b[1;33m)\u001b[0m\u001b[1;33m\u001b[0m\u001b[1;33m\u001b[0m\u001b[0m\n\u001b[0;32m    222\u001b[0m \u001b[1;33m\u001b[0m\u001b[0m\n\u001b[1;32m--> 223\u001b[1;33m         self._execute(Command.SEND_KEYS_TO_ELEMENT,\n\u001b[0m\u001b[0;32m    224\u001b[0m                       {'text': \"\".join(keys_to_typing(value)),\n\u001b[0;32m    225\u001b[0m                        'value': keys_to_typing(value)})\n",
      "\u001b[1;32m~\\Anaconda3\\lib\\site-packages\\selenium\\webdriver\\remote\\webelement.py\u001b[0m in \u001b[0;36m_execute\u001b[1;34m(self, command, params)\u001b[0m\n\u001b[0;32m    394\u001b[0m             \u001b[0mparams\u001b[0m \u001b[1;33m=\u001b[0m \u001b[1;33m{\u001b[0m\u001b[1;33m}\u001b[0m\u001b[1;33m\u001b[0m\u001b[1;33m\u001b[0m\u001b[0m\n\u001b[0;32m    395\u001b[0m         \u001b[0mparams\u001b[0m\u001b[1;33m[\u001b[0m\u001b[1;34m'id'\u001b[0m\u001b[1;33m]\u001b[0m \u001b[1;33m=\u001b[0m \u001b[0mself\u001b[0m\u001b[1;33m.\u001b[0m\u001b[0m_id\u001b[0m\u001b[1;33m\u001b[0m\u001b[1;33m\u001b[0m\u001b[0m\n\u001b[1;32m--> 396\u001b[1;33m         \u001b[1;32mreturn\u001b[0m \u001b[0mself\u001b[0m\u001b[1;33m.\u001b[0m\u001b[0m_parent\u001b[0m\u001b[1;33m.\u001b[0m\u001b[0mexecute\u001b[0m\u001b[1;33m(\u001b[0m\u001b[0mcommand\u001b[0m\u001b[1;33m,\u001b[0m \u001b[0mparams\u001b[0m\u001b[1;33m)\u001b[0m\u001b[1;33m\u001b[0m\u001b[1;33m\u001b[0m\u001b[0m\n\u001b[0m\u001b[0;32m    397\u001b[0m \u001b[1;33m\u001b[0m\u001b[0m\n\u001b[0;32m    398\u001b[0m     \u001b[1;32mdef\u001b[0m \u001b[0mfind_element\u001b[0m\u001b[1;33m(\u001b[0m\u001b[0mself\u001b[0m\u001b[1;33m,\u001b[0m \u001b[0mby\u001b[0m\u001b[1;33m=\u001b[0m\u001b[0mBy\u001b[0m\u001b[1;33m.\u001b[0m\u001b[0mID\u001b[0m\u001b[1;33m,\u001b[0m \u001b[0mvalue\u001b[0m\u001b[1;33m=\u001b[0m\u001b[1;32mNone\u001b[0m\u001b[1;33m)\u001b[0m \u001b[1;33m->\u001b[0m \u001b[0mWebElement\u001b[0m\u001b[1;33m:\u001b[0m\u001b[1;33m\u001b[0m\u001b[1;33m\u001b[0m\u001b[0m\n",
      "\u001b[1;32m~\\Anaconda3\\lib\\site-packages\\selenium\\webdriver\\remote\\webdriver.py\u001b[0m in \u001b[0;36mexecute\u001b[1;34m(self, driver_command, params)\u001b[0m\n\u001b[0;32m    433\u001b[0m         \u001b[0mresponse\u001b[0m \u001b[1;33m=\u001b[0m \u001b[0mself\u001b[0m\u001b[1;33m.\u001b[0m\u001b[0mcommand_executor\u001b[0m\u001b[1;33m.\u001b[0m\u001b[0mexecute\u001b[0m\u001b[1;33m(\u001b[0m\u001b[0mdriver_command\u001b[0m\u001b[1;33m,\u001b[0m \u001b[0mparams\u001b[0m\u001b[1;33m)\u001b[0m\u001b[1;33m\u001b[0m\u001b[1;33m\u001b[0m\u001b[0m\n\u001b[0;32m    434\u001b[0m         \u001b[1;32mif\u001b[0m \u001b[0mresponse\u001b[0m\u001b[1;33m:\u001b[0m\u001b[1;33m\u001b[0m\u001b[1;33m\u001b[0m\u001b[0m\n\u001b[1;32m--> 435\u001b[1;33m             \u001b[0mself\u001b[0m\u001b[1;33m.\u001b[0m\u001b[0merror_handler\u001b[0m\u001b[1;33m.\u001b[0m\u001b[0mcheck_response\u001b[0m\u001b[1;33m(\u001b[0m\u001b[0mresponse\u001b[0m\u001b[1;33m)\u001b[0m\u001b[1;33m\u001b[0m\u001b[1;33m\u001b[0m\u001b[0m\n\u001b[0m\u001b[0;32m    436\u001b[0m             response['value'] = self._unwrap_value(\n\u001b[0;32m    437\u001b[0m                 response.get('value', None))\n",
      "\u001b[1;32m~\\Anaconda3\\lib\\site-packages\\selenium\\webdriver\\remote\\errorhandler.py\u001b[0m in \u001b[0;36mcheck_response\u001b[1;34m(self, response)\u001b[0m\n\u001b[0;32m    245\u001b[0m                 \u001b[0malert_text\u001b[0m \u001b[1;33m=\u001b[0m \u001b[0mvalue\u001b[0m\u001b[1;33m[\u001b[0m\u001b[1;34m'alert'\u001b[0m\u001b[1;33m]\u001b[0m\u001b[1;33m.\u001b[0m\u001b[0mget\u001b[0m\u001b[1;33m(\u001b[0m\u001b[1;34m'text'\u001b[0m\u001b[1;33m)\u001b[0m\u001b[1;33m\u001b[0m\u001b[1;33m\u001b[0m\u001b[0m\n\u001b[0;32m    246\u001b[0m             \u001b[1;32mraise\u001b[0m \u001b[0mexception_class\u001b[0m\u001b[1;33m(\u001b[0m\u001b[0mmessage\u001b[0m\u001b[1;33m,\u001b[0m \u001b[0mscreen\u001b[0m\u001b[1;33m,\u001b[0m \u001b[0mstacktrace\u001b[0m\u001b[1;33m,\u001b[0m \u001b[0malert_text\u001b[0m\u001b[1;33m)\u001b[0m  \u001b[1;31m# type: ignore[call-arg]  # mypy is not smart enough here\u001b[0m\u001b[1;33m\u001b[0m\u001b[1;33m\u001b[0m\u001b[0m\n\u001b[1;32m--> 247\u001b[1;33m         \u001b[1;32mraise\u001b[0m \u001b[0mexception_class\u001b[0m\u001b[1;33m(\u001b[0m\u001b[0mmessage\u001b[0m\u001b[1;33m,\u001b[0m \u001b[0mscreen\u001b[0m\u001b[1;33m,\u001b[0m \u001b[0mstacktrace\u001b[0m\u001b[1;33m)\u001b[0m\u001b[1;33m\u001b[0m\u001b[1;33m\u001b[0m\u001b[0m\n\u001b[0m\u001b[0;32m    248\u001b[0m \u001b[1;33m\u001b[0m\u001b[0m\n\u001b[0;32m    249\u001b[0m     \u001b[1;32mdef\u001b[0m \u001b[0m_value_or_default\u001b[0m\u001b[1;33m(\u001b[0m\u001b[0mself\u001b[0m\u001b[1;33m,\u001b[0m \u001b[0mobj\u001b[0m\u001b[1;33m:\u001b[0m \u001b[0mMapping\u001b[0m\u001b[1;33m[\u001b[0m\u001b[0m_KT\u001b[0m\u001b[1;33m,\u001b[0m \u001b[0m_VT\u001b[0m\u001b[1;33m]\u001b[0m\u001b[1;33m,\u001b[0m \u001b[0mkey\u001b[0m\u001b[1;33m:\u001b[0m \u001b[0m_KT\u001b[0m\u001b[1;33m,\u001b[0m \u001b[0mdefault\u001b[0m\u001b[1;33m:\u001b[0m \u001b[0m_VT\u001b[0m\u001b[1;33m)\u001b[0m \u001b[1;33m->\u001b[0m \u001b[0m_VT\u001b[0m\u001b[1;33m:\u001b[0m\u001b[1;33m\u001b[0m\u001b[1;33m\u001b[0m\u001b[0m\n",
      "\u001b[1;31mElementNotInteractableException\u001b[0m: Message: element not interactable\n  (Session info: chrome=103.0.5060.114)\nStacktrace:\nBacktrace:\n\tOrdinal0 [0x00686463+2188387]\n\tOrdinal0 [0x0061E461+1762401]\n\tOrdinal0 [0x00533C40+801856]\n\tOrdinal0 [0x0055CF63+970595]\n\tOrdinal0 [0x0055C63E+968254]\n\tOrdinal0 [0x0057C7DC+1099740]\n\tOrdinal0 [0x00557FF4+950260]\n\tOrdinal0 [0x0057C9F4+1100276]\n\tOrdinal0 [0x0058CC22+1166370]\n\tOrdinal0 [0x0057C5F6+1099254]\n\tOrdinal0 [0x00556BE0+945120]\n\tOrdinal0 [0x00557AD6+948950]\n\tGetHandleVerifier [0x009271F2+2712546]\n\tGetHandleVerifier [0x0091886D+2652765]\n\tGetHandleVerifier [0x0071002A+520730]\n\tGetHandleVerifier [0x0070EE06+516086]\n\tOrdinal0 [0x0062468B+1787531]\n\tOrdinal0 [0x00628E88+1805960]\n\tOrdinal0 [0x00628F75+1806197]\n\tOrdinal0 [0x00631DF1+1842673]\n\tBaseThreadInitThunk [0x76FEFA29+25]\n\tRtlGetAppContainerNamedObjectPath [0x77907A9E+286]\n\tRtlGetAppContainerNamedObjectPath [0x77907A6E+238]\n"
     ]
    }
   ],
   "source": [
    "Jobs.send_keys(\"Data Scientist\")"
   ]
  },
  {
   "cell_type": "code",
   "execution_count": null,
   "id": "f4f0bae0",
   "metadata": {},
   "outputs": [],
   "source": []
  },
  {
   "cell_type": "code",
   "execution_count": 326,
   "id": "c5c246a7",
   "metadata": {},
   "outputs": [
    {
     "data": {
      "text/plain": [
       "<selenium.webdriver.remote.webelement.WebElement (session=\"4229a3fc44cd0142f7d880617fa9db4f\", element=\"19353a4e-eaf8-432e-9f69-97e69c159f3b\")>"
      ]
     },
     "execution_count": 326,
     "metadata": {},
     "output_type": "execute_result"
    }
   ],
   "source": [
    "Search_btn = driver.find_element(By.XPATH,'/html/body/div[1]/header/div/div[1]/div[2]/div/form/div[2]/div[1]/input')\n",
    "Search_btn"
   ]
  },
  {
   "cell_type": "code",
   "execution_count": null,
   "id": "1c815a9c",
   "metadata": {},
   "outputs": [],
   "source": []
  }
 ],
 "metadata": {
  "kernelspec": {
   "display_name": "Python 3 (ipykernel)",
   "language": "python",
   "name": "python3"
  },
  "language_info": {
   "codemirror_mode": {
    "name": "ipython",
    "version": 3
   },
   "file_extension": ".py",
   "mimetype": "text/x-python",
   "name": "python",
   "nbconvert_exporter": "python",
   "pygments_lexer": "ipython3",
   "version": "3.9.7"
  }
 },
 "nbformat": 4,
 "nbformat_minor": 5
}
