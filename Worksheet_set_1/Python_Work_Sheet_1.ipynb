{
 "cells": [
  {
   "cell_type": "code",
   "execution_count": 1,
   "id": "d061a854",
   "metadata": {},
   "outputs": [],
   "source": [
    "# Python program to find factorial of given number\n",
    "\n",
    "def Factorial(n):\n",
    "    if n < 0:\n",
    "        return 0\n",
    "    elif n == 0 or n ==1:\n",
    "        return 1\n",
    "    else:\n",
    "        fact = 1\n",
    "        while(n>1):\n",
    "            fact*=n\n",
    "            n -=1\n",
    "        return fact"
   ]
  },
  {
   "cell_type": "code",
   "execution_count": 2,
   "id": "948a13e0",
   "metadata": {
    "scrolled": true
   },
   "outputs": [
    {
     "name": "stdout",
     "output_type": "stream",
     "text": [
      "Enter Any Number Here: 10\n",
      "Factorial of 10 is 3628800\n"
     ]
    }
   ],
   "source": [
    "number = int(input('Enter Any Number Here: '))\n",
    "print ('Factorial of',number,'is',Factorial(number))"
   ]
  },
  {
   "cell_type": "code",
   "execution_count": 3,
   "id": "401c5f67",
   "metadata": {},
   "outputs": [
    {
     "name": "stdout",
     "output_type": "stream",
     "text": [
      "Enter any Number : 29\n",
      "29 is Prime Number\n"
     ]
    }
   ],
   "source": [
    "#Python program to find whether a number is prime or composite\n",
    "\n",
    "num=int(input(\"Enter any Number : \"))\n",
    "count=0\n",
    "for a in range(2,num):\n",
    "    if num%a==0:\n",
    "        count+=1\n",
    "if count>=1:\n",
    "    print(num, \"is Composite Number\")\n",
    "else:\n",
    "    print(num, \"is Prime Number\")"
   ]
  },
  {
   "cell_type": "code",
   "execution_count": 4,
   "id": "913fc196",
   "metadata": {},
   "outputs": [
    {
     "name": "stdout",
     "output_type": "stream",
     "text": [
      "Enter the string to check if it is a palindrome: Level\n",
      "The String Is Palindrom.\n"
     ]
    }
   ],
   "source": [
    "#python program to check whether a given string is palindrome or not.\n",
    "\n",
    "String = input('Enter the string to check if it is a palindrome: ')\n",
    "String = String.casefold()\n",
    "rev_String = reversed (String)\n",
    "if list(String) == list (rev_String):\n",
    "    print('The String Is Palindrom.')\n",
    "else:\n",
    "    print('The string is not a palindrome.')"
   ]
  },
  {
   "cell_type": "code",
   "execution_count": 5,
   "id": "65155391",
   "metadata": {},
   "outputs": [
    {
     "name": "stdout",
     "output_type": "stream",
     "text": [
      "Enter base: 4\n",
      "Enter height: 6\n",
      "Enter angle: 45\n",
      "Hypotenuse = 7.211102550927978\n"
     ]
    }
   ],
   "source": [
    "#Python program to get the third side of right-angled triangle from two given sides\n",
    "\n",
    "import math\n",
    "\n",
    "a = float(input(\"Enter base: \"))\n",
    "b = float(input(\"Enter height: \"))\n",
    "x = float(input(\"Enter angle: \"))\n",
    "\n",
    "c = math.sqrt(a ** 2 + b ** 2)\n",
    "\n",
    "print(\"Hypotenuse =\", c)"
   ]
  },
  {
   "cell_type": "code",
   "execution_count": 6,
   "id": "621eb8e0",
   "metadata": {},
   "outputs": [
    {
     "name": "stdout",
     "output_type": "stream",
     "text": [
      "The count of all characters in fliprobo Technologies is :\n",
      " {'e': 2, 'b': 1, 'g': 1, 'l': 2, 'i': 2, 'r': 1, 'c': 1, 'f': 1, 'p': 1, 'n': 1, 'T': 1, ' ': 1, 's': 1, 'h': 1, 'o': 4}\n"
     ]
    }
   ],
   "source": [
    "# python program to print the frequency of each of the characters present in a given string.\n",
    "\n",
    "String = 'fliprobo Technologies'\n",
    "res = {i : String.count(i) for i in set(String)}\n",
    "  \n",
    "print (\"The count of all characters in fliprobo Technologies is :\\n \"\n",
    "                                               +  str(res))"
   ]
  },
  {
   "cell_type": "code",
   "execution_count": null,
   "id": "7c536e7c",
   "metadata": {},
   "outputs": [],
   "source": []
  }
 ],
 "metadata": {
  "kernelspec": {
   "display_name": "Python 3 (ipykernel)",
   "language": "python",
   "name": "python3"
  },
  "language_info": {
   "codemirror_mode": {
    "name": "ipython",
    "version": 3
   },
   "file_extension": ".py",
   "mimetype": "text/x-python",
   "name": "python",
   "nbconvert_exporter": "python",
   "pygments_lexer": "ipython3",
   "version": "3.9.7"
  }
 },
 "nbformat": 4,
 "nbformat_minor": 5
}
